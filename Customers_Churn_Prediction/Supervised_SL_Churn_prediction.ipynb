{
 "cells": [
  {
   "cell_type": "markdown",
   "metadata": {},
   "source": [
    "### Libraries:"
   ]
  },
  {
   "cell_type": "code",
   "execution_count": 198,
   "metadata": {},
   "outputs": [],
   "source": [
    "#Core:\n",
    "\n",
    "import numpy as np\n",
    "import pandas as pd\n",
    "import matplotlib.pyplot as plt\n",
    "import seaborn as sns\n",
    "from io import BytesIO\n",
    "from zipfile import ZipFile\n",
    "import requests\n",
    "import warnings\n",
    "warnings.filterwarnings(\"ignore\")\n",
    "\n",
    "#Data preprocessing:\n",
    "\n",
    "from scipy.stats import norm\n",
    "from sklearn.preprocessing import PolynomialFeatures\n",
    "from sklearn.ensemble import ExtraTreesClassifier\n",
    "from imblearn.over_sampling import SMOTE\n",
    "from imblearn.under_sampling import RandomUnderSampler\n",
    "from imblearn.pipeline import Pipeline\n",
    "from sklearn.model_selection import train_test_split\n",
    "\n",
    "#Machine Learning:\n",
    "\n",
    "from sklearn.model_selection import GridSearchCV\n",
    "from sklearn.linear_model import LogisticRegression\n",
    "from sklearn.metrics import accuracy_score, recall_score, precision_score, f1_score, confusion_matrix\n"
   ]
  },
  {
   "cell_type": "markdown",
   "metadata": {},
   "source": [
    "### Import Data:"
   ]
  },
  {
   "cell_type": "code",
   "execution_count": 2,
   "metadata": {},
   "outputs": [],
   "source": [
    "url = 'https://github.com/manugaco/ML_User_Cases/blob/master/Datasets/Customers/Customer_Churn.zip?raw=true'\n",
    "zip = ZipFile(BytesIO(requests.get(url).content), 'r')\n",
    "df = pd.read_csv(zip.open(zip.namelist()[0]), low_memory=False, encoding=\"ISO-8859-1\")"
   ]
  },
  {
   "cell_type": "markdown",
   "metadata": {},
   "source": [
    "### Auxiliary functions:"
   ]
  },
  {
   "cell_type": "code",
   "execution_count": 3,
   "metadata": {},
   "outputs": [],
   "source": [
    "def desc_var(data, name, isid=False):\n",
    "    print('Exploring column:', name)\n",
    "    if isid==True:\n",
    "        print('Number of duplicated entries in the variable '+ str(name) + ' = ' + str(data[name].duplicated().sum()))\n",
    "    print('Number of distinct entries in the variable '+ str(name) + ' = ' + str(data[name].nunique()))\n",
    "    print('Number of missing entries in the variable '+ str(name) + ' = ' + str(data[name].isnull().sum()))\n",
    "    print('The data type of the column ' + str(name) + ' is ' + str(datatypes[name]))\n",
    "\n",
    "\n",
    "def desc_num_var(data, name):\n",
    "    print('Exploring numberic variable: ', name)\n",
    "    print(data[name].describe())\n",
    "\n",
    "\n",
    "def feat_sel(df_features, target):\n",
    "\n",
    "    X = df_features.values\n",
    "    Y = target.values\n",
    "    \n",
    "    # feature extraction\n",
    "    model = ExtraTreesClassifier(n_estimators=10)\n",
    "    model.fit(X, Y)\n",
    "    importances = model.feature_importances_\n",
    "    imp_bool = importances > importances.mean()\n",
    "    imp_cols = [df_features.columns[i] for i in range(len(imp_bool)) if imp_bool[i] == True]\n",
    "    output =  df_features[imp_cols]\n",
    "    \n",
    "    return(output)\n",
    "\n",
    "def drop_cor(tabla, threshold):\n",
    "    \n",
    "    cor_mat = tabla.corr().abs()\n",
    "    up = cor_mat.where(np.triu(np.ones(cor_mat.shape), k=1).astype(np.bool))\n",
    "    to_drop = [column for column in up.columns if any(up[column] > threshold)]\n",
    "    output = tabla.drop(to_drop, axis=1)\n",
    "    return(output)\n",
    "\n",
    "def balance_data(X, y, under_s, over_s, balan = True):\n",
    "    \n",
    "    if(balan == True):\n",
    "        if((under_s[0] == True) and (over_s[0] == True)):\n",
    "            under = RandomUnderSampler(sampling_strategy=under_s[1])\n",
    "            over = SMOTE(sampling_strategy=over_s[1])\n",
    "            steps = [('u', under), ('o', over)]\n",
    "        elif((under_s[0] == True) and (over_s[0] == False)):\n",
    "            under = RandomUnderSampler(sampling_strategy=under_s[1])\n",
    "            steps = [('u', under)]\n",
    "        elif((under_s[0] == False) and (over_s[0] == True)):\n",
    "            over = SMOTE(sampling_strategy=over_s[1])\n",
    "            steps = [('o', over)]\n",
    "        pipeline = Pipeline(steps=steps)\n",
    "        X, y = pipeline.fit_resample(X, y)\n",
    "    \n",
    "    return(y, X)\n"
   ]
  },
  {
   "cell_type": "markdown",
   "metadata": {},
   "source": [
    "### Exploratory Data Analysis:"
   ]
  },
  {
   "cell_type": "markdown",
   "metadata": {},
   "source": [
    "#### Dataset overview"
   ]
  },
  {
   "cell_type": "code",
   "execution_count": 4,
   "metadata": {},
   "outputs": [
    {
     "data": {
      "text/html": [
       "<div>\n",
       "<style scoped>\n",
       "    .dataframe tbody tr th:only-of-type {\n",
       "        vertical-align: middle;\n",
       "    }\n",
       "\n",
       "    .dataframe tbody tr th {\n",
       "        vertical-align: top;\n",
       "    }\n",
       "\n",
       "    .dataframe thead th {\n",
       "        text-align: right;\n",
       "    }\n",
       "</style>\n",
       "<table border=\"1\" class=\"dataframe\">\n",
       "  <thead>\n",
       "    <tr style=\"text-align: right;\">\n",
       "      <th></th>\n",
       "      <th>customerID</th>\n",
       "      <th>gender</th>\n",
       "      <th>SeniorCitizen</th>\n",
       "      <th>Partner</th>\n",
       "      <th>Dependents</th>\n",
       "      <th>tenure</th>\n",
       "      <th>PhoneService</th>\n",
       "      <th>MultipleLines</th>\n",
       "      <th>InternetService</th>\n",
       "      <th>OnlineSecurity</th>\n",
       "      <th>...</th>\n",
       "      <th>DeviceProtection</th>\n",
       "      <th>TechSupport</th>\n",
       "      <th>StreamingTV</th>\n",
       "      <th>StreamingMovies</th>\n",
       "      <th>Contract</th>\n",
       "      <th>PaperlessBilling</th>\n",
       "      <th>PaymentMethod</th>\n",
       "      <th>MonthlyCharges</th>\n",
       "      <th>TotalCharges</th>\n",
       "      <th>Churn</th>\n",
       "    </tr>\n",
       "  </thead>\n",
       "  <tbody>\n",
       "    <tr>\n",
       "      <th>0</th>\n",
       "      <td>7590-VHVEG</td>\n",
       "      <td>Female</td>\n",
       "      <td>0</td>\n",
       "      <td>Yes</td>\n",
       "      <td>No</td>\n",
       "      <td>1</td>\n",
       "      <td>No</td>\n",
       "      <td>No phone service</td>\n",
       "      <td>DSL</td>\n",
       "      <td>No</td>\n",
       "      <td>...</td>\n",
       "      <td>No</td>\n",
       "      <td>No</td>\n",
       "      <td>No</td>\n",
       "      <td>No</td>\n",
       "      <td>Month-to-month</td>\n",
       "      <td>Yes</td>\n",
       "      <td>Electronic check</td>\n",
       "      <td>29.85</td>\n",
       "      <td>29.85</td>\n",
       "      <td>No</td>\n",
       "    </tr>\n",
       "    <tr>\n",
       "      <th>1</th>\n",
       "      <td>5575-GNVDE</td>\n",
       "      <td>Male</td>\n",
       "      <td>0</td>\n",
       "      <td>No</td>\n",
       "      <td>No</td>\n",
       "      <td>34</td>\n",
       "      <td>Yes</td>\n",
       "      <td>No</td>\n",
       "      <td>DSL</td>\n",
       "      <td>Yes</td>\n",
       "      <td>...</td>\n",
       "      <td>Yes</td>\n",
       "      <td>No</td>\n",
       "      <td>No</td>\n",
       "      <td>No</td>\n",
       "      <td>One year</td>\n",
       "      <td>No</td>\n",
       "      <td>Mailed check</td>\n",
       "      <td>56.95</td>\n",
       "      <td>1889.5</td>\n",
       "      <td>No</td>\n",
       "    </tr>\n",
       "    <tr>\n",
       "      <th>2</th>\n",
       "      <td>3668-QPYBK</td>\n",
       "      <td>Male</td>\n",
       "      <td>0</td>\n",
       "      <td>No</td>\n",
       "      <td>No</td>\n",
       "      <td>2</td>\n",
       "      <td>Yes</td>\n",
       "      <td>No</td>\n",
       "      <td>DSL</td>\n",
       "      <td>Yes</td>\n",
       "      <td>...</td>\n",
       "      <td>No</td>\n",
       "      <td>No</td>\n",
       "      <td>No</td>\n",
       "      <td>No</td>\n",
       "      <td>Month-to-month</td>\n",
       "      <td>Yes</td>\n",
       "      <td>Mailed check</td>\n",
       "      <td>53.85</td>\n",
       "      <td>108.15</td>\n",
       "      <td>Yes</td>\n",
       "    </tr>\n",
       "    <tr>\n",
       "      <th>3</th>\n",
       "      <td>7795-CFOCW</td>\n",
       "      <td>Male</td>\n",
       "      <td>0</td>\n",
       "      <td>No</td>\n",
       "      <td>No</td>\n",
       "      <td>45</td>\n",
       "      <td>No</td>\n",
       "      <td>No phone service</td>\n",
       "      <td>DSL</td>\n",
       "      <td>Yes</td>\n",
       "      <td>...</td>\n",
       "      <td>Yes</td>\n",
       "      <td>Yes</td>\n",
       "      <td>No</td>\n",
       "      <td>No</td>\n",
       "      <td>One year</td>\n",
       "      <td>No</td>\n",
       "      <td>Bank transfer (automatic)</td>\n",
       "      <td>42.30</td>\n",
       "      <td>1840.75</td>\n",
       "      <td>No</td>\n",
       "    </tr>\n",
       "    <tr>\n",
       "      <th>4</th>\n",
       "      <td>9237-HQITU</td>\n",
       "      <td>Female</td>\n",
       "      <td>0</td>\n",
       "      <td>No</td>\n",
       "      <td>No</td>\n",
       "      <td>2</td>\n",
       "      <td>Yes</td>\n",
       "      <td>No</td>\n",
       "      <td>Fiber optic</td>\n",
       "      <td>No</td>\n",
       "      <td>...</td>\n",
       "      <td>No</td>\n",
       "      <td>No</td>\n",
       "      <td>No</td>\n",
       "      <td>No</td>\n",
       "      <td>Month-to-month</td>\n",
       "      <td>Yes</td>\n",
       "      <td>Electronic check</td>\n",
       "      <td>70.70</td>\n",
       "      <td>151.65</td>\n",
       "      <td>Yes</td>\n",
       "    </tr>\n",
       "  </tbody>\n",
       "</table>\n",
       "<p>5 rows × 21 columns</p>\n",
       "</div>"
      ],
      "text/plain": [
       "   customerID  gender  SeniorCitizen Partner Dependents  tenure PhoneService  \\\n",
       "0  7590-VHVEG  Female              0     Yes         No       1           No   \n",
       "1  5575-GNVDE    Male              0      No         No      34          Yes   \n",
       "2  3668-QPYBK    Male              0      No         No       2          Yes   \n",
       "3  7795-CFOCW    Male              0      No         No      45           No   \n",
       "4  9237-HQITU  Female              0      No         No       2          Yes   \n",
       "\n",
       "      MultipleLines InternetService OnlineSecurity  ... DeviceProtection  \\\n",
       "0  No phone service             DSL             No  ...               No   \n",
       "1                No             DSL            Yes  ...              Yes   \n",
       "2                No             DSL            Yes  ...               No   \n",
       "3  No phone service             DSL            Yes  ...              Yes   \n",
       "4                No     Fiber optic             No  ...               No   \n",
       "\n",
       "  TechSupport StreamingTV StreamingMovies        Contract PaperlessBilling  \\\n",
       "0          No          No              No  Month-to-month              Yes   \n",
       "1          No          No              No        One year               No   \n",
       "2          No          No              No  Month-to-month              Yes   \n",
       "3         Yes          No              No        One year               No   \n",
       "4          No          No              No  Month-to-month              Yes   \n",
       "\n",
       "               PaymentMethod MonthlyCharges  TotalCharges Churn  \n",
       "0           Electronic check          29.85         29.85    No  \n",
       "1               Mailed check          56.95        1889.5    No  \n",
       "2               Mailed check          53.85        108.15   Yes  \n",
       "3  Bank transfer (automatic)          42.30       1840.75    No  \n",
       "4           Electronic check          70.70        151.65   Yes  \n",
       "\n",
       "[5 rows x 21 columns]"
      ]
     },
     "execution_count": 4,
     "metadata": {},
     "output_type": "execute_result"
    }
   ],
   "source": [
    "df.head()"
   ]
  },
  {
   "cell_type": "markdown",
   "metadata": {},
   "source": [
    "#### Dataset shape"
   ]
  },
  {
   "cell_type": "code",
   "execution_count": 5,
   "metadata": {},
   "outputs": [
    {
     "name": "stdout",
     "output_type": "stream",
     "text": [
      "The dataset shape is:  (7043, 21)\n"
     ]
    }
   ],
   "source": [
    "print('The dataset shape is: ', df.shape)"
   ]
  },
  {
   "cell_type": "markdown",
   "metadata": {},
   "source": [
    "#### Variable exploration: Univariate EDA"
   ]
  },
  {
   "cell_type": "code",
   "execution_count": 6,
   "metadata": {},
   "outputs": [],
   "source": [
    "colnames = df.columns\n",
    "datatypes = df.dtypes"
   ]
  },
  {
   "cell_type": "markdown",
   "metadata": {},
   "source": [
    "##### Customer ID:"
   ]
  },
  {
   "cell_type": "code",
   "execution_count": 7,
   "metadata": {},
   "outputs": [
    {
     "name": "stdout",
     "output_type": "stream",
     "text": [
      "Exploring column: customerID\n",
      "Number of duplicated entries in the variable customerID = 0\n",
      "Number of distinct entries in the variable customerID = 7043\n",
      "Number of missing entries in the variable customerID = 0\n",
      "The data type of the column customerID is object\n"
     ]
    }
   ],
   "source": [
    "desc_var(df, colnames[0], isid=True)"
   ]
  },
  {
   "cell_type": "code",
   "execution_count": 8,
   "metadata": {},
   "outputs": [],
   "source": [
    "df = df.reset_index(drop=True).set_index('customerID')"
   ]
  },
  {
   "cell_type": "markdown",
   "metadata": {},
   "source": [
    "The id variable has no duplicated nor missing entries. This variable is set as index."
   ]
  },
  {
   "cell_type": "markdown",
   "metadata": {},
   "source": [
    "##### Gender:"
   ]
  },
  {
   "cell_type": "code",
   "execution_count": 9,
   "metadata": {},
   "outputs": [
    {
     "name": "stdout",
     "output_type": "stream",
     "text": [
      "Exploring column: gender\n",
      "Number of distinct entries in the variable gender = 2\n",
      "Number of missing entries in the variable gender = 0\n",
      "The data type of the column gender is object\n"
     ]
    }
   ],
   "source": [
    "desc_var(df, colnames[1])"
   ]
  },
  {
   "cell_type": "code",
   "execution_count": 10,
   "metadata": {},
   "outputs": [
    {
     "data": {
      "text/plain": [
       "Male      3555\n",
       "Female    3488\n",
       "Name: gender, dtype: int64"
      ]
     },
     "execution_count": 10,
     "metadata": {},
     "output_type": "execute_result"
    }
   ],
   "source": [
    "df[colnames[1]].value_counts()"
   ]
  },
  {
   "cell_type": "code",
   "execution_count": 11,
   "metadata": {},
   "outputs": [
    {
     "data": {
      "text/html": [
       "<div>\n",
       "<style scoped>\n",
       "    .dataframe tbody tr th:only-of-type {\n",
       "        vertical-align: middle;\n",
       "    }\n",
       "\n",
       "    .dataframe tbody tr th {\n",
       "        vertical-align: top;\n",
       "    }\n",
       "\n",
       "    .dataframe thead th {\n",
       "        text-align: right;\n",
       "    }\n",
       "</style>\n",
       "<table border=\"1\" class=\"dataframe\">\n",
       "  <thead>\n",
       "    <tr style=\"text-align: right;\">\n",
       "      <th>Churn</th>\n",
       "      <th>No</th>\n",
       "      <th>Yes</th>\n",
       "    </tr>\n",
       "    <tr>\n",
       "      <th>gender</th>\n",
       "      <th></th>\n",
       "      <th></th>\n",
       "    </tr>\n",
       "  </thead>\n",
       "  <tbody>\n",
       "    <tr>\n",
       "      <th>Female</th>\n",
       "      <td>2549</td>\n",
       "      <td>939</td>\n",
       "    </tr>\n",
       "    <tr>\n",
       "      <th>Male</th>\n",
       "      <td>2625</td>\n",
       "      <td>930</td>\n",
       "    </tr>\n",
       "  </tbody>\n",
       "</table>\n",
       "</div>"
      ],
      "text/plain": [
       "Churn     No  Yes\n",
       "gender           \n",
       "Female  2549  939\n",
       "Male    2625  930"
      ]
     },
     "execution_count": 11,
     "metadata": {},
     "output_type": "execute_result"
    }
   ],
   "source": [
    "pd.crosstab(df[colnames[1]], df['Churn'])"
   ]
  },
  {
   "cell_type": "markdown",
   "metadata": {},
   "source": [
    "The variable gender is a good candidate to be excluded from the model, because it does not discriminate between classes."
   ]
  },
  {
   "cell_type": "markdown",
   "metadata": {},
   "source": [
    "##### Senior Citizen:"
   ]
  },
  {
   "cell_type": "code",
   "execution_count": 12,
   "metadata": {},
   "outputs": [
    {
     "name": "stdout",
     "output_type": "stream",
     "text": [
      "Exploring column: SeniorCitizen\n",
      "Number of distinct entries in the variable SeniorCitizen = 2\n",
      "Number of missing entries in the variable SeniorCitizen = 0\n",
      "The data type of the column SeniorCitizen is int64\n"
     ]
    }
   ],
   "source": [
    "desc_var(df, colnames[2])"
   ]
  },
  {
   "cell_type": "code",
   "execution_count": 13,
   "metadata": {},
   "outputs": [
    {
     "data": {
      "text/plain": [
       "0    5901\n",
       "1    1142\n",
       "Name: SeniorCitizen, dtype: int64"
      ]
     },
     "execution_count": 13,
     "metadata": {},
     "output_type": "execute_result"
    }
   ],
   "source": [
    "df[colnames[2]].value_counts()"
   ]
  },
  {
   "cell_type": "code",
   "execution_count": 14,
   "metadata": {},
   "outputs": [
    {
     "data": {
      "text/html": [
       "<div>\n",
       "<style scoped>\n",
       "    .dataframe tbody tr th:only-of-type {\n",
       "        vertical-align: middle;\n",
       "    }\n",
       "\n",
       "    .dataframe tbody tr th {\n",
       "        vertical-align: top;\n",
       "    }\n",
       "\n",
       "    .dataframe thead th {\n",
       "        text-align: right;\n",
       "    }\n",
       "</style>\n",
       "<table border=\"1\" class=\"dataframe\">\n",
       "  <thead>\n",
       "    <tr style=\"text-align: right;\">\n",
       "      <th>Churn</th>\n",
       "      <th>No</th>\n",
       "      <th>Yes</th>\n",
       "    </tr>\n",
       "    <tr>\n",
       "      <th>SeniorCitizen</th>\n",
       "      <th></th>\n",
       "      <th></th>\n",
       "    </tr>\n",
       "  </thead>\n",
       "  <tbody>\n",
       "    <tr>\n",
       "      <th>0</th>\n",
       "      <td>4508</td>\n",
       "      <td>1393</td>\n",
       "    </tr>\n",
       "    <tr>\n",
       "      <th>1</th>\n",
       "      <td>666</td>\n",
       "      <td>476</td>\n",
       "    </tr>\n",
       "  </tbody>\n",
       "</table>\n",
       "</div>"
      ],
      "text/plain": [
       "Churn            No   Yes\n",
       "SeniorCitizen            \n",
       "0              4508  1393\n",
       "1               666   476"
      ]
     },
     "execution_count": 14,
     "metadata": {},
     "output_type": "execute_result"
    }
   ],
   "source": [
    "pd.crosstab(df[colnames[2]], df['Churn'])"
   ]
  },
  {
   "cell_type": "markdown",
   "metadata": {},
   "source": [
    "It is clear that non senior citizens tend to leave the company more than senior citizens. That can be because young people usually look for cheaper contracts and expend less in bills."
   ]
  },
  {
   "cell_type": "markdown",
   "metadata": {},
   "source": [
    "##### Partner:"
   ]
  },
  {
   "cell_type": "code",
   "execution_count": 15,
   "metadata": {},
   "outputs": [
    {
     "name": "stdout",
     "output_type": "stream",
     "text": [
      "Exploring column: Partner\n",
      "Number of distinct entries in the variable Partner = 2\n",
      "Number of missing entries in the variable Partner = 0\n",
      "The data type of the column Partner is object\n"
     ]
    }
   ],
   "source": [
    "desc_var(df, colnames[3])"
   ]
  },
  {
   "cell_type": "code",
   "execution_count": 16,
   "metadata": {},
   "outputs": [
    {
     "data": {
      "text/plain": [
       "No     3641\n",
       "Yes    3402\n",
       "Name: Partner, dtype: int64"
      ]
     },
     "execution_count": 16,
     "metadata": {},
     "output_type": "execute_result"
    }
   ],
   "source": [
    "df[colnames[3]].value_counts()"
   ]
  },
  {
   "cell_type": "code",
   "execution_count": 17,
   "metadata": {},
   "outputs": [
    {
     "data": {
      "text/html": [
       "<div>\n",
       "<style scoped>\n",
       "    .dataframe tbody tr th:only-of-type {\n",
       "        vertical-align: middle;\n",
       "    }\n",
       "\n",
       "    .dataframe tbody tr th {\n",
       "        vertical-align: top;\n",
       "    }\n",
       "\n",
       "    .dataframe thead th {\n",
       "        text-align: right;\n",
       "    }\n",
       "</style>\n",
       "<table border=\"1\" class=\"dataframe\">\n",
       "  <thead>\n",
       "    <tr style=\"text-align: right;\">\n",
       "      <th>Churn</th>\n",
       "      <th>No</th>\n",
       "      <th>Yes</th>\n",
       "    </tr>\n",
       "    <tr>\n",
       "      <th>Partner</th>\n",
       "      <th></th>\n",
       "      <th></th>\n",
       "    </tr>\n",
       "  </thead>\n",
       "  <tbody>\n",
       "    <tr>\n",
       "      <th>No</th>\n",
       "      <td>2441</td>\n",
       "      <td>1200</td>\n",
       "    </tr>\n",
       "    <tr>\n",
       "      <th>Yes</th>\n",
       "      <td>2733</td>\n",
       "      <td>669</td>\n",
       "    </tr>\n",
       "  </tbody>\n",
       "</table>\n",
       "</div>"
      ],
      "text/plain": [
       "Churn      No   Yes\n",
       "Partner            \n",
       "No       2441  1200\n",
       "Yes      2733   669"
      ]
     },
     "execution_count": 17,
     "metadata": {},
     "output_type": "execute_result"
    }
   ],
   "source": [
    "pd.crosstab(df[colnames[3]], df['Churn'])"
   ]
  },
  {
   "cell_type": "markdown",
   "metadata": {},
   "source": [
    "Customers with couple tend to leave the company less than customers without partner. This could be caused because single customers tend to save more money than a couple."
   ]
  },
  {
   "cell_type": "markdown",
   "metadata": {},
   "source": [
    "##### Dependents:"
   ]
  },
  {
   "cell_type": "code",
   "execution_count": 18,
   "metadata": {},
   "outputs": [
    {
     "name": "stdout",
     "output_type": "stream",
     "text": [
      "Exploring column: Dependents\n",
      "Number of distinct entries in the variable Dependents = 2\n",
      "Number of missing entries in the variable Dependents = 0\n",
      "The data type of the column Dependents is object\n"
     ]
    }
   ],
   "source": [
    "desc_var(df, colnames[4])"
   ]
  },
  {
   "cell_type": "code",
   "execution_count": 19,
   "metadata": {},
   "outputs": [
    {
     "data": {
      "text/plain": [
       "No     4933\n",
       "Yes    2110\n",
       "Name: Dependents, dtype: int64"
      ]
     },
     "execution_count": 19,
     "metadata": {},
     "output_type": "execute_result"
    }
   ],
   "source": [
    "df[colnames[4]].value_counts()"
   ]
  },
  {
   "cell_type": "code",
   "execution_count": 20,
   "metadata": {},
   "outputs": [
    {
     "data": {
      "text/html": [
       "<div>\n",
       "<style scoped>\n",
       "    .dataframe tbody tr th:only-of-type {\n",
       "        vertical-align: middle;\n",
       "    }\n",
       "\n",
       "    .dataframe tbody tr th {\n",
       "        vertical-align: top;\n",
       "    }\n",
       "\n",
       "    .dataframe thead th {\n",
       "        text-align: right;\n",
       "    }\n",
       "</style>\n",
       "<table border=\"1\" class=\"dataframe\">\n",
       "  <thead>\n",
       "    <tr style=\"text-align: right;\">\n",
       "      <th>Churn</th>\n",
       "      <th>No</th>\n",
       "      <th>Yes</th>\n",
       "    </tr>\n",
       "    <tr>\n",
       "      <th>Dependents</th>\n",
       "      <th></th>\n",
       "      <th></th>\n",
       "    </tr>\n",
       "  </thead>\n",
       "  <tbody>\n",
       "    <tr>\n",
       "      <th>No</th>\n",
       "      <td>3390</td>\n",
       "      <td>1543</td>\n",
       "    </tr>\n",
       "    <tr>\n",
       "      <th>Yes</th>\n",
       "      <td>1784</td>\n",
       "      <td>326</td>\n",
       "    </tr>\n",
       "  </tbody>\n",
       "</table>\n",
       "</div>"
      ],
      "text/plain": [
       "Churn         No   Yes\n",
       "Dependents            \n",
       "No          3390  1543\n",
       "Yes         1784   326"
      ]
     },
     "execution_count": 20,
     "metadata": {},
     "output_type": "execute_result"
    }
   ],
   "source": [
    "pd.crosstab(df[colnames[4]], df['Churn'])"
   ]
  },
  {
   "cell_type": "markdown",
   "metadata": {},
   "source": [
    "Customers with dependents tend to leave less the company than those without."
   ]
  },
  {
   "cell_type": "markdown",
   "metadata": {},
   "source": [
    "##### Tenure:"
   ]
  },
  {
   "cell_type": "code",
   "execution_count": 21,
   "metadata": {},
   "outputs": [
    {
     "name": "stdout",
     "output_type": "stream",
     "text": [
      "Exploring column: tenure\n",
      "Number of distinct entries in the variable tenure = 73\n",
      "Number of missing entries in the variable tenure = 0\n",
      "The data type of the column tenure is int64\n"
     ]
    }
   ],
   "source": [
    "desc_var(df, colnames[5])"
   ]
  },
  {
   "cell_type": "code",
   "execution_count": 22,
   "metadata": {},
   "outputs": [
    {
     "name": "stdout",
     "output_type": "stream",
     "text": [
      "Exploring numberic variable:  tenure\n",
      "count    7043.000000\n",
      "mean       32.371149\n",
      "std        24.559481\n",
      "min         0.000000\n",
      "25%         9.000000\n",
      "50%        29.000000\n",
      "75%        55.000000\n",
      "max        72.000000\n",
      "Name: tenure, dtype: float64\n"
     ]
    }
   ],
   "source": [
    "desc_num_var(df, colnames[5])"
   ]
  },
  {
   "cell_type": "code",
   "execution_count": 23,
   "metadata": {},
   "outputs": [
    {
     "data": {
      "image/png": "[encoded data removed]",
      "text/plain": [
       "<Figure size 1080x360 with 2 Axes>"
      ]
     },
     "metadata": {
      "needs_background": "light"
     },
     "output_type": "display_data"
    }
   ],
   "source": [
    "fig, axs = plt.subplots(ncols=2,figsize=(15,5))\n",
    "df.groupby(\"Churn\").tenure.plot(kind='kde', ax=axs[1], legend=True)\n",
    "df.groupby(\"Churn\").tenure.hist(alpha=0.4, ax=axs[0], legend=True)\n",
    "plt.show()"
   ]
  },
  {
   "cell_type": "markdown",
   "metadata": {},
   "source": [
    "Customers with lower values on the variable tenure tend to leave the company more than those with higher value in this variable."
   ]
  },
  {
   "cell_type": "markdown",
   "metadata": {},
   "source": [
    "##### Phone Service:"
   ]
  },
  {
   "cell_type": "code",
   "execution_count": 24,
   "metadata": {},
   "outputs": [
    {
     "name": "stdout",
     "output_type": "stream",
     "text": [
      "Exploring column: PhoneService\n",
      "Number of distinct entries in the variable PhoneService = 2\n",
      "Number of missing entries in the variable PhoneService = 0\n",
      "The data type of the column PhoneService is object\n"
     ]
    }
   ],
   "source": [
    "desc_var(df, colnames[6])"
   ]
  },
  {
   "cell_type": "code",
   "execution_count": 25,
   "metadata": {},
   "outputs": [
    {
     "data": {
      "text/plain": [
       "Yes    6361\n",
       "No      682\n",
       "Name: PhoneService, dtype: int64"
      ]
     },
     "execution_count": 25,
     "metadata": {},
     "output_type": "execute_result"
    }
   ],
   "source": [
    "df[colnames[6]].value_counts()"
   ]
  },
  {
   "cell_type": "code",
   "execution_count": 26,
   "metadata": {},
   "outputs": [
    {
     "data": {
      "text/html": [
       "<div>\n",
       "<style scoped>\n",
       "    .dataframe tbody tr th:only-of-type {\n",
       "        vertical-align: middle;\n",
       "    }\n",
       "\n",
       "    .dataframe tbody tr th {\n",
       "        vertical-align: top;\n",
       "    }\n",
       "\n",
       "    .dataframe thead th {\n",
       "        text-align: right;\n",
       "    }\n",
       "</style>\n",
       "<table border=\"1\" class=\"dataframe\">\n",
       "  <thead>\n",
       "    <tr style=\"text-align: right;\">\n",
       "      <th>Churn</th>\n",
       "      <th>No</th>\n",
       "      <th>Yes</th>\n",
       "    </tr>\n",
       "    <tr>\n",
       "      <th>PhoneService</th>\n",
       "      <th></th>\n",
       "      <th></th>\n",
       "    </tr>\n",
       "  </thead>\n",
       "  <tbody>\n",
       "    <tr>\n",
       "      <th>No</th>\n",
       "      <td>512</td>\n",
       "      <td>170</td>\n",
       "    </tr>\n",
       "    <tr>\n",
       "      <th>Yes</th>\n",
       "      <td>4662</td>\n",
       "      <td>1699</td>\n",
       "    </tr>\n",
       "  </tbody>\n",
       "</table>\n",
       "</div>"
      ],
      "text/plain": [
       "Churn           No   Yes\n",
       "PhoneService            \n",
       "No             512   170\n",
       "Yes           4662  1699"
      ]
     },
     "execution_count": 26,
     "metadata": {},
     "output_type": "execute_result"
    }
   ],
   "source": [
    "pd.crosstab(df[colnames[6]], df['Churn'])"
   ]
  },
  {
   "cell_type": "markdown",
   "metadata": {},
   "source": [
    "Customer with phone service tend to leave the company more than those without phone service."
   ]
  },
  {
   "cell_type": "markdown",
   "metadata": {},
   "source": [
    "##### MultipleLines:"
   ]
  },
  {
   "cell_type": "code",
   "execution_count": 27,
   "metadata": {},
   "outputs": [
    {
     "name": "stdout",
     "output_type": "stream",
     "text": [
      "Exploring column: MultipleLines\n",
      "Number of distinct entries in the variable MultipleLines = 3\n",
      "Number of missing entries in the variable MultipleLines = 0\n",
      "The data type of the column MultipleLines is object\n"
     ]
    }
   ],
   "source": [
    "desc_var(df, colnames[7])"
   ]
  },
  {
   "cell_type": "code",
   "execution_count": 28,
   "metadata": {},
   "outputs": [
    {
     "data": {
      "text/plain": [
       "No                  3390\n",
       "Yes                 2971\n",
       "No phone service     682\n",
       "Name: MultipleLines, dtype: int64"
      ]
     },
     "execution_count": 28,
     "metadata": {},
     "output_type": "execute_result"
    }
   ],
   "source": [
    "df[colnames[7]].value_counts()"
   ]
  },
  {
   "cell_type": "code",
   "execution_count": 29,
   "metadata": {},
   "outputs": [
    {
     "data": {
      "text/html": [
       "<div>\n",
       "<style scoped>\n",
       "    .dataframe tbody tr th:only-of-type {\n",
       "        vertical-align: middle;\n",
       "    }\n",
       "\n",
       "    .dataframe tbody tr th {\n",
       "        vertical-align: top;\n",
       "    }\n",
       "\n",
       "    .dataframe thead th {\n",
       "        text-align: right;\n",
       "    }\n",
       "</style>\n",
       "<table border=\"1\" class=\"dataframe\">\n",
       "  <thead>\n",
       "    <tr style=\"text-align: right;\">\n",
       "      <th>Churn</th>\n",
       "      <th>No</th>\n",
       "      <th>Yes</th>\n",
       "    </tr>\n",
       "    <tr>\n",
       "      <th>MultipleLines</th>\n",
       "      <th></th>\n",
       "      <th></th>\n",
       "    </tr>\n",
       "  </thead>\n",
       "  <tbody>\n",
       "    <tr>\n",
       "      <th>No</th>\n",
       "      <td>2541</td>\n",
       "      <td>849</td>\n",
       "    </tr>\n",
       "    <tr>\n",
       "      <th>No phone service</th>\n",
       "      <td>512</td>\n",
       "      <td>170</td>\n",
       "    </tr>\n",
       "    <tr>\n",
       "      <th>Yes</th>\n",
       "      <td>2121</td>\n",
       "      <td>850</td>\n",
       "    </tr>\n",
       "  </tbody>\n",
       "</table>\n",
       "</div>"
      ],
      "text/plain": [
       "Churn               No  Yes\n",
       "MultipleLines              \n",
       "No                2541  849\n",
       "No phone service   512  170\n",
       "Yes               2121  850"
      ]
     },
     "execution_count": 29,
     "metadata": {},
     "output_type": "execute_result"
    }
   ],
   "source": [
    "pd.crosstab(df[colnames[7]], df['Churn'])"
   ]
  },
  {
   "cell_type": "markdown",
   "metadata": {},
   "source": [
    "Customers with a single line or multiple lines does not tend to leave the company significantly different from each other. However, as previously seen in the variable phone service, the behaviour is significantly different. This variable is a good candidate to be excluded from the model."
   ]
  },
  {
   "cell_type": "markdown",
   "metadata": {},
   "source": [
    "##### Internet Service:"
   ]
  },
  {
   "cell_type": "code",
   "execution_count": 30,
   "metadata": {},
   "outputs": [
    {
     "name": "stdout",
     "output_type": "stream",
     "text": [
      "Exploring column: InternetService\n",
      "Number of distinct entries in the variable InternetService = 3\n",
      "Number of missing entries in the variable InternetService = 0\n",
      "The data type of the column InternetService is object\n"
     ]
    }
   ],
   "source": [
    "desc_var(df, colnames[8])"
   ]
  },
  {
   "cell_type": "code",
   "execution_count": 31,
   "metadata": {},
   "outputs": [
    {
     "data": {
      "text/plain": [
       "Fiber optic    3096\n",
       "DSL            2421\n",
       "No             1526\n",
       "Name: InternetService, dtype: int64"
      ]
     },
     "execution_count": 31,
     "metadata": {},
     "output_type": "execute_result"
    }
   ],
   "source": [
    "df[colnames[8]].value_counts()"
   ]
  },
  {
   "cell_type": "code",
   "execution_count": 32,
   "metadata": {},
   "outputs": [
    {
     "data": {
      "text/html": [
       "<div>\n",
       "<style scoped>\n",
       "    .dataframe tbody tr th:only-of-type {\n",
       "        vertical-align: middle;\n",
       "    }\n",
       "\n",
       "    .dataframe tbody tr th {\n",
       "        vertical-align: top;\n",
       "    }\n",
       "\n",
       "    .dataframe thead th {\n",
       "        text-align: right;\n",
       "    }\n",
       "</style>\n",
       "<table border=\"1\" class=\"dataframe\">\n",
       "  <thead>\n",
       "    <tr style=\"text-align: right;\">\n",
       "      <th>Churn</th>\n",
       "      <th>No</th>\n",
       "      <th>Yes</th>\n",
       "    </tr>\n",
       "    <tr>\n",
       "      <th>InternetService</th>\n",
       "      <th></th>\n",
       "      <th></th>\n",
       "    </tr>\n",
       "  </thead>\n",
       "  <tbody>\n",
       "    <tr>\n",
       "      <th>DSL</th>\n",
       "      <td>1962</td>\n",
       "      <td>459</td>\n",
       "    </tr>\n",
       "    <tr>\n",
       "      <th>Fiber optic</th>\n",
       "      <td>1799</td>\n",
       "      <td>1297</td>\n",
       "    </tr>\n",
       "    <tr>\n",
       "      <th>No</th>\n",
       "      <td>1413</td>\n",
       "      <td>113</td>\n",
       "    </tr>\n",
       "  </tbody>\n",
       "</table>\n",
       "</div>"
      ],
      "text/plain": [
       "Churn              No   Yes\n",
       "InternetService            \n",
       "DSL              1962   459\n",
       "Fiber optic      1799  1297\n",
       "No               1413   113"
      ]
     },
     "execution_count": 32,
     "metadata": {},
     "output_type": "execute_result"
    }
   ],
   "source": [
    "pd.crosstab(df[colnames[8]], df['Churn'])"
   ]
  },
  {
   "cell_type": "markdown",
   "metadata": {},
   "source": [
    "Custmers with fiber optic tend to leave the company more than those with DSL and without internet service."
   ]
  },
  {
   "cell_type": "markdown",
   "metadata": {},
   "source": [
    "##### Online Security:"
   ]
  },
  {
   "cell_type": "code",
   "execution_count": 33,
   "metadata": {},
   "outputs": [
    {
     "name": "stdout",
     "output_type": "stream",
     "text": [
      "Exploring column: OnlineSecurity\n",
      "Number of distinct entries in the variable OnlineSecurity = 3\n",
      "Number of missing entries in the variable OnlineSecurity = 0\n",
      "The data type of the column OnlineSecurity is object\n"
     ]
    }
   ],
   "source": [
    "desc_var(df, colnames[9])"
   ]
  },
  {
   "cell_type": "code",
   "execution_count": 34,
   "metadata": {},
   "outputs": [
    {
     "data": {
      "text/plain": [
       "No                     3498\n",
       "Yes                    2019\n",
       "No internet service    1526\n",
       "Name: OnlineSecurity, dtype: int64"
      ]
     },
     "execution_count": 34,
     "metadata": {},
     "output_type": "execute_result"
    }
   ],
   "source": [
    "df[colnames[9]].value_counts()"
   ]
  },
  {
   "cell_type": "code",
   "execution_count": 35,
   "metadata": {},
   "outputs": [
    {
     "data": {
      "text/html": [
       "<div>\n",
       "<style scoped>\n",
       "    .dataframe tbody tr th:only-of-type {\n",
       "        vertical-align: middle;\n",
       "    }\n",
       "\n",
       "    .dataframe tbody tr th {\n",
       "        vertical-align: top;\n",
       "    }\n",
       "\n",
       "    .dataframe thead th {\n",
       "        text-align: right;\n",
       "    }\n",
       "</style>\n",
       "<table border=\"1\" class=\"dataframe\">\n",
       "  <thead>\n",
       "    <tr style=\"text-align: right;\">\n",
       "      <th>Churn</th>\n",
       "      <th>No</th>\n",
       "      <th>Yes</th>\n",
       "    </tr>\n",
       "    <tr>\n",
       "      <th>OnlineSecurity</th>\n",
       "      <th></th>\n",
       "      <th></th>\n",
       "    </tr>\n",
       "  </thead>\n",
       "  <tbody>\n",
       "    <tr>\n",
       "      <th>No</th>\n",
       "      <td>2037</td>\n",
       "      <td>1461</td>\n",
       "    </tr>\n",
       "    <tr>\n",
       "      <th>No internet service</th>\n",
       "      <td>1413</td>\n",
       "      <td>113</td>\n",
       "    </tr>\n",
       "    <tr>\n",
       "      <th>Yes</th>\n",
       "      <td>1724</td>\n",
       "      <td>295</td>\n",
       "    </tr>\n",
       "  </tbody>\n",
       "</table>\n",
       "</div>"
      ],
      "text/plain": [
       "Churn                  No   Yes\n",
       "OnlineSecurity                 \n",
       "No                   2037  1461\n",
       "No internet service  1413   113\n",
       "Yes                  1724   295"
      ]
     },
     "execution_count": 35,
     "metadata": {},
     "output_type": "execute_result"
    }
   ],
   "source": [
    "pd.crosstab(df[colnames[9]], df['Churn'])"
   ]
  },
  {
   "cell_type": "markdown",
   "metadata": {},
   "source": [
    "Customers with online security (or without internet service) stay more than those without."
   ]
  },
  {
   "cell_type": "markdown",
   "metadata": {},
   "source": [
    "##### Online Backup:"
   ]
  },
  {
   "cell_type": "code",
   "execution_count": 36,
   "metadata": {},
   "outputs": [
    {
     "name": "stdout",
     "output_type": "stream",
     "text": [
      "Exploring column: OnlineBackup\n",
      "Number of distinct entries in the variable OnlineBackup = 3\n",
      "Number of missing entries in the variable OnlineBackup = 0\n",
      "The data type of the column OnlineBackup is object\n"
     ]
    }
   ],
   "source": [
    "desc_var(df, colnames[10])"
   ]
  },
  {
   "cell_type": "code",
   "execution_count": 37,
   "metadata": {},
   "outputs": [
    {
     "data": {
      "text/plain": [
       "No                     3088\n",
       "Yes                    2429\n",
       "No internet service    1526\n",
       "Name: OnlineBackup, dtype: int64"
      ]
     },
     "execution_count": 37,
     "metadata": {},
     "output_type": "execute_result"
    }
   ],
   "source": [
    "df[colnames[10]].value_counts()"
   ]
  },
  {
   "cell_type": "code",
   "execution_count": 38,
   "metadata": {},
   "outputs": [
    {
     "data": {
      "text/html": [
       "<div>\n",
       "<style scoped>\n",
       "    .dataframe tbody tr th:only-of-type {\n",
       "        vertical-align: middle;\n",
       "    }\n",
       "\n",
       "    .dataframe tbody tr th {\n",
       "        vertical-align: top;\n",
       "    }\n",
       "\n",
       "    .dataframe thead th {\n",
       "        text-align: right;\n",
       "    }\n",
       "</style>\n",
       "<table border=\"1\" class=\"dataframe\">\n",
       "  <thead>\n",
       "    <tr style=\"text-align: right;\">\n",
       "      <th>Churn</th>\n",
       "      <th>No</th>\n",
       "      <th>Yes</th>\n",
       "    </tr>\n",
       "    <tr>\n",
       "      <th>OnlineBackup</th>\n",
       "      <th></th>\n",
       "      <th></th>\n",
       "    </tr>\n",
       "  </thead>\n",
       "  <tbody>\n",
       "    <tr>\n",
       "      <th>No</th>\n",
       "      <td>1855</td>\n",
       "      <td>1233</td>\n",
       "    </tr>\n",
       "    <tr>\n",
       "      <th>No internet service</th>\n",
       "      <td>1413</td>\n",
       "      <td>113</td>\n",
       "    </tr>\n",
       "    <tr>\n",
       "      <th>Yes</th>\n",
       "      <td>1906</td>\n",
       "      <td>523</td>\n",
       "    </tr>\n",
       "  </tbody>\n",
       "</table>\n",
       "</div>"
      ],
      "text/plain": [
       "Churn                  No   Yes\n",
       "OnlineBackup                   \n",
       "No                   1855  1233\n",
       "No internet service  1413   113\n",
       "Yes                  1906   523"
      ]
     },
     "execution_count": 38,
     "metadata": {},
     "output_type": "execute_result"
    }
   ],
   "source": [
    "pd.crosstab(df[colnames[10]], df['Churn'])"
   ]
  },
  {
   "cell_type": "markdown",
   "metadata": {},
   "source": [
    "Customers with online backup service tend to leave less the company than those without internet or with online backup."
   ]
  },
  {
   "cell_type": "markdown",
   "metadata": {},
   "source": [
    "##### Device Protection:"
   ]
  },
  {
   "cell_type": "code",
   "execution_count": 39,
   "metadata": {},
   "outputs": [
    {
     "name": "stdout",
     "output_type": "stream",
     "text": [
      "Exploring column: DeviceProtection\n",
      "Number of distinct entries in the variable DeviceProtection = 3\n",
      "Number of missing entries in the variable DeviceProtection = 0\n",
      "The data type of the column DeviceProtection is object\n"
     ]
    }
   ],
   "source": [
    "desc_var(df, colnames[11])"
   ]
  },
  {
   "cell_type": "code",
   "execution_count": 40,
   "metadata": {},
   "outputs": [
    {
     "data": {
      "text/plain": [
       "No                     3095\n",
       "Yes                    2422\n",
       "No internet service    1526\n",
       "Name: DeviceProtection, dtype: int64"
      ]
     },
     "execution_count": 40,
     "metadata": {},
     "output_type": "execute_result"
    }
   ],
   "source": [
    "df[colnames[11]].value_counts()"
   ]
  },
  {
   "cell_type": "code",
   "execution_count": 41,
   "metadata": {},
   "outputs": [
    {
     "data": {
      "text/html": [
       "<div>\n",
       "<style scoped>\n",
       "    .dataframe tbody tr th:only-of-type {\n",
       "        vertical-align: middle;\n",
       "    }\n",
       "\n",
       "    .dataframe tbody tr th {\n",
       "        vertical-align: top;\n",
       "    }\n",
       "\n",
       "    .dataframe thead th {\n",
       "        text-align: right;\n",
       "    }\n",
       "</style>\n",
       "<table border=\"1\" class=\"dataframe\">\n",
       "  <thead>\n",
       "    <tr style=\"text-align: right;\">\n",
       "      <th>Churn</th>\n",
       "      <th>No</th>\n",
       "      <th>Yes</th>\n",
       "    </tr>\n",
       "    <tr>\n",
       "      <th>DeviceProtection</th>\n",
       "      <th></th>\n",
       "      <th></th>\n",
       "    </tr>\n",
       "  </thead>\n",
       "  <tbody>\n",
       "    <tr>\n",
       "      <th>No</th>\n",
       "      <td>1884</td>\n",
       "      <td>1211</td>\n",
       "    </tr>\n",
       "    <tr>\n",
       "      <th>No internet service</th>\n",
       "      <td>1413</td>\n",
       "      <td>113</td>\n",
       "    </tr>\n",
       "    <tr>\n",
       "      <th>Yes</th>\n",
       "      <td>1877</td>\n",
       "      <td>545</td>\n",
       "    </tr>\n",
       "  </tbody>\n",
       "</table>\n",
       "</div>"
      ],
      "text/plain": [
       "Churn                  No   Yes\n",
       "DeviceProtection               \n",
       "No                   1884  1211\n",
       "No internet service  1413   113\n",
       "Yes                  1877   545"
      ]
     },
     "execution_count": 41,
     "metadata": {},
     "output_type": "execute_result"
    }
   ],
   "source": [
    "pd.crosstab(df[colnames[11]], df['Churn'])"
   ]
  },
  {
   "cell_type": "markdown",
   "metadata": {},
   "source": [
    "Customers without device protection tend to leave the company more than those without internet service or with device protection."
   ]
  },
  {
   "cell_type": "markdown",
   "metadata": {},
   "source": [
    "##### Tech Support:"
   ]
  },
  {
   "cell_type": "code",
   "execution_count": 42,
   "metadata": {},
   "outputs": [
    {
     "name": "stdout",
     "output_type": "stream",
     "text": [
      "Exploring column: TechSupport\n",
      "Number of distinct entries in the variable TechSupport = 3\n",
      "Number of missing entries in the variable TechSupport = 0\n",
      "The data type of the column TechSupport is object\n"
     ]
    }
   ],
   "source": [
    "desc_var(df, colnames[12])"
   ]
  },
  {
   "cell_type": "code",
   "execution_count": 43,
   "metadata": {},
   "outputs": [
    {
     "data": {
      "text/plain": [
       "No                     3473\n",
       "Yes                    2044\n",
       "No internet service    1526\n",
       "Name: TechSupport, dtype: int64"
      ]
     },
     "execution_count": 43,
     "metadata": {},
     "output_type": "execute_result"
    }
   ],
   "source": [
    "df[colnames[12]].value_counts()"
   ]
  },
  {
   "cell_type": "code",
   "execution_count": 44,
   "metadata": {},
   "outputs": [
    {
     "data": {
      "text/html": [
       "<div>\n",
       "<style scoped>\n",
       "    .dataframe tbody tr th:only-of-type {\n",
       "        vertical-align: middle;\n",
       "    }\n",
       "\n",
       "    .dataframe tbody tr th {\n",
       "        vertical-align: top;\n",
       "    }\n",
       "\n",
       "    .dataframe thead th {\n",
       "        text-align: right;\n",
       "    }\n",
       "</style>\n",
       "<table border=\"1\" class=\"dataframe\">\n",
       "  <thead>\n",
       "    <tr style=\"text-align: right;\">\n",
       "      <th>Churn</th>\n",
       "      <th>No</th>\n",
       "      <th>Yes</th>\n",
       "    </tr>\n",
       "    <tr>\n",
       "      <th>TechSupport</th>\n",
       "      <th></th>\n",
       "      <th></th>\n",
       "    </tr>\n",
       "  </thead>\n",
       "  <tbody>\n",
       "    <tr>\n",
       "      <th>No</th>\n",
       "      <td>2027</td>\n",
       "      <td>1446</td>\n",
       "    </tr>\n",
       "    <tr>\n",
       "      <th>No internet service</th>\n",
       "      <td>1413</td>\n",
       "      <td>113</td>\n",
       "    </tr>\n",
       "    <tr>\n",
       "      <th>Yes</th>\n",
       "      <td>1734</td>\n",
       "      <td>310</td>\n",
       "    </tr>\n",
       "  </tbody>\n",
       "</table>\n",
       "</div>"
      ],
      "text/plain": [
       "Churn                  No   Yes\n",
       "TechSupport                    \n",
       "No                   2027  1446\n",
       "No internet service  1413   113\n",
       "Yes                  1734   310"
      ]
     },
     "execution_count": 44,
     "metadata": {},
     "output_type": "execute_result"
    }
   ],
   "source": [
    "pd.crosstab(df[colnames[12]], df['Churn'])"
   ]
  },
  {
   "cell_type": "markdown",
   "metadata": {},
   "source": [
    "Customers with technical support tend to leave less the company than those without internet or this service."
   ]
  },
  {
   "cell_type": "markdown",
   "metadata": {},
   "source": [
    "##### StreamingTV:"
   ]
  },
  {
   "cell_type": "code",
   "execution_count": 45,
   "metadata": {},
   "outputs": [
    {
     "name": "stdout",
     "output_type": "stream",
     "text": [
      "Exploring column: StreamingTV\n",
      "Number of distinct entries in the variable StreamingTV = 3\n",
      "Number of missing entries in the variable StreamingTV = 0\n",
      "The data type of the column StreamingTV is object\n"
     ]
    }
   ],
   "source": [
    "desc_var(df, colnames[13])"
   ]
  },
  {
   "cell_type": "code",
   "execution_count": 46,
   "metadata": {},
   "outputs": [
    {
     "data": {
      "text/plain": [
       "No                     2810\n",
       "Yes                    2707\n",
       "No internet service    1526\n",
       "Name: StreamingTV, dtype: int64"
      ]
     },
     "execution_count": 46,
     "metadata": {},
     "output_type": "execute_result"
    }
   ],
   "source": [
    "df[colnames[13]].value_counts()"
   ]
  },
  {
   "cell_type": "code",
   "execution_count": 47,
   "metadata": {},
   "outputs": [
    {
     "data": {
      "text/html": [
       "<div>\n",
       "<style scoped>\n",
       "    .dataframe tbody tr th:only-of-type {\n",
       "        vertical-align: middle;\n",
       "    }\n",
       "\n",
       "    .dataframe tbody tr th {\n",
       "        vertical-align: top;\n",
       "    }\n",
       "\n",
       "    .dataframe thead th {\n",
       "        text-align: right;\n",
       "    }\n",
       "</style>\n",
       "<table border=\"1\" class=\"dataframe\">\n",
       "  <thead>\n",
       "    <tr style=\"text-align: right;\">\n",
       "      <th>Churn</th>\n",
       "      <th>No</th>\n",
       "      <th>Yes</th>\n",
       "    </tr>\n",
       "    <tr>\n",
       "      <th>StreamingTV</th>\n",
       "      <th></th>\n",
       "      <th></th>\n",
       "    </tr>\n",
       "  </thead>\n",
       "  <tbody>\n",
       "    <tr>\n",
       "      <th>No</th>\n",
       "      <td>1868</td>\n",
       "      <td>942</td>\n",
       "    </tr>\n",
       "    <tr>\n",
       "      <th>No internet service</th>\n",
       "      <td>1413</td>\n",
       "      <td>113</td>\n",
       "    </tr>\n",
       "    <tr>\n",
       "      <th>Yes</th>\n",
       "      <td>1893</td>\n",
       "      <td>814</td>\n",
       "    </tr>\n",
       "  </tbody>\n",
       "</table>\n",
       "</div>"
      ],
      "text/plain": [
       "Churn                  No  Yes\n",
       "StreamingTV                   \n",
       "No                   1868  942\n",
       "No internet service  1413  113\n",
       "Yes                  1893  814"
      ]
     },
     "execution_count": 47,
     "metadata": {},
     "output_type": "execute_result"
    }
   ],
   "source": [
    "pd.crosstab(df[colnames[13]], df['Churn'])"
   ]
  },
  {
   "cell_type": "markdown",
   "metadata": {},
   "source": [
    "Streaming TV does not seem to be discriminating the Churn variable significantly. This variable is a good candidate to be excluded from the model."
   ]
  },
  {
   "cell_type": "markdown",
   "metadata": {},
   "source": [
    "##### Streaming movies:"
   ]
  },
  {
   "cell_type": "code",
   "execution_count": 48,
   "metadata": {},
   "outputs": [
    {
     "name": "stdout",
     "output_type": "stream",
     "text": [
      "Exploring column: StreamingMovies\n",
      "Number of distinct entries in the variable StreamingMovies = 3\n",
      "Number of missing entries in the variable StreamingMovies = 0\n",
      "The data type of the column StreamingMovies is object\n"
     ]
    }
   ],
   "source": [
    "desc_var(df, colnames[14])"
   ]
  },
  {
   "cell_type": "code",
   "execution_count": 49,
   "metadata": {},
   "outputs": [
    {
     "data": {
      "text/plain": [
       "No                     2785\n",
       "Yes                    2732\n",
       "No internet service    1526\n",
       "Name: StreamingMovies, dtype: int64"
      ]
     },
     "execution_count": 49,
     "metadata": {},
     "output_type": "execute_result"
    }
   ],
   "source": [
    "df[colnames[14]].value_counts()"
   ]
  },
  {
   "cell_type": "code",
   "execution_count": 50,
   "metadata": {},
   "outputs": [
    {
     "data": {
      "text/html": [
       "<div>\n",
       "<style scoped>\n",
       "    .dataframe tbody tr th:only-of-type {\n",
       "        vertical-align: middle;\n",
       "    }\n",
       "\n",
       "    .dataframe tbody tr th {\n",
       "        vertical-align: top;\n",
       "    }\n",
       "\n",
       "    .dataframe thead th {\n",
       "        text-align: right;\n",
       "    }\n",
       "</style>\n",
       "<table border=\"1\" class=\"dataframe\">\n",
       "  <thead>\n",
       "    <tr style=\"text-align: right;\">\n",
       "      <th>Churn</th>\n",
       "      <th>No</th>\n",
       "      <th>Yes</th>\n",
       "    </tr>\n",
       "    <tr>\n",
       "      <th>StreamingMovies</th>\n",
       "      <th></th>\n",
       "      <th></th>\n",
       "    </tr>\n",
       "  </thead>\n",
       "  <tbody>\n",
       "    <tr>\n",
       "      <th>No</th>\n",
       "      <td>1847</td>\n",
       "      <td>938</td>\n",
       "    </tr>\n",
       "    <tr>\n",
       "      <th>No internet service</th>\n",
       "      <td>1413</td>\n",
       "      <td>113</td>\n",
       "    </tr>\n",
       "    <tr>\n",
       "      <th>Yes</th>\n",
       "      <td>1914</td>\n",
       "      <td>818</td>\n",
       "    </tr>\n",
       "  </tbody>\n",
       "</table>\n",
       "</div>"
      ],
      "text/plain": [
       "Churn                  No  Yes\n",
       "StreamingMovies               \n",
       "No                   1847  938\n",
       "No internet service  1413  113\n",
       "Yes                  1914  818"
      ]
     },
     "execution_count": 50,
     "metadata": {},
     "output_type": "execute_result"
    }
   ],
   "source": [
    "pd.crosstab(df[colnames[14]], df['Churn'])"
   ]
  },
  {
   "cell_type": "markdown",
   "metadata": {},
   "source": [
    "Again, the variable streaming movies does not make significant differences by controling with churn. This variable is a good candidate to be excluded from the model."
   ]
  },
  {
   "cell_type": "markdown",
   "metadata": {},
   "source": [
    "##### Contract:"
   ]
  },
  {
   "cell_type": "code",
   "execution_count": 51,
   "metadata": {},
   "outputs": [
    {
     "name": "stdout",
     "output_type": "stream",
     "text": [
      "Exploring column: Contract\n",
      "Number of distinct entries in the variable Contract = 3\n",
      "Number of missing entries in the variable Contract = 0\n",
      "The data type of the column Contract is object\n"
     ]
    }
   ],
   "source": [
    "desc_var(df, colnames[15])"
   ]
  },
  {
   "cell_type": "code",
   "execution_count": 52,
   "metadata": {},
   "outputs": [
    {
     "data": {
      "text/plain": [
       "Month-to-month    3875\n",
       "Two year          1695\n",
       "One year          1473\n",
       "Name: Contract, dtype: int64"
      ]
     },
     "execution_count": 52,
     "metadata": {},
     "output_type": "execute_result"
    }
   ],
   "source": [
    "df[colnames[15]].value_counts()"
   ]
  },
  {
   "cell_type": "code",
   "execution_count": 53,
   "metadata": {},
   "outputs": [
    {
     "data": {
      "text/html": [
       "<div>\n",
       "<style scoped>\n",
       "    .dataframe tbody tr th:only-of-type {\n",
       "        vertical-align: middle;\n",
       "    }\n",
       "\n",
       "    .dataframe tbody tr th {\n",
       "        vertical-align: top;\n",
       "    }\n",
       "\n",
       "    .dataframe thead th {\n",
       "        text-align: right;\n",
       "    }\n",
       "</style>\n",
       "<table border=\"1\" class=\"dataframe\">\n",
       "  <thead>\n",
       "    <tr style=\"text-align: right;\">\n",
       "      <th>Churn</th>\n",
       "      <th>No</th>\n",
       "      <th>Yes</th>\n",
       "    </tr>\n",
       "    <tr>\n",
       "      <th>Contract</th>\n",
       "      <th></th>\n",
       "      <th></th>\n",
       "    </tr>\n",
       "  </thead>\n",
       "  <tbody>\n",
       "    <tr>\n",
       "      <th>Month-to-month</th>\n",
       "      <td>2220</td>\n",
       "      <td>1655</td>\n",
       "    </tr>\n",
       "    <tr>\n",
       "      <th>One year</th>\n",
       "      <td>1307</td>\n",
       "      <td>166</td>\n",
       "    </tr>\n",
       "    <tr>\n",
       "      <th>Two year</th>\n",
       "      <td>1647</td>\n",
       "      <td>48</td>\n",
       "    </tr>\n",
       "  </tbody>\n",
       "</table>\n",
       "</div>"
      ],
      "text/plain": [
       "Churn             No   Yes\n",
       "Contract                  \n",
       "Month-to-month  2220  1655\n",
       "One year        1307   166\n",
       "Two year        1647    48"
      ]
     },
     "execution_count": 53,
     "metadata": {},
     "output_type": "execute_result"
    }
   ],
   "source": [
    "pd.crosstab(df[colnames[15]], df['Churn'])"
   ]
  },
  {
   "cell_type": "markdown",
   "metadata": {},
   "source": [
    "Customers with contract month-to-month tend to leave the company significantly more than the rest of the contract types."
   ]
  },
  {
   "cell_type": "markdown",
   "metadata": {},
   "source": [
    "##### Paperless Billing:"
   ]
  },
  {
   "cell_type": "code",
   "execution_count": 54,
   "metadata": {},
   "outputs": [
    {
     "name": "stdout",
     "output_type": "stream",
     "text": [
      "Exploring column: PaperlessBilling\n",
      "Number of distinct entries in the variable PaperlessBilling = 2\n",
      "Number of missing entries in the variable PaperlessBilling = 0\n",
      "The data type of the column PaperlessBilling is object\n"
     ]
    }
   ],
   "source": [
    "desc_var(df, colnames[16])"
   ]
  },
  {
   "cell_type": "code",
   "execution_count": 55,
   "metadata": {},
   "outputs": [
    {
     "data": {
      "text/plain": [
       "Yes    4171\n",
       "No     2872\n",
       "Name: PaperlessBilling, dtype: int64"
      ]
     },
     "execution_count": 55,
     "metadata": {},
     "output_type": "execute_result"
    }
   ],
   "source": [
    "df[colnames[16]].value_counts()"
   ]
  },
  {
   "cell_type": "code",
   "execution_count": 56,
   "metadata": {},
   "outputs": [
    {
     "data": {
      "text/html": [
       "<div>\n",
       "<style scoped>\n",
       "    .dataframe tbody tr th:only-of-type {\n",
       "        vertical-align: middle;\n",
       "    }\n",
       "\n",
       "    .dataframe tbody tr th {\n",
       "        vertical-align: top;\n",
       "    }\n",
       "\n",
       "    .dataframe thead th {\n",
       "        text-align: right;\n",
       "    }\n",
       "</style>\n",
       "<table border=\"1\" class=\"dataframe\">\n",
       "  <thead>\n",
       "    <tr style=\"text-align: right;\">\n",
       "      <th>Churn</th>\n",
       "      <th>No</th>\n",
       "      <th>Yes</th>\n",
       "    </tr>\n",
       "    <tr>\n",
       "      <th>PaperlessBilling</th>\n",
       "      <th></th>\n",
       "      <th></th>\n",
       "    </tr>\n",
       "  </thead>\n",
       "  <tbody>\n",
       "    <tr>\n",
       "      <th>No</th>\n",
       "      <td>2403</td>\n",
       "      <td>469</td>\n",
       "    </tr>\n",
       "    <tr>\n",
       "      <th>Yes</th>\n",
       "      <td>2771</td>\n",
       "      <td>1400</td>\n",
       "    </tr>\n",
       "  </tbody>\n",
       "</table>\n",
       "</div>"
      ],
      "text/plain": [
       "Churn               No   Yes\n",
       "PaperlessBilling            \n",
       "No                2403   469\n",
       "Yes               2771  1400"
      ]
     },
     "execution_count": 56,
     "metadata": {},
     "output_type": "execute_result"
    }
   ],
   "source": [
    "pd.crosstab(df[colnames[16]], df['Churn'])"
   ]
  },
  {
   "cell_type": "markdown",
   "metadata": {},
   "source": [
    "Customers being billed paperless tend to leave more than those without."
   ]
  },
  {
   "cell_type": "markdown",
   "metadata": {},
   "source": [
    "##### Payment Method:"
   ]
  },
  {
   "cell_type": "code",
   "execution_count": 57,
   "metadata": {},
   "outputs": [
    {
     "name": "stdout",
     "output_type": "stream",
     "text": [
      "Exploring column: PaymentMethod\n",
      "Number of distinct entries in the variable PaymentMethod = 4\n",
      "Number of missing entries in the variable PaymentMethod = 0\n",
      "The data type of the column PaymentMethod is object\n"
     ]
    }
   ],
   "source": [
    "desc_var(df, colnames[17])"
   ]
  },
  {
   "cell_type": "code",
   "execution_count": 58,
   "metadata": {},
   "outputs": [
    {
     "data": {
      "text/plain": [
       "Electronic check             2365\n",
       "Mailed check                 1612\n",
       "Bank transfer (automatic)    1544\n",
       "Credit card (automatic)      1522\n",
       "Name: PaymentMethod, dtype: int64"
      ]
     },
     "execution_count": 58,
     "metadata": {},
     "output_type": "execute_result"
    }
   ],
   "source": [
    "df[colnames[17]].value_counts()"
   ]
  },
  {
   "cell_type": "code",
   "execution_count": 59,
   "metadata": {},
   "outputs": [
    {
     "data": {
      "text/html": [
       "<div>\n",
       "<style scoped>\n",
       "    .dataframe tbody tr th:only-of-type {\n",
       "        vertical-align: middle;\n",
       "    }\n",
       "\n",
       "    .dataframe tbody tr th {\n",
       "        vertical-align: top;\n",
       "    }\n",
       "\n",
       "    .dataframe thead th {\n",
       "        text-align: right;\n",
       "    }\n",
       "</style>\n",
       "<table border=\"1\" class=\"dataframe\">\n",
       "  <thead>\n",
       "    <tr style=\"text-align: right;\">\n",
       "      <th>Churn</th>\n",
       "      <th>No</th>\n",
       "      <th>Yes</th>\n",
       "    </tr>\n",
       "    <tr>\n",
       "      <th>PaymentMethod</th>\n",
       "      <th></th>\n",
       "      <th></th>\n",
       "    </tr>\n",
       "  </thead>\n",
       "  <tbody>\n",
       "    <tr>\n",
       "      <th>Bank transfer (automatic)</th>\n",
       "      <td>1286</td>\n",
       "      <td>258</td>\n",
       "    </tr>\n",
       "    <tr>\n",
       "      <th>Credit card (automatic)</th>\n",
       "      <td>1290</td>\n",
       "      <td>232</td>\n",
       "    </tr>\n",
       "    <tr>\n",
       "      <th>Electronic check</th>\n",
       "      <td>1294</td>\n",
       "      <td>1071</td>\n",
       "    </tr>\n",
       "    <tr>\n",
       "      <th>Mailed check</th>\n",
       "      <td>1304</td>\n",
       "      <td>308</td>\n",
       "    </tr>\n",
       "  </tbody>\n",
       "</table>\n",
       "</div>"
      ],
      "text/plain": [
       "Churn                        No   Yes\n",
       "PaymentMethod                        \n",
       "Bank transfer (automatic)  1286   258\n",
       "Credit card (automatic)    1290   232\n",
       "Electronic check           1294  1071\n",
       "Mailed check               1304   308"
      ]
     },
     "execution_count": 59,
     "metadata": {},
     "output_type": "execute_result"
    }
   ],
   "source": [
    "pd.crosstab(df[colnames[17]], df['Churn'])"
   ]
  },
  {
   "cell_type": "code",
   "execution_count": 60,
   "metadata": {},
   "outputs": [],
   "source": [
    "df[colnames[17]] = np.where(df[colnames[17]] == 'Electronic check', 'Elec_check', 'Non_elec_check')"
   ]
  },
  {
   "cell_type": "markdown",
   "metadata": {},
   "source": [
    "Customers with electronic check payment method tend to leave more the company than the rest of the classes. This variable can be readjust to a binary (electronic check/non-electronic check)."
   ]
  },
  {
   "cell_type": "code",
   "execution_count": 61,
   "metadata": {},
   "outputs": [
    {
     "data": {
      "text/html": [
       "<div>\n",
       "<style scoped>\n",
       "    .dataframe tbody tr th:only-of-type {\n",
       "        vertical-align: middle;\n",
       "    }\n",
       "\n",
       "    .dataframe tbody tr th {\n",
       "        vertical-align: top;\n",
       "    }\n",
       "\n",
       "    .dataframe thead th {\n",
       "        text-align: right;\n",
       "    }\n",
       "</style>\n",
       "<table border=\"1\" class=\"dataframe\">\n",
       "  <thead>\n",
       "    <tr style=\"text-align: right;\">\n",
       "      <th>Churn</th>\n",
       "      <th>No</th>\n",
       "      <th>Yes</th>\n",
       "    </tr>\n",
       "    <tr>\n",
       "      <th>PaymentMethod</th>\n",
       "      <th></th>\n",
       "      <th></th>\n",
       "    </tr>\n",
       "  </thead>\n",
       "  <tbody>\n",
       "    <tr>\n",
       "      <th>Elec_check</th>\n",
       "      <td>1294</td>\n",
       "      <td>1071</td>\n",
       "    </tr>\n",
       "    <tr>\n",
       "      <th>Non_elec_check</th>\n",
       "      <td>3880</td>\n",
       "      <td>798</td>\n",
       "    </tr>\n",
       "  </tbody>\n",
       "</table>\n",
       "</div>"
      ],
      "text/plain": [
       "Churn             No   Yes\n",
       "PaymentMethod             \n",
       "Elec_check      1294  1071\n",
       "Non_elec_check  3880   798"
      ]
     },
     "execution_count": 61,
     "metadata": {},
     "output_type": "execute_result"
    }
   ],
   "source": [
    "pd.crosstab(df[colnames[17]], df['Churn'])"
   ]
  },
  {
   "cell_type": "markdown",
   "metadata": {},
   "source": [
    "##### Monthly charges:"
   ]
  },
  {
   "cell_type": "code",
   "execution_count": 62,
   "metadata": {},
   "outputs": [
    {
     "name": "stdout",
     "output_type": "stream",
     "text": [
      "Exploring column: MonthlyCharges\n",
      "Number of distinct entries in the variable MonthlyCharges = 1585\n",
      "Number of missing entries in the variable MonthlyCharges = 0\n",
      "The data type of the column MonthlyCharges is float64\n"
     ]
    }
   ],
   "source": [
    "desc_var(df, colnames[18])"
   ]
  },
  {
   "cell_type": "code",
   "execution_count": 63,
   "metadata": {},
   "outputs": [
    {
     "name": "stdout",
     "output_type": "stream",
     "text": [
      "Exploring numberic variable:  MonthlyCharges\n",
      "count    7043.000000\n",
      "mean       64.761692\n",
      "std        30.090047\n",
      "min        18.250000\n",
      "25%        35.500000\n",
      "50%        70.350000\n",
      "75%        89.850000\n",
      "max       118.750000\n",
      "Name: MonthlyCharges, dtype: float64\n"
     ]
    }
   ],
   "source": [
    "desc_num_var(df, colnames[18])"
   ]
  },
  {
   "cell_type": "code",
   "execution_count": 64,
   "metadata": {},
   "outputs": [
    {
     "data": {
      "image/png": "[encoded data removed]",
      "text/plain": [
       "<Figure size 1080x360 with 2 Axes>"
      ]
     },
     "metadata": {
      "needs_background": "light"
     },
     "output_type": "display_data"
    }
   ],
   "source": [
    "fig, axs = plt.subplots(ncols=2,figsize=(15,5))\n",
    "df.groupby(\"Churn\")[colnames[18]].plot(kind='kde', ax=axs[1], legend=True)\n",
    "df.groupby(\"Churn\")[colnames[18]].hist(alpha=0.4, ax=axs[0], legend=True)\n",
    "plt.show()"
   ]
  },
  {
   "cell_type": "markdown",
   "metadata": {},
   "source": [
    "Customers with low charges tend to leave less the company than those with high monthly expenses."
   ]
  },
  {
   "cell_type": "markdown",
   "metadata": {},
   "source": [
    "##### Total Charges:"
   ]
  },
  {
   "cell_type": "code",
   "execution_count": 65,
   "metadata": {},
   "outputs": [
    {
     "name": "stdout",
     "output_type": "stream",
     "text": [
      "Exploring column: TotalCharges\n",
      "Number of distinct entries in the variable TotalCharges = 6531\n",
      "Number of missing entries in the variable TotalCharges = 0\n",
      "The data type of the column TotalCharges is object\n"
     ]
    }
   ],
   "source": [
    "desc_var(df, colnames[19])"
   ]
  },
  {
   "cell_type": "code",
   "execution_count": 66,
   "metadata": {},
   "outputs": [],
   "source": [
    "df[colnames[19]] = np.where(df[colnames[19]] == ' ', np.nan, df[colnames[19]])\n",
    "df[colnames[19]] = df[colnames[19]].astype(np.float64)"
   ]
  },
  {
   "cell_type": "code",
   "execution_count": 67,
   "metadata": {},
   "outputs": [
    {
     "name": "stdout",
     "output_type": "stream",
     "text": [
      "Exploring column: TotalCharges\n",
      "Number of distinct entries in the variable TotalCharges = 6530\n",
      "Number of missing entries in the variable TotalCharges = 11\n",
      "The data type of the column TotalCharges is object\n"
     ]
    }
   ],
   "source": [
    "desc_var(df, colnames[19])"
   ]
  },
  {
   "cell_type": "code",
   "execution_count": 68,
   "metadata": {},
   "outputs": [
    {
     "name": "stdout",
     "output_type": "stream",
     "text": [
      "Exploring numberic variable:  TotalCharges\n",
      "count    7032.000000\n",
      "mean     2283.300441\n",
      "std      2266.771362\n",
      "min        18.800000\n",
      "25%       401.450000\n",
      "50%      1397.475000\n",
      "75%      3794.737500\n",
      "max      8684.800000\n",
      "Name: TotalCharges, dtype: float64\n"
     ]
    }
   ],
   "source": [
    "desc_num_var(df, colnames[19])"
   ]
  },
  {
   "cell_type": "code",
   "execution_count": 69,
   "metadata": {},
   "outputs": [
    {
     "data": {
      "image/png": "[encoded data removed]",
      "text/plain": [
       "<Figure size 1080x360 with 2 Axes>"
      ]
     },
     "metadata": {
      "needs_background": "light"
     },
     "output_type": "display_data"
    }
   ],
   "source": [
    "fig, axs = plt.subplots(ncols=2,figsize=(15,5))\n",
    "df.groupby(\"Churn\")[colnames[19]].plot(kind='kde', ax=axs[1], legend=True)\n",
    "df.groupby(\"Churn\")[colnames[19]].hist(alpha=0.4, ax=axs[0], legend=True)\n",
    "plt.show()"
   ]
  },
  {
   "cell_type": "markdown",
   "metadata": {},
   "source": [
    "The variable total charges does not seem to make any differences on churn rate. This is a candidate to be excluded."
   ]
  },
  {
   "cell_type": "markdown",
   "metadata": {},
   "source": [
    "##### Churn (Target):"
   ]
  },
  {
   "cell_type": "code",
   "execution_count": 70,
   "metadata": {},
   "outputs": [
    {
     "name": "stdout",
     "output_type": "stream",
     "text": [
      "Exploring column: Churn\n",
      "Number of distinct entries in the variable Churn = 2\n",
      "Number of missing entries in the variable Churn = 0\n",
      "The data type of the column Churn is object\n"
     ]
    }
   ],
   "source": [
    "desc_var(df, colnames[20])"
   ]
  },
  {
   "cell_type": "code",
   "execution_count": 71,
   "metadata": {},
   "outputs": [
    {
     "data": {
      "text/plain": [
       "No     5174\n",
       "Yes    1869\n",
       "Name: Churn, dtype: int64"
      ]
     },
     "execution_count": 71,
     "metadata": {},
     "output_type": "execute_result"
    }
   ],
   "source": [
    "df[colnames[20]].value_counts()"
   ]
  },
  {
   "cell_type": "code",
   "execution_count": 72,
   "metadata": {},
   "outputs": [],
   "source": [
    "df[colnames[20]] = np.where(df[colnames[20]] == 'Yes', 1, 0)"
   ]
  },
  {
   "cell_type": "code",
   "execution_count": 73,
   "metadata": {},
   "outputs": [
    {
     "data": {
      "text/html": [
       "<div>\n",
       "<style scoped>\n",
       "    .dataframe tbody tr th:only-of-type {\n",
       "        vertical-align: middle;\n",
       "    }\n",
       "\n",
       "    .dataframe tbody tr th {\n",
       "        vertical-align: top;\n",
       "    }\n",
       "\n",
       "    .dataframe thead th {\n",
       "        text-align: right;\n",
       "    }\n",
       "</style>\n",
       "<table border=\"1\" class=\"dataframe\">\n",
       "  <thead>\n",
       "    <tr style=\"text-align: right;\">\n",
       "      <th></th>\n",
       "      <th>index</th>\n",
       "      <th>Churn</th>\n",
       "    </tr>\n",
       "  </thead>\n",
       "  <tbody>\n",
       "    <tr>\n",
       "      <th>0</th>\n",
       "      <td>0.0</td>\n",
       "      <td>0.73463</td>\n",
       "    </tr>\n",
       "    <tr>\n",
       "      <th>1</th>\n",
       "      <td>1.0</td>\n",
       "      <td>0.26537</td>\n",
       "    </tr>\n",
       "  </tbody>\n",
       "</table>\n",
       "</div>"
      ],
      "text/plain": [
       "   index    Churn\n",
       "0    0.0  0.73463\n",
       "1    1.0  0.26537"
      ]
     },
     "execution_count": 73,
     "metadata": {},
     "output_type": "execute_result"
    }
   ],
   "source": [
    "df[colnames[20]].value_counts().reset_index().apply(lambda x:x/x.sum())"
   ]
  },
  {
   "cell_type": "markdown",
   "metadata": {},
   "source": [
    "The target variable is unbalanced it could be interesting to resample the dataset to balance it."
   ]
  },
  {
   "cell_type": "markdown",
   "metadata": {},
   "source": [
    "#### Missing values imputation:"
   ]
  },
  {
   "cell_type": "code",
   "execution_count": 74,
   "metadata": {},
   "outputs": [
    {
     "data": {
      "text/plain": [
       "gender               0\n",
       "SeniorCitizen        0\n",
       "Partner              0\n",
       "Dependents           0\n",
       "tenure               0\n",
       "PhoneService         0\n",
       "MultipleLines        0\n",
       "InternetService      0\n",
       "OnlineSecurity       0\n",
       "OnlineBackup         0\n",
       "DeviceProtection     0\n",
       "TechSupport          0\n",
       "StreamingTV          0\n",
       "StreamingMovies      0\n",
       "Contract             0\n",
       "PaperlessBilling     0\n",
       "PaymentMethod        0\n",
       "MonthlyCharges       0\n",
       "TotalCharges        11\n",
       "Churn                0\n",
       "dtype: int64"
      ]
     },
     "execution_count": 74,
     "metadata": {},
     "output_type": "execute_result"
    }
   ],
   "source": [
    "df.isna().sum()"
   ]
  },
  {
   "cell_type": "code",
   "execution_count": 75,
   "metadata": {},
   "outputs": [],
   "source": [
    "df['TotalCharges'] = df['TotalCharges'].fillna(df['TotalCharges'].median())"
   ]
  },
  {
   "cell_type": "code",
   "execution_count": 76,
   "metadata": {},
   "outputs": [
    {
     "data": {
      "text/plain": [
       "gender              0\n",
       "SeniorCitizen       0\n",
       "Partner             0\n",
       "Dependents          0\n",
       "tenure              0\n",
       "PhoneService        0\n",
       "MultipleLines       0\n",
       "InternetService     0\n",
       "OnlineSecurity      0\n",
       "OnlineBackup        0\n",
       "DeviceProtection    0\n",
       "TechSupport         0\n",
       "StreamingTV         0\n",
       "StreamingMovies     0\n",
       "Contract            0\n",
       "PaperlessBilling    0\n",
       "PaymentMethod       0\n",
       "MonthlyCharges      0\n",
       "TotalCharges        0\n",
       "Churn               0\n",
       "dtype: int64"
      ]
     },
     "execution_count": 76,
     "metadata": {},
     "output_type": "execute_result"
    }
   ],
   "source": [
    "df.isna().sum()"
   ]
  },
  {
   "cell_type": "markdown",
   "metadata": {},
   "source": [
    "##### Candidate variables to be removed after univariate EDA:"
   ]
  },
  {
   "cell_type": "code",
   "execution_count": 77,
   "metadata": {},
   "outputs": [],
   "source": [
    "#gender, multiple lines, streaming TV, streaming movies, total charges. \n",
    "df = df.drop(['gender', 'MultipleLines', 'StreamingTV', 'StreamingMovies', 'TotalCharges'], axis=1)"
   ]
  },
  {
   "cell_type": "markdown",
   "metadata": {},
   "source": [
    "##### One hot encoding:"
   ]
  },
  {
   "cell_type": "code",
   "execution_count": 78,
   "metadata": {},
   "outputs": [],
   "source": [
    "df_feat = pd.concat([\n",
    "        pd.get_dummies(df['SeniorCitizen'], prefix='Seniority', drop_first=True),\n",
    "        pd.get_dummies(df['Partner'], prefix='Partner', drop_first=True),\n",
    "        pd.get_dummies(df['Dependents'], prefix='Dependents', drop_first=True),\n",
    "        df['tenure'],\n",
    "        pd.get_dummies(df['PhoneService'], prefix='PhoneService', drop_first=True),\n",
    "        pd.get_dummies(df['InternetService'], prefix='InternetService', drop_first=True),\n",
    "        pd.get_dummies(df['OnlineSecurity'], prefix='OnlineSecurity', drop_first=True),\n",
    "        pd.get_dummies(df['OnlineBackup'], prefix='OnlineBackup', drop_first=True),\n",
    "        pd.get_dummies(df['DeviceProtection'], prefix='DeviceProtection', drop_first=True), \n",
    "        pd.get_dummies(df['TechSupport'], prefix='TechSupport', drop_first=True),\n",
    "        pd.get_dummies(df['Contract'], prefix='Contract', drop_first=True),\n",
    "        pd.get_dummies(df['PaperlessBilling'], prefix='PaperlessBilling', drop_first=True),\n",
    "        pd.get_dummies(df['PaymentMethod'], prefix='PaymentMethod', drop_first=True),\n",
    "        df['MonthlyCharges'],\n",
    "        ], axis=1)"
   ]
  },
  {
   "cell_type": "code",
   "execution_count": 79,
   "metadata": {},
   "outputs": [
    {
     "data": {
      "text/html": [
       "<div>\n",
       "<style scoped>\n",
       "    .dataframe tbody tr th:only-of-type {\n",
       "        vertical-align: middle;\n",
       "    }\n",
       "\n",
       "    .dataframe tbody tr th {\n",
       "        vertical-align: top;\n",
       "    }\n",
       "\n",
       "    .dataframe thead th {\n",
       "        text-align: right;\n",
       "    }\n",
       "</style>\n",
       "<table border=\"1\" class=\"dataframe\">\n",
       "  <thead>\n",
       "    <tr style=\"text-align: right;\">\n",
       "      <th></th>\n",
       "      <th>Seniority_1</th>\n",
       "      <th>Partner_Yes</th>\n",
       "      <th>Dependents_Yes</th>\n",
       "      <th>tenure</th>\n",
       "      <th>PhoneService_Yes</th>\n",
       "      <th>InternetService_Fiber optic</th>\n",
       "      <th>InternetService_No</th>\n",
       "      <th>OnlineSecurity_No internet service</th>\n",
       "      <th>OnlineSecurity_Yes</th>\n",
       "      <th>OnlineBackup_No internet service</th>\n",
       "      <th>OnlineBackup_Yes</th>\n",
       "      <th>DeviceProtection_No internet service</th>\n",
       "      <th>DeviceProtection_Yes</th>\n",
       "      <th>TechSupport_No internet service</th>\n",
       "      <th>TechSupport_Yes</th>\n",
       "      <th>Contract_One year</th>\n",
       "      <th>Contract_Two year</th>\n",
       "      <th>PaperlessBilling_Yes</th>\n",
       "      <th>PaymentMethod_Non_elec_check</th>\n",
       "      <th>MonthlyCharges</th>\n",
       "    </tr>\n",
       "    <tr>\n",
       "      <th>customerID</th>\n",
       "      <th></th>\n",
       "      <th></th>\n",
       "      <th></th>\n",
       "      <th></th>\n",
       "      <th></th>\n",
       "      <th></th>\n",
       "      <th></th>\n",
       "      <th></th>\n",
       "      <th></th>\n",
       "      <th></th>\n",
       "      <th></th>\n",
       "      <th></th>\n",
       "      <th></th>\n",
       "      <th></th>\n",
       "      <th></th>\n",
       "      <th></th>\n",
       "      <th></th>\n",
       "      <th></th>\n",
       "      <th></th>\n",
       "      <th></th>\n",
       "    </tr>\n",
       "  </thead>\n",
       "  <tbody>\n",
       "    <tr>\n",
       "      <th>7590-VHVEG</th>\n",
       "      <td>0</td>\n",
       "      <td>1</td>\n",
       "      <td>0</td>\n",
       "      <td>1</td>\n",
       "      <td>0</td>\n",
       "      <td>0</td>\n",
       "      <td>0</td>\n",
       "      <td>0</td>\n",
       "      <td>0</td>\n",
       "      <td>0</td>\n",
       "      <td>1</td>\n",
       "      <td>0</td>\n",
       "      <td>0</td>\n",
       "      <td>0</td>\n",
       "      <td>0</td>\n",
       "      <td>0</td>\n",
       "      <td>0</td>\n",
       "      <td>1</td>\n",
       "      <td>0</td>\n",
       "      <td>29.85</td>\n",
       "    </tr>\n",
       "    <tr>\n",
       "      <th>5575-GNVDE</th>\n",
       "      <td>0</td>\n",
       "      <td>0</td>\n",
       "      <td>0</td>\n",
       "      <td>34</td>\n",
       "      <td>1</td>\n",
       "      <td>0</td>\n",
       "      <td>0</td>\n",
       "      <td>0</td>\n",
       "      <td>1</td>\n",
       "      <td>0</td>\n",
       "      <td>0</td>\n",
       "      <td>0</td>\n",
       "      <td>1</td>\n",
       "      <td>0</td>\n",
       "      <td>0</td>\n",
       "      <td>1</td>\n",
       "      <td>0</td>\n",
       "      <td>0</td>\n",
       "      <td>1</td>\n",
       "      <td>56.95</td>\n",
       "    </tr>\n",
       "    <tr>\n",
       "      <th>3668-QPYBK</th>\n",
       "      <td>0</td>\n",
       "      <td>0</td>\n",
       "      <td>0</td>\n",
       "      <td>2</td>\n",
       "      <td>1</td>\n",
       "      <td>0</td>\n",
       "      <td>0</td>\n",
       "      <td>0</td>\n",
       "      <td>1</td>\n",
       "      <td>0</td>\n",
       "      <td>1</td>\n",
       "      <td>0</td>\n",
       "      <td>0</td>\n",
       "      <td>0</td>\n",
       "      <td>0</td>\n",
       "      <td>0</td>\n",
       "      <td>0</td>\n",
       "      <td>1</td>\n",
       "      <td>1</td>\n",
       "      <td>53.85</td>\n",
       "    </tr>\n",
       "    <tr>\n",
       "      <th>7795-CFOCW</th>\n",
       "      <td>0</td>\n",
       "      <td>0</td>\n",
       "      <td>0</td>\n",
       "      <td>45</td>\n",
       "      <td>0</td>\n",
       "      <td>0</td>\n",
       "      <td>0</td>\n",
       "      <td>0</td>\n",
       "      <td>1</td>\n",
       "      <td>0</td>\n",
       "      <td>0</td>\n",
       "      <td>0</td>\n",
       "      <td>1</td>\n",
       "      <td>0</td>\n",
       "      <td>1</td>\n",
       "      <td>1</td>\n",
       "      <td>0</td>\n",
       "      <td>0</td>\n",
       "      <td>1</td>\n",
       "      <td>42.30</td>\n",
       "    </tr>\n",
       "    <tr>\n",
       "      <th>9237-HQITU</th>\n",
       "      <td>0</td>\n",
       "      <td>0</td>\n",
       "      <td>0</td>\n",
       "      <td>2</td>\n",
       "      <td>1</td>\n",
       "      <td>1</td>\n",
       "      <td>0</td>\n",
       "      <td>0</td>\n",
       "      <td>0</td>\n",
       "      <td>0</td>\n",
       "      <td>0</td>\n",
       "      <td>0</td>\n",
       "      <td>0</td>\n",
       "      <td>0</td>\n",
       "      <td>0</td>\n",
       "      <td>0</td>\n",
       "      <td>0</td>\n",
       "      <td>1</td>\n",
       "      <td>0</td>\n",
       "      <td>70.70</td>\n",
       "    </tr>\n",
       "  </tbody>\n",
       "</table>\n",
       "</div>"
      ],
      "text/plain": [
       "            Seniority_1  Partner_Yes  Dependents_Yes  tenure  \\\n",
       "customerID                                                     \n",
       "7590-VHVEG            0            1               0       1   \n",
       "5575-GNVDE            0            0               0      34   \n",
       "3668-QPYBK            0            0               0       2   \n",
       "7795-CFOCW            0            0               0      45   \n",
       "9237-HQITU            0            0               0       2   \n",
       "\n",
       "            PhoneService_Yes  InternetService_Fiber optic  InternetService_No  \\\n",
       "customerID                                                                      \n",
       "7590-VHVEG                 0                            0                   0   \n",
       "5575-GNVDE                 1                            0                   0   \n",
       "3668-QPYBK                 1                            0                   0   \n",
       "7795-CFOCW                 0                            0                   0   \n",
       "9237-HQITU                 1                            1                   0   \n",
       "\n",
       "            OnlineSecurity_No internet service  OnlineSecurity_Yes  \\\n",
       "customerID                                                           \n",
       "7590-VHVEG                                   0                   0   \n",
       "5575-GNVDE                                   0                   1   \n",
       "3668-QPYBK                                   0                   1   \n",
       "7795-CFOCW                                   0                   1   \n",
       "9237-HQITU                                   0                   0   \n",
       "\n",
       "            OnlineBackup_No internet service  OnlineBackup_Yes  \\\n",
       "customerID                                                       \n",
       "7590-VHVEG                                 0                 1   \n",
       "5575-GNVDE                                 0                 0   \n",
       "3668-QPYBK                                 0                 1   \n",
       "7795-CFOCW                                 0                 0   \n",
       "9237-HQITU                                 0                 0   \n",
       "\n",
       "            DeviceProtection_No internet service  DeviceProtection_Yes  \\\n",
       "customerID                                                               \n",
       "7590-VHVEG                                     0                     0   \n",
       "5575-GNVDE                                     0                     1   \n",
       "3668-QPYBK                                     0                     0   \n",
       "7795-CFOCW                                     0                     1   \n",
       "9237-HQITU                                     0                     0   \n",
       "\n",
       "            TechSupport_No internet service  TechSupport_Yes  \\\n",
       "customerID                                                     \n",
       "7590-VHVEG                                0                0   \n",
       "5575-GNVDE                                0                0   \n",
       "3668-QPYBK                                0                0   \n",
       "7795-CFOCW                                0                1   \n",
       "9237-HQITU                                0                0   \n",
       "\n",
       "            Contract_One year  Contract_Two year  PaperlessBilling_Yes  \\\n",
       "customerID                                                               \n",
       "7590-VHVEG                  0                  0                     1   \n",
       "5575-GNVDE                  1                  0                     0   \n",
       "3668-QPYBK                  0                  0                     1   \n",
       "7795-CFOCW                  1                  0                     0   \n",
       "9237-HQITU                  0                  0                     1   \n",
       "\n",
       "            PaymentMethod_Non_elec_check  MonthlyCharges  \n",
       "customerID                                                \n",
       "7590-VHVEG                             0           29.85  \n",
       "5575-GNVDE                             1           56.95  \n",
       "3668-QPYBK                             1           53.85  \n",
       "7795-CFOCW                             1           42.30  \n",
       "9237-HQITU                             0           70.70  "
      ]
     },
     "execution_count": 79,
     "metadata": {},
     "output_type": "execute_result"
    }
   ],
   "source": [
    "df_feat.head()"
   ]
  },
  {
   "cell_type": "markdown",
   "metadata": {},
   "source": [
    "##### Feature Engineering:"
   ]
  },
  {
   "cell_type": "code",
   "execution_count": 80,
   "metadata": {},
   "outputs": [],
   "source": [
    "poly = PolynomialFeatures(2)\n",
    "ls_features = poly.fit_transform(df_feat)\n",
    "df_featured = pd.DataFrame(ls_features)\n",
    "df_featured.columns = poly.get_feature_names(input_features=df_feat.columns)\n",
    "df_featured.index = df_feat.index\n",
    "df_featured.drop('1', axis=1, inplace=True)"
   ]
  },
  {
   "cell_type": "code",
   "execution_count": 81,
   "metadata": {},
   "outputs": [
    {
     "data": {
      "text/html": [
       "<div>\n",
       "<style scoped>\n",
       "    .dataframe tbody tr th:only-of-type {\n",
       "        vertical-align: middle;\n",
       "    }\n",
       "\n",
       "    .dataframe tbody tr th {\n",
       "        vertical-align: top;\n",
       "    }\n",
       "\n",
       "    .dataframe thead th {\n",
       "        text-align: right;\n",
       "    }\n",
       "</style>\n",
       "<table border=\"1\" class=\"dataframe\">\n",
       "  <thead>\n",
       "    <tr style=\"text-align: right;\">\n",
       "      <th></th>\n",
       "      <th>Seniority_1</th>\n",
       "      <th>Partner_Yes</th>\n",
       "      <th>Dependents_Yes</th>\n",
       "      <th>tenure</th>\n",
       "      <th>PhoneService_Yes</th>\n",
       "      <th>InternetService_Fiber optic</th>\n",
       "      <th>InternetService_No</th>\n",
       "      <th>OnlineSecurity_No internet service</th>\n",
       "      <th>OnlineSecurity_Yes</th>\n",
       "      <th>OnlineBackup_No internet service</th>\n",
       "      <th>...</th>\n",
       "      <th>Contract_Two year^2</th>\n",
       "      <th>Contract_Two year PaperlessBilling_Yes</th>\n",
       "      <th>Contract_Two year PaymentMethod_Non_elec_check</th>\n",
       "      <th>Contract_Two year MonthlyCharges</th>\n",
       "      <th>PaperlessBilling_Yes^2</th>\n",
       "      <th>PaperlessBilling_Yes PaymentMethod_Non_elec_check</th>\n",
       "      <th>PaperlessBilling_Yes MonthlyCharges</th>\n",
       "      <th>PaymentMethod_Non_elec_check^2</th>\n",
       "      <th>PaymentMethod_Non_elec_check MonthlyCharges</th>\n",
       "      <th>MonthlyCharges^2</th>\n",
       "    </tr>\n",
       "    <tr>\n",
       "      <th>customerID</th>\n",
       "      <th></th>\n",
       "      <th></th>\n",
       "      <th></th>\n",
       "      <th></th>\n",
       "      <th></th>\n",
       "      <th></th>\n",
       "      <th></th>\n",
       "      <th></th>\n",
       "      <th></th>\n",
       "      <th></th>\n",
       "      <th></th>\n",
       "      <th></th>\n",
       "      <th></th>\n",
       "      <th></th>\n",
       "      <th></th>\n",
       "      <th></th>\n",
       "      <th></th>\n",
       "      <th></th>\n",
       "      <th></th>\n",
       "      <th></th>\n",
       "      <th></th>\n",
       "    </tr>\n",
       "  </thead>\n",
       "  <tbody>\n",
       "    <tr>\n",
       "      <th>7590-VHVEG</th>\n",
       "      <td>0.0</td>\n",
       "      <td>1.0</td>\n",
       "      <td>0.0</td>\n",
       "      <td>1.0</td>\n",
       "      <td>0.0</td>\n",
       "      <td>0.0</td>\n",
       "      <td>0.0</td>\n",
       "      <td>0.0</td>\n",
       "      <td>0.0</td>\n",
       "      <td>0.0</td>\n",
       "      <td>...</td>\n",
       "      <td>0.0</td>\n",
       "      <td>0.0</td>\n",
       "      <td>0.0</td>\n",
       "      <td>0.0</td>\n",
       "      <td>1.0</td>\n",
       "      <td>0.0</td>\n",
       "      <td>29.85</td>\n",
       "      <td>0.0</td>\n",
       "      <td>0.00</td>\n",
       "      <td>891.0225</td>\n",
       "    </tr>\n",
       "    <tr>\n",
       "      <th>5575-GNVDE</th>\n",
       "      <td>0.0</td>\n",
       "      <td>0.0</td>\n",
       "      <td>0.0</td>\n",
       "      <td>34.0</td>\n",
       "      <td>1.0</td>\n",
       "      <td>0.0</td>\n",
       "      <td>0.0</td>\n",
       "      <td>0.0</td>\n",
       "      <td>1.0</td>\n",
       "      <td>0.0</td>\n",
       "      <td>...</td>\n",
       "      <td>0.0</td>\n",
       "      <td>0.0</td>\n",
       "      <td>0.0</td>\n",
       "      <td>0.0</td>\n",
       "      <td>0.0</td>\n",
       "      <td>0.0</td>\n",
       "      <td>0.00</td>\n",
       "      <td>1.0</td>\n",
       "      <td>56.95</td>\n",
       "      <td>3243.3025</td>\n",
       "    </tr>\n",
       "    <tr>\n",
       "      <th>3668-QPYBK</th>\n",
       "      <td>0.0</td>\n",
       "      <td>0.0</td>\n",
       "      <td>0.0</td>\n",
       "      <td>2.0</td>\n",
       "      <td>1.0</td>\n",
       "      <td>0.0</td>\n",
       "      <td>0.0</td>\n",
       "      <td>0.0</td>\n",
       "      <td>1.0</td>\n",
       "      <td>0.0</td>\n",
       "      <td>...</td>\n",
       "      <td>0.0</td>\n",
       "      <td>0.0</td>\n",
       "      <td>0.0</td>\n",
       "      <td>0.0</td>\n",
       "      <td>1.0</td>\n",
       "      <td>1.0</td>\n",
       "      <td>53.85</td>\n",
       "      <td>1.0</td>\n",
       "      <td>53.85</td>\n",
       "      <td>2899.8225</td>\n",
       "    </tr>\n",
       "    <tr>\n",
       "      <th>7795-CFOCW</th>\n",
       "      <td>0.0</td>\n",
       "      <td>0.0</td>\n",
       "      <td>0.0</td>\n",
       "      <td>45.0</td>\n",
       "      <td>0.0</td>\n",
       "      <td>0.0</td>\n",
       "      <td>0.0</td>\n",
       "      <td>0.0</td>\n",
       "      <td>1.0</td>\n",
       "      <td>0.0</td>\n",
       "      <td>...</td>\n",
       "      <td>0.0</td>\n",
       "      <td>0.0</td>\n",
       "      <td>0.0</td>\n",
       "      <td>0.0</td>\n",
       "      <td>0.0</td>\n",
       "      <td>0.0</td>\n",
       "      <td>0.00</td>\n",
       "      <td>1.0</td>\n",
       "      <td>42.30</td>\n",
       "      <td>1789.2900</td>\n",
       "    </tr>\n",
       "    <tr>\n",
       "      <th>9237-HQITU</th>\n",
       "      <td>0.0</td>\n",
       "      <td>0.0</td>\n",
       "      <td>0.0</td>\n",
       "      <td>2.0</td>\n",
       "      <td>1.0</td>\n",
       "      <td>1.0</td>\n",
       "      <td>0.0</td>\n",
       "      <td>0.0</td>\n",
       "      <td>0.0</td>\n",
       "      <td>0.0</td>\n",
       "      <td>...</td>\n",
       "      <td>0.0</td>\n",
       "      <td>0.0</td>\n",
       "      <td>0.0</td>\n",
       "      <td>0.0</td>\n",
       "      <td>1.0</td>\n",
       "      <td>0.0</td>\n",
       "      <td>70.70</td>\n",
       "      <td>0.0</td>\n",
       "      <td>0.00</td>\n",
       "      <td>4998.4900</td>\n",
       "    </tr>\n",
       "  </tbody>\n",
       "</table>\n",
       "<p>5 rows × 230 columns</p>\n",
       "</div>"
      ],
      "text/plain": [
       "            Seniority_1  Partner_Yes  Dependents_Yes  tenure  \\\n",
       "customerID                                                     \n",
       "7590-VHVEG          0.0          1.0             0.0     1.0   \n",
       "5575-GNVDE          0.0          0.0             0.0    34.0   \n",
       "3668-QPYBK          0.0          0.0             0.0     2.0   \n",
       "7795-CFOCW          0.0          0.0             0.0    45.0   \n",
       "9237-HQITU          0.0          0.0             0.0     2.0   \n",
       "\n",
       "            PhoneService_Yes  InternetService_Fiber optic  InternetService_No  \\\n",
       "customerID                                                                      \n",
       "7590-VHVEG               0.0                          0.0                 0.0   \n",
       "5575-GNVDE               1.0                          0.0                 0.0   \n",
       "3668-QPYBK               1.0                          0.0                 0.0   \n",
       "7795-CFOCW               0.0                          0.0                 0.0   \n",
       "9237-HQITU               1.0                          1.0                 0.0   \n",
       "\n",
       "            OnlineSecurity_No internet service  OnlineSecurity_Yes  \\\n",
       "customerID                                                           \n",
       "7590-VHVEG                                 0.0                 0.0   \n",
       "5575-GNVDE                                 0.0                 1.0   \n",
       "3668-QPYBK                                 0.0                 1.0   \n",
       "7795-CFOCW                                 0.0                 1.0   \n",
       "9237-HQITU                                 0.0                 0.0   \n",
       "\n",
       "            OnlineBackup_No internet service  ...  Contract_Two year^2  \\\n",
       "customerID                                    ...                        \n",
       "7590-VHVEG                               0.0  ...                  0.0   \n",
       "5575-GNVDE                               0.0  ...                  0.0   \n",
       "3668-QPYBK                               0.0  ...                  0.0   \n",
       "7795-CFOCW                               0.0  ...                  0.0   \n",
       "9237-HQITU                               0.0  ...                  0.0   \n",
       "\n",
       "            Contract_Two year PaperlessBilling_Yes  \\\n",
       "customerID                                           \n",
       "7590-VHVEG                                     0.0   \n",
       "5575-GNVDE                                     0.0   \n",
       "3668-QPYBK                                     0.0   \n",
       "7795-CFOCW                                     0.0   \n",
       "9237-HQITU                                     0.0   \n",
       "\n",
       "            Contract_Two year PaymentMethod_Non_elec_check  \\\n",
       "customerID                                                   \n",
       "7590-VHVEG                                             0.0   \n",
       "5575-GNVDE                                             0.0   \n",
       "3668-QPYBK                                             0.0   \n",
       "7795-CFOCW                                             0.0   \n",
       "9237-HQITU                                             0.0   \n",
       "\n",
       "            Contract_Two year MonthlyCharges  PaperlessBilling_Yes^2  \\\n",
       "customerID                                                             \n",
       "7590-VHVEG                               0.0                     1.0   \n",
       "5575-GNVDE                               0.0                     0.0   \n",
       "3668-QPYBK                               0.0                     1.0   \n",
       "7795-CFOCW                               0.0                     0.0   \n",
       "9237-HQITU                               0.0                     1.0   \n",
       "\n",
       "            PaperlessBilling_Yes PaymentMethod_Non_elec_check  \\\n",
       "customerID                                                      \n",
       "7590-VHVEG                                                0.0   \n",
       "5575-GNVDE                                                0.0   \n",
       "3668-QPYBK                                                1.0   \n",
       "7795-CFOCW                                                0.0   \n",
       "9237-HQITU                                                0.0   \n",
       "\n",
       "            PaperlessBilling_Yes MonthlyCharges  \\\n",
       "customerID                                        \n",
       "7590-VHVEG                                29.85   \n",
       "5575-GNVDE                                 0.00   \n",
       "3668-QPYBK                                53.85   \n",
       "7795-CFOCW                                 0.00   \n",
       "9237-HQITU                                70.70   \n",
       "\n",
       "            PaymentMethod_Non_elec_check^2  \\\n",
       "customerID                                   \n",
       "7590-VHVEG                             0.0   \n",
       "5575-GNVDE                             1.0   \n",
       "3668-QPYBK                             1.0   \n",
       "7795-CFOCW                             1.0   \n",
       "9237-HQITU                             0.0   \n",
       "\n",
       "            PaymentMethod_Non_elec_check MonthlyCharges  MonthlyCharges^2  \n",
       "customerID                                                                 \n",
       "7590-VHVEG                                         0.00          891.0225  \n",
       "5575-GNVDE                                        56.95         3243.3025  \n",
       "3668-QPYBK                                        53.85         2899.8225  \n",
       "7795-CFOCW                                        42.30         1789.2900  \n",
       "9237-HQITU                                         0.00         4998.4900  \n",
       "\n",
       "[5 rows x 230 columns]"
      ]
     },
     "execution_count": 81,
     "metadata": {},
     "output_type": "execute_result"
    }
   ],
   "source": [
    "df_featured.head()"
   ]
  },
  {
   "cell_type": "markdown",
   "metadata": {},
   "source": [
    "#### Feature Selection:"
   ]
  },
  {
   "cell_type": "markdown",
   "metadata": {},
   "source": [
    "##### Feature Importance:"
   ]
  },
  {
   "cell_type": "code",
   "execution_count": 82,
   "metadata": {},
   "outputs": [],
   "source": [
    "np.random.seed(111)\n",
    "\n",
    "df_feat_imp = feat_sel(df_featured, df['Churn'])"
   ]
  },
  {
   "cell_type": "code",
   "execution_count": 83,
   "metadata": {},
   "outputs": [
    {
     "data": {
      "text/html": [
       "<div>\n",
       "<style scoped>\n",
       "    .dataframe tbody tr th:only-of-type {\n",
       "        vertical-align: middle;\n",
       "    }\n",
       "\n",
       "    .dataframe tbody tr th {\n",
       "        vertical-align: top;\n",
       "    }\n",
       "\n",
       "    .dataframe thead th {\n",
       "        text-align: right;\n",
       "    }\n",
       "</style>\n",
       "<table border=\"1\" class=\"dataframe\">\n",
       "  <thead>\n",
       "    <tr style=\"text-align: right;\">\n",
       "      <th></th>\n",
       "      <th>tenure</th>\n",
       "      <th>InternetService_Fiber optic</th>\n",
       "      <th>OnlineBackup_No internet service</th>\n",
       "      <th>OnlineBackup_Yes</th>\n",
       "      <th>Contract_One year</th>\n",
       "      <th>Contract_Two year</th>\n",
       "      <th>MonthlyCharges</th>\n",
       "      <th>Seniority_1 tenure</th>\n",
       "      <th>Seniority_1 MonthlyCharges</th>\n",
       "      <th>Partner_Yes tenure</th>\n",
       "      <th>...</th>\n",
       "      <th>TechSupport_Yes MonthlyCharges</th>\n",
       "      <th>Contract_One year^2</th>\n",
       "      <th>Contract_One year MonthlyCharges</th>\n",
       "      <th>Contract_Two year^2</th>\n",
       "      <th>Contract_Two year PaymentMethod_Non_elec_check</th>\n",
       "      <th>Contract_Two year MonthlyCharges</th>\n",
       "      <th>PaperlessBilling_Yes MonthlyCharges</th>\n",
       "      <th>PaymentMethod_Non_elec_check^2</th>\n",
       "      <th>PaymentMethod_Non_elec_check MonthlyCharges</th>\n",
       "      <th>MonthlyCharges^2</th>\n",
       "    </tr>\n",
       "    <tr>\n",
       "      <th>customerID</th>\n",
       "      <th></th>\n",
       "      <th></th>\n",
       "      <th></th>\n",
       "      <th></th>\n",
       "      <th></th>\n",
       "      <th></th>\n",
       "      <th></th>\n",
       "      <th></th>\n",
       "      <th></th>\n",
       "      <th></th>\n",
       "      <th></th>\n",
       "      <th></th>\n",
       "      <th></th>\n",
       "      <th></th>\n",
       "      <th></th>\n",
       "      <th></th>\n",
       "      <th></th>\n",
       "      <th></th>\n",
       "      <th></th>\n",
       "      <th></th>\n",
       "      <th></th>\n",
       "    </tr>\n",
       "  </thead>\n",
       "  <tbody>\n",
       "    <tr>\n",
       "      <th>7590-VHVEG</th>\n",
       "      <td>1.0</td>\n",
       "      <td>0.0</td>\n",
       "      <td>0.0</td>\n",
       "      <td>1.0</td>\n",
       "      <td>0.0</td>\n",
       "      <td>0.0</td>\n",
       "      <td>29.85</td>\n",
       "      <td>0.0</td>\n",
       "      <td>0.0</td>\n",
       "      <td>1.0</td>\n",
       "      <td>...</td>\n",
       "      <td>0.0</td>\n",
       "      <td>0.0</td>\n",
       "      <td>0.00</td>\n",
       "      <td>0.0</td>\n",
       "      <td>0.0</td>\n",
       "      <td>0.0</td>\n",
       "      <td>29.85</td>\n",
       "      <td>0.0</td>\n",
       "      <td>0.00</td>\n",
       "      <td>891.0225</td>\n",
       "    </tr>\n",
       "    <tr>\n",
       "      <th>5575-GNVDE</th>\n",
       "      <td>34.0</td>\n",
       "      <td>0.0</td>\n",
       "      <td>0.0</td>\n",
       "      <td>0.0</td>\n",
       "      <td>1.0</td>\n",
       "      <td>0.0</td>\n",
       "      <td>56.95</td>\n",
       "      <td>0.0</td>\n",
       "      <td>0.0</td>\n",
       "      <td>0.0</td>\n",
       "      <td>...</td>\n",
       "      <td>0.0</td>\n",
       "      <td>1.0</td>\n",
       "      <td>56.95</td>\n",
       "      <td>0.0</td>\n",
       "      <td>0.0</td>\n",
       "      <td>0.0</td>\n",
       "      <td>0.00</td>\n",
       "      <td>1.0</td>\n",
       "      <td>56.95</td>\n",
       "      <td>3243.3025</td>\n",
       "    </tr>\n",
       "    <tr>\n",
       "      <th>3668-QPYBK</th>\n",
       "      <td>2.0</td>\n",
       "      <td>0.0</td>\n",
       "      <td>0.0</td>\n",
       "      <td>1.0</td>\n",
       "      <td>0.0</td>\n",
       "      <td>0.0</td>\n",
       "      <td>53.85</td>\n",
       "      <td>0.0</td>\n",
       "      <td>0.0</td>\n",
       "      <td>0.0</td>\n",
       "      <td>...</td>\n",
       "      <td>0.0</td>\n",
       "      <td>0.0</td>\n",
       "      <td>0.00</td>\n",
       "      <td>0.0</td>\n",
       "      <td>0.0</td>\n",
       "      <td>0.0</td>\n",
       "      <td>53.85</td>\n",
       "      <td>1.0</td>\n",
       "      <td>53.85</td>\n",
       "      <td>2899.8225</td>\n",
       "    </tr>\n",
       "    <tr>\n",
       "      <th>7795-CFOCW</th>\n",
       "      <td>45.0</td>\n",
       "      <td>0.0</td>\n",
       "      <td>0.0</td>\n",
       "      <td>0.0</td>\n",
       "      <td>1.0</td>\n",
       "      <td>0.0</td>\n",
       "      <td>42.30</td>\n",
       "      <td>0.0</td>\n",
       "      <td>0.0</td>\n",
       "      <td>0.0</td>\n",
       "      <td>...</td>\n",
       "      <td>42.3</td>\n",
       "      <td>1.0</td>\n",
       "      <td>42.30</td>\n",
       "      <td>0.0</td>\n",
       "      <td>0.0</td>\n",
       "      <td>0.0</td>\n",
       "      <td>0.00</td>\n",
       "      <td>1.0</td>\n",
       "      <td>42.30</td>\n",
       "      <td>1789.2900</td>\n",
       "    </tr>\n",
       "    <tr>\n",
       "      <th>9237-HQITU</th>\n",
       "      <td>2.0</td>\n",
       "      <td>1.0</td>\n",
       "      <td>0.0</td>\n",
       "      <td>0.0</td>\n",
       "      <td>0.0</td>\n",
       "      <td>0.0</td>\n",
       "      <td>70.70</td>\n",
       "      <td>0.0</td>\n",
       "      <td>0.0</td>\n",
       "      <td>0.0</td>\n",
       "      <td>...</td>\n",
       "      <td>0.0</td>\n",
       "      <td>0.0</td>\n",
       "      <td>0.00</td>\n",
       "      <td>0.0</td>\n",
       "      <td>0.0</td>\n",
       "      <td>0.0</td>\n",
       "      <td>70.70</td>\n",
       "      <td>0.0</td>\n",
       "      <td>0.00</td>\n",
       "      <td>4998.4900</td>\n",
       "    </tr>\n",
       "  </tbody>\n",
       "</table>\n",
       "<p>5 rows × 48 columns</p>\n",
       "</div>"
      ],
      "text/plain": [
       "            tenure  InternetService_Fiber optic  \\\n",
       "customerID                                        \n",
       "7590-VHVEG     1.0                          0.0   \n",
       "5575-GNVDE    34.0                          0.0   \n",
       "3668-QPYBK     2.0                          0.0   \n",
       "7795-CFOCW    45.0                          0.0   \n",
       "9237-HQITU     2.0                          1.0   \n",
       "\n",
       "            OnlineBackup_No internet service  OnlineBackup_Yes  \\\n",
       "customerID                                                       \n",
       "7590-VHVEG                               0.0               1.0   \n",
       "5575-GNVDE                               0.0               0.0   \n",
       "3668-QPYBK                               0.0               1.0   \n",
       "7795-CFOCW                               0.0               0.0   \n",
       "9237-HQITU                               0.0               0.0   \n",
       "\n",
       "            Contract_One year  Contract_Two year  MonthlyCharges  \\\n",
       "customerID                                                         \n",
       "7590-VHVEG                0.0                0.0           29.85   \n",
       "5575-GNVDE                1.0                0.0           56.95   \n",
       "3668-QPYBK                0.0                0.0           53.85   \n",
       "7795-CFOCW                1.0                0.0           42.30   \n",
       "9237-HQITU                0.0                0.0           70.70   \n",
       "\n",
       "            Seniority_1 tenure  Seniority_1 MonthlyCharges  \\\n",
       "customerID                                                   \n",
       "7590-VHVEG                 0.0                         0.0   \n",
       "5575-GNVDE                 0.0                         0.0   \n",
       "3668-QPYBK                 0.0                         0.0   \n",
       "7795-CFOCW                 0.0                         0.0   \n",
       "9237-HQITU                 0.0                         0.0   \n",
       "\n",
       "            Partner_Yes tenure  ...  TechSupport_Yes MonthlyCharges  \\\n",
       "customerID                      ...                                   \n",
       "7590-VHVEG                 1.0  ...                             0.0   \n",
       "5575-GNVDE                 0.0  ...                             0.0   \n",
       "3668-QPYBK                 0.0  ...                             0.0   \n",
       "7795-CFOCW                 0.0  ...                            42.3   \n",
       "9237-HQITU                 0.0  ...                             0.0   \n",
       "\n",
       "            Contract_One year^2  Contract_One year MonthlyCharges  \\\n",
       "customerID                                                          \n",
       "7590-VHVEG                  0.0                              0.00   \n",
       "5575-GNVDE                  1.0                             56.95   \n",
       "3668-QPYBK                  0.0                              0.00   \n",
       "7795-CFOCW                  1.0                             42.30   \n",
       "9237-HQITU                  0.0                              0.00   \n",
       "\n",
       "            Contract_Two year^2  \\\n",
       "customerID                        \n",
       "7590-VHVEG                  0.0   \n",
       "5575-GNVDE                  0.0   \n",
       "3668-QPYBK                  0.0   \n",
       "7795-CFOCW                  0.0   \n",
       "9237-HQITU                  0.0   \n",
       "\n",
       "            Contract_Two year PaymentMethod_Non_elec_check  \\\n",
       "customerID                                                   \n",
       "7590-VHVEG                                             0.0   \n",
       "5575-GNVDE                                             0.0   \n",
       "3668-QPYBK                                             0.0   \n",
       "7795-CFOCW                                             0.0   \n",
       "9237-HQITU                                             0.0   \n",
       "\n",
       "            Contract_Two year MonthlyCharges  \\\n",
       "customerID                                     \n",
       "7590-VHVEG                               0.0   \n",
       "5575-GNVDE                               0.0   \n",
       "3668-QPYBK                               0.0   \n",
       "7795-CFOCW                               0.0   \n",
       "9237-HQITU                               0.0   \n",
       "\n",
       "            PaperlessBilling_Yes MonthlyCharges  \\\n",
       "customerID                                        \n",
       "7590-VHVEG                                29.85   \n",
       "5575-GNVDE                                 0.00   \n",
       "3668-QPYBK                                53.85   \n",
       "7795-CFOCW                                 0.00   \n",
       "9237-HQITU                                70.70   \n",
       "\n",
       "            PaymentMethod_Non_elec_check^2  \\\n",
       "customerID                                   \n",
       "7590-VHVEG                             0.0   \n",
       "5575-GNVDE                             1.0   \n",
       "3668-QPYBK                             1.0   \n",
       "7795-CFOCW                             1.0   \n",
       "9237-HQITU                             0.0   \n",
       "\n",
       "            PaymentMethod_Non_elec_check MonthlyCharges  MonthlyCharges^2  \n",
       "customerID                                                                 \n",
       "7590-VHVEG                                         0.00          891.0225  \n",
       "5575-GNVDE                                        56.95         3243.3025  \n",
       "3668-QPYBK                                        53.85         2899.8225  \n",
       "7795-CFOCW                                        42.30         1789.2900  \n",
       "9237-HQITU                                         0.00         4998.4900  \n",
       "\n",
       "[5 rows x 48 columns]"
      ]
     },
     "execution_count": 83,
     "metadata": {},
     "output_type": "execute_result"
    }
   ],
   "source": [
    "df_feat_imp.head()"
   ]
  },
  {
   "cell_type": "markdown",
   "metadata": {},
   "source": [
    "##### Correlated features:"
   ]
  },
  {
   "cell_type": "code",
   "execution_count": 84,
   "metadata": {},
   "outputs": [],
   "source": [
    "df_feat_clean = drop_cor(df_feat_imp, 0.95)"
   ]
  },
  {
   "cell_type": "code",
   "execution_count": 85,
   "metadata": {},
   "outputs": [
    {
     "data": {
      "text/html": [
       "<div>\n",
       "<style scoped>\n",
       "    .dataframe tbody tr th:only-of-type {\n",
       "        vertical-align: middle;\n",
       "    }\n",
       "\n",
       "    .dataframe tbody tr th {\n",
       "        vertical-align: top;\n",
       "    }\n",
       "\n",
       "    .dataframe thead th {\n",
       "        text-align: right;\n",
       "    }\n",
       "</style>\n",
       "<table border=\"1\" class=\"dataframe\">\n",
       "  <thead>\n",
       "    <tr style=\"text-align: right;\">\n",
       "      <th></th>\n",
       "      <th>tenure</th>\n",
       "      <th>InternetService_Fiber optic</th>\n",
       "      <th>OnlineBackup_No internet service</th>\n",
       "      <th>OnlineBackup_Yes</th>\n",
       "      <th>Contract_One year</th>\n",
       "      <th>Contract_Two year</th>\n",
       "      <th>MonthlyCharges</th>\n",
       "      <th>Seniority_1 tenure</th>\n",
       "      <th>Seniority_1 MonthlyCharges</th>\n",
       "      <th>Partner_Yes tenure</th>\n",
       "      <th>...</th>\n",
       "      <th>OnlineSecurity_Yes^2</th>\n",
       "      <th>OnlineSecurity_Yes MonthlyCharges</th>\n",
       "      <th>DeviceProtection_Yes MonthlyCharges</th>\n",
       "      <th>TechSupport_Yes MonthlyCharges</th>\n",
       "      <th>Contract_One year MonthlyCharges</th>\n",
       "      <th>Contract_Two year PaymentMethod_Non_elec_check</th>\n",
       "      <th>Contract_Two year MonthlyCharges</th>\n",
       "      <th>PaperlessBilling_Yes MonthlyCharges</th>\n",
       "      <th>PaymentMethod_Non_elec_check^2</th>\n",
       "      <th>PaymentMethod_Non_elec_check MonthlyCharges</th>\n",
       "    </tr>\n",
       "    <tr>\n",
       "      <th>customerID</th>\n",
       "      <th></th>\n",
       "      <th></th>\n",
       "      <th></th>\n",
       "      <th></th>\n",
       "      <th></th>\n",
       "      <th></th>\n",
       "      <th></th>\n",
       "      <th></th>\n",
       "      <th></th>\n",
       "      <th></th>\n",
       "      <th></th>\n",
       "      <th></th>\n",
       "      <th></th>\n",
       "      <th></th>\n",
       "      <th></th>\n",
       "      <th></th>\n",
       "      <th></th>\n",
       "      <th></th>\n",
       "      <th></th>\n",
       "      <th></th>\n",
       "      <th></th>\n",
       "    </tr>\n",
       "  </thead>\n",
       "  <tbody>\n",
       "    <tr>\n",
       "      <th>7590-VHVEG</th>\n",
       "      <td>1.0</td>\n",
       "      <td>0.0</td>\n",
       "      <td>0.0</td>\n",
       "      <td>1.0</td>\n",
       "      <td>0.0</td>\n",
       "      <td>0.0</td>\n",
       "      <td>29.85</td>\n",
       "      <td>0.0</td>\n",
       "      <td>0.0</td>\n",
       "      <td>1.0</td>\n",
       "      <td>...</td>\n",
       "      <td>0.0</td>\n",
       "      <td>0.00</td>\n",
       "      <td>0.00</td>\n",
       "      <td>0.0</td>\n",
       "      <td>0.00</td>\n",
       "      <td>0.0</td>\n",
       "      <td>0.0</td>\n",
       "      <td>29.85</td>\n",
       "      <td>0.0</td>\n",
       "      <td>0.00</td>\n",
       "    </tr>\n",
       "    <tr>\n",
       "      <th>5575-GNVDE</th>\n",
       "      <td>34.0</td>\n",
       "      <td>0.0</td>\n",
       "      <td>0.0</td>\n",
       "      <td>0.0</td>\n",
       "      <td>1.0</td>\n",
       "      <td>0.0</td>\n",
       "      <td>56.95</td>\n",
       "      <td>0.0</td>\n",
       "      <td>0.0</td>\n",
       "      <td>0.0</td>\n",
       "      <td>...</td>\n",
       "      <td>1.0</td>\n",
       "      <td>56.95</td>\n",
       "      <td>56.95</td>\n",
       "      <td>0.0</td>\n",
       "      <td>56.95</td>\n",
       "      <td>0.0</td>\n",
       "      <td>0.0</td>\n",
       "      <td>0.00</td>\n",
       "      <td>1.0</td>\n",
       "      <td>56.95</td>\n",
       "    </tr>\n",
       "    <tr>\n",
       "      <th>3668-QPYBK</th>\n",
       "      <td>2.0</td>\n",
       "      <td>0.0</td>\n",
       "      <td>0.0</td>\n",
       "      <td>1.0</td>\n",
       "      <td>0.0</td>\n",
       "      <td>0.0</td>\n",
       "      <td>53.85</td>\n",
       "      <td>0.0</td>\n",
       "      <td>0.0</td>\n",
       "      <td>0.0</td>\n",
       "      <td>...</td>\n",
       "      <td>1.0</td>\n",
       "      <td>53.85</td>\n",
       "      <td>0.00</td>\n",
       "      <td>0.0</td>\n",
       "      <td>0.00</td>\n",
       "      <td>0.0</td>\n",
       "      <td>0.0</td>\n",
       "      <td>53.85</td>\n",
       "      <td>1.0</td>\n",
       "      <td>53.85</td>\n",
       "    </tr>\n",
       "    <tr>\n",
       "      <th>7795-CFOCW</th>\n",
       "      <td>45.0</td>\n",
       "      <td>0.0</td>\n",
       "      <td>0.0</td>\n",
       "      <td>0.0</td>\n",
       "      <td>1.0</td>\n",
       "      <td>0.0</td>\n",
       "      <td>42.30</td>\n",
       "      <td>0.0</td>\n",
       "      <td>0.0</td>\n",
       "      <td>0.0</td>\n",
       "      <td>...</td>\n",
       "      <td>1.0</td>\n",
       "      <td>42.30</td>\n",
       "      <td>42.30</td>\n",
       "      <td>42.3</td>\n",
       "      <td>42.30</td>\n",
       "      <td>0.0</td>\n",
       "      <td>0.0</td>\n",
       "      <td>0.00</td>\n",
       "      <td>1.0</td>\n",
       "      <td>42.30</td>\n",
       "    </tr>\n",
       "    <tr>\n",
       "      <th>9237-HQITU</th>\n",
       "      <td>2.0</td>\n",
       "      <td>1.0</td>\n",
       "      <td>0.0</td>\n",
       "      <td>0.0</td>\n",
       "      <td>0.0</td>\n",
       "      <td>0.0</td>\n",
       "      <td>70.70</td>\n",
       "      <td>0.0</td>\n",
       "      <td>0.0</td>\n",
       "      <td>0.0</td>\n",
       "      <td>...</td>\n",
       "      <td>0.0</td>\n",
       "      <td>0.00</td>\n",
       "      <td>0.00</td>\n",
       "      <td>0.0</td>\n",
       "      <td>0.00</td>\n",
       "      <td>0.0</td>\n",
       "      <td>0.0</td>\n",
       "      <td>70.70</td>\n",
       "      <td>0.0</td>\n",
       "      <td>0.00</td>\n",
       "    </tr>\n",
       "  </tbody>\n",
       "</table>\n",
       "<p>5 rows × 39 columns</p>\n",
       "</div>"
      ],
      "text/plain": [
       "            tenure  InternetService_Fiber optic  \\\n",
       "customerID                                        \n",
       "7590-VHVEG     1.0                          0.0   \n",
       "5575-GNVDE    34.0                          0.0   \n",
       "3668-QPYBK     2.0                          0.0   \n",
       "7795-CFOCW    45.0                          0.0   \n",
       "9237-HQITU     2.0                          1.0   \n",
       "\n",
       "            OnlineBackup_No internet service  OnlineBackup_Yes  \\\n",
       "customerID                                                       \n",
       "7590-VHVEG                               0.0               1.0   \n",
       "5575-GNVDE                               0.0               0.0   \n",
       "3668-QPYBK                               0.0               1.0   \n",
       "7795-CFOCW                               0.0               0.0   \n",
       "9237-HQITU                               0.0               0.0   \n",
       "\n",
       "            Contract_One year  Contract_Two year  MonthlyCharges  \\\n",
       "customerID                                                         \n",
       "7590-VHVEG                0.0                0.0           29.85   \n",
       "5575-GNVDE                1.0                0.0           56.95   \n",
       "3668-QPYBK                0.0                0.0           53.85   \n",
       "7795-CFOCW                1.0                0.0           42.30   \n",
       "9237-HQITU                0.0                0.0           70.70   \n",
       "\n",
       "            Seniority_1 tenure  Seniority_1 MonthlyCharges  \\\n",
       "customerID                                                   \n",
       "7590-VHVEG                 0.0                         0.0   \n",
       "5575-GNVDE                 0.0                         0.0   \n",
       "3668-QPYBK                 0.0                         0.0   \n",
       "7795-CFOCW                 0.0                         0.0   \n",
       "9237-HQITU                 0.0                         0.0   \n",
       "\n",
       "            Partner_Yes tenure  ...  OnlineSecurity_Yes^2  \\\n",
       "customerID                      ...                         \n",
       "7590-VHVEG                 1.0  ...                   0.0   \n",
       "5575-GNVDE                 0.0  ...                   1.0   \n",
       "3668-QPYBK                 0.0  ...                   1.0   \n",
       "7795-CFOCW                 0.0  ...                   1.0   \n",
       "9237-HQITU                 0.0  ...                   0.0   \n",
       "\n",
       "            OnlineSecurity_Yes MonthlyCharges  \\\n",
       "customerID                                      \n",
       "7590-VHVEG                               0.00   \n",
       "5575-GNVDE                              56.95   \n",
       "3668-QPYBK                              53.85   \n",
       "7795-CFOCW                              42.30   \n",
       "9237-HQITU                               0.00   \n",
       "\n",
       "            DeviceProtection_Yes MonthlyCharges  \\\n",
       "customerID                                        \n",
       "7590-VHVEG                                 0.00   \n",
       "5575-GNVDE                                56.95   \n",
       "3668-QPYBK                                 0.00   \n",
       "7795-CFOCW                                42.30   \n",
       "9237-HQITU                                 0.00   \n",
       "\n",
       "            TechSupport_Yes MonthlyCharges  Contract_One year MonthlyCharges  \\\n",
       "customerID                                                                     \n",
       "7590-VHVEG                             0.0                              0.00   \n",
       "5575-GNVDE                             0.0                             56.95   \n",
       "3668-QPYBK                             0.0                              0.00   \n",
       "7795-CFOCW                            42.3                             42.30   \n",
       "9237-HQITU                             0.0                              0.00   \n",
       "\n",
       "            Contract_Two year PaymentMethod_Non_elec_check  \\\n",
       "customerID                                                   \n",
       "7590-VHVEG                                             0.0   \n",
       "5575-GNVDE                                             0.0   \n",
       "3668-QPYBK                                             0.0   \n",
       "7795-CFOCW                                             0.0   \n",
       "9237-HQITU                                             0.0   \n",
       "\n",
       "            Contract_Two year MonthlyCharges  \\\n",
       "customerID                                     \n",
       "7590-VHVEG                               0.0   \n",
       "5575-GNVDE                               0.0   \n",
       "3668-QPYBK                               0.0   \n",
       "7795-CFOCW                               0.0   \n",
       "9237-HQITU                               0.0   \n",
       "\n",
       "            PaperlessBilling_Yes MonthlyCharges  \\\n",
       "customerID                                        \n",
       "7590-VHVEG                                29.85   \n",
       "5575-GNVDE                                 0.00   \n",
       "3668-QPYBK                                53.85   \n",
       "7795-CFOCW                                 0.00   \n",
       "9237-HQITU                                70.70   \n",
       "\n",
       "            PaymentMethod_Non_elec_check^2  \\\n",
       "customerID                                   \n",
       "7590-VHVEG                             0.0   \n",
       "5575-GNVDE                             1.0   \n",
       "3668-QPYBK                             1.0   \n",
       "7795-CFOCW                             1.0   \n",
       "9237-HQITU                             0.0   \n",
       "\n",
       "            PaymentMethod_Non_elec_check MonthlyCharges  \n",
       "customerID                                               \n",
       "7590-VHVEG                                         0.00  \n",
       "5575-GNVDE                                        56.95  \n",
       "3668-QPYBK                                        53.85  \n",
       "7795-CFOCW                                        42.30  \n",
       "9237-HQITU                                         0.00  \n",
       "\n",
       "[5 rows x 39 columns]"
      ]
     },
     "execution_count": 85,
     "metadata": {},
     "output_type": "execute_result"
    }
   ],
   "source": [
    "df_feat_clean.head()"
   ]
  },
  {
   "cell_type": "code",
   "execution_count": 214,
   "metadata": {},
   "outputs": [],
   "source": [
    "X = df_feat_clean\n",
    "y = df['Churn']\n",
    "\n",
    "y, X = balance_data(X, y, (True, 0.55), (False, 0.9), balan = True)"
   ]
  },
  {
   "cell_type": "code",
   "execution_count": 215,
   "metadata": {},
   "outputs": [
    {
     "data": {
      "text/html": [
       "<div>\n",
       "<style scoped>\n",
       "    .dataframe tbody tr th:only-of-type {\n",
       "        vertical-align: middle;\n",
       "    }\n",
       "\n",
       "    .dataframe tbody tr th {\n",
       "        vertical-align: top;\n",
       "    }\n",
       "\n",
       "    .dataframe thead th {\n",
       "        text-align: right;\n",
       "    }\n",
       "</style>\n",
       "<table border=\"1\" class=\"dataframe\">\n",
       "  <thead>\n",
       "    <tr style=\"text-align: right;\">\n",
       "      <th></th>\n",
       "      <th>index</th>\n",
       "      <th>Churn</th>\n",
       "    </tr>\n",
       "  </thead>\n",
       "  <tbody>\n",
       "    <tr>\n",
       "      <th>0</th>\n",
       "      <td>0.0</td>\n",
       "      <td>0.645149</td>\n",
       "    </tr>\n",
       "    <tr>\n",
       "      <th>1</th>\n",
       "      <td>1.0</td>\n",
       "      <td>0.354851</td>\n",
       "    </tr>\n",
       "  </tbody>\n",
       "</table>\n",
       "</div>"
      ],
      "text/plain": [
       "   index     Churn\n",
       "0    0.0  0.645149\n",
       "1    1.0  0.354851"
      ]
     },
     "execution_count": 215,
     "metadata": {},
     "output_type": "execute_result"
    }
   ],
   "source": [
    "y.value_counts().reset_index().apply(lambda x:x/x.sum())"
   ]
  },
  {
   "cell_type": "markdown",
   "metadata": {},
   "source": [
    "##### Train test split:"
   ]
  },
  {
   "cell_type": "code",
   "execution_count": 216,
   "metadata": {},
   "outputs": [],
   "source": [
    "seed = 111\n",
    "test_size = 0.2\n",
    "\n",
    "X_train, X_test, y_train, y_test = train_test_split(X, y, test_size=test_size, random_state=seed)"
   ]
  },
  {
   "cell_type": "code",
   "execution_count": 217,
   "metadata": {},
   "outputs": [
    {
     "name": "stdout",
     "output_type": "stream",
     "text": [
      "tuned hyper-parameters :  {'C': 100.0, 'penalty': 'l2'}\n"
     ]
    }
   ],
   "source": [
    "grid={\"C\":np.logspace(-3,3,7), \"penalty\":[\"l1\",\"l2\"]}\n",
    "\n",
    "logreg = LogisticRegression()\n",
    "logreg_cv = GridSearchCV(logreg, grid, cv=5)\n",
    "logreg_cv.fit(X_train, y_train)\n",
    "\n",
    "print(\"tuned hyper-parameters : \", logreg_cv.best_params_)"
   ]
  },
  {
   "cell_type": "markdown",
   "metadata": {},
   "source": [
    "##### Train metrics:"
   ]
  },
  {
   "cell_type": "code",
   "execution_count": 218,
   "metadata": {},
   "outputs": [],
   "source": [
    "clf = LogisticRegression(C=1, penalty=\"l2\")\n",
    "clf.fit(X_train, y_train)\n",
    "y_hat_train = clf.predict(X_train)"
   ]
  },
  {
   "cell_type": "code",
   "execution_count": 219,
   "metadata": {},
   "outputs": [
    {
     "name": "stdout",
     "output_type": "stream",
     "text": [
      "Accuracy score on train set: 77.52\n",
      "Recall score on train set: 68.23\n",
      "Precision score on train set: 68.89999999999999\n",
      "F1 score on train set: 68.60000000000001\n"
     ]
    }
   ],
   "source": [
    "print('Accuracy score on train set:', round(accuracy_score(y_hat_train, y_train),4)*100)\n",
    "print('Recall score on train set:',round(recall_score(y_hat_train, y_train),4)*100)\n",
    "print('Precision score on train set:',round(precision_score(y_hat_train, y_train),3)*100)\n",
    "print('F1 score on train set:',round(f1_score(y_hat_train, y_train),3)*100)"
   ]
  },
  {
   "cell_type": "code",
   "execution_count": 220,
   "metadata": {},
   "outputs": [
    {
     "data": {
      "text/html": [
       "<div>\n",
       "<style scoped>\n",
       "    .dataframe tbody tr th:only-of-type {\n",
       "        vertical-align: middle;\n",
       "    }\n",
       "\n",
       "    .dataframe tbody tr th {\n",
       "        vertical-align: top;\n",
       "    }\n",
       "\n",
       "    .dataframe thead th {\n",
       "        text-align: right;\n",
       "    }\n",
       "</style>\n",
       "<table border=\"1\" class=\"dataframe\">\n",
       "  <thead>\n",
       "    <tr style=\"text-align: right;\">\n",
       "      <th>Churn</th>\n",
       "      <th>0</th>\n",
       "      <th>1</th>\n",
       "    </tr>\n",
       "    <tr>\n",
       "      <th>row_0</th>\n",
       "      <th></th>\n",
       "      <th></th>\n",
       "    </tr>\n",
       "  </thead>\n",
       "  <tbody>\n",
       "    <tr>\n",
       "      <th>0</th>\n",
       "      <td>2233</td>\n",
       "      <td>466</td>\n",
       "    </tr>\n",
       "    <tr>\n",
       "      <th>1</th>\n",
       "      <td>481</td>\n",
       "      <td>1033</td>\n",
       "    </tr>\n",
       "  </tbody>\n",
       "</table>\n",
       "</div>"
      ],
      "text/plain": [
       "Churn     0     1\n",
       "row_0            \n",
       "0      2233   466\n",
       "1       481  1033"
      ]
     },
     "execution_count": 220,
     "metadata": {},
     "output_type": "execute_result"
    }
   ],
   "source": [
    "pd.crosstab(y_hat_train, y_train)"
   ]
  },
  {
   "cell_type": "markdown",
   "metadata": {},
   "source": [
    "##### Test metrics:"
   ]
  },
  {
   "cell_type": "code",
   "execution_count": 221,
   "metadata": {},
   "outputs": [],
   "source": [
    "y_hat_test = clf.predict(X_test)"
   ]
  },
  {
   "cell_type": "code",
   "execution_count": 222,
   "metadata": {},
   "outputs": [
    {
     "name": "stdout",
     "output_type": "stream",
     "text": [
      "Accuracy score on test set: 77.42\n",
      "Recall score on test set: 67.46\n",
      "Precision score on test set: 68.89999999999999\n",
      "F1 score on test set: 68.2\n"
     ]
    }
   ],
   "source": [
    "print('Accuracy score on test set:', round(accuracy_score(y_hat_test, y_test),4)*100)\n",
    "print('Recall score on test set:',round(recall_score(y_hat_test, y_test),4)*100)\n",
    "print('Precision score on test set:',round(precision_score(y_hat_test, y_test),3)*100)\n",
    "print('F1 score on test set:',round(f1_score(y_hat_test, y_test),3)*100)"
   ]
  },
  {
   "cell_type": "code",
   "execution_count": 223,
   "metadata": {},
   "outputs": [
    {
     "data": {
      "text/html": [
       "<div>\n",
       "<style scoped>\n",
       "    .dataframe tbody tr th:only-of-type {\n",
       "        vertical-align: middle;\n",
       "    }\n",
       "\n",
       "    .dataframe tbody tr th {\n",
       "        vertical-align: top;\n",
       "    }\n",
       "\n",
       "    .dataframe thead th {\n",
       "        text-align: right;\n",
       "    }\n",
       "</style>\n",
       "<table border=\"1\" class=\"dataframe\">\n",
       "  <thead>\n",
       "    <tr style=\"text-align: right;\">\n",
       "      <th>Churn</th>\n",
       "      <th>0</th>\n",
       "      <th>1</th>\n",
       "    </tr>\n",
       "    <tr>\n",
       "      <th>row_0</th>\n",
       "      <th></th>\n",
       "      <th></th>\n",
       "    </tr>\n",
       "  </thead>\n",
       "  <tbody>\n",
       "    <tr>\n",
       "      <th>0</th>\n",
       "      <td>561</td>\n",
       "      <td>115</td>\n",
       "    </tr>\n",
       "    <tr>\n",
       "      <th>1</th>\n",
       "      <td>123</td>\n",
       "      <td>255</td>\n",
       "    </tr>\n",
       "  </tbody>\n",
       "</table>\n",
       "</div>"
      ],
      "text/plain": [
       "Churn    0    1\n",
       "row_0          \n",
       "0      561  115\n",
       "1      123  255"
      ]
     },
     "execution_count": 223,
     "metadata": {},
     "output_type": "execute_result"
    }
   ],
   "source": [
    "pd.crosstab(y_hat_test, y_test)"
   ]
  },
  {
   "cell_type": "markdown",
   "metadata": {},
   "source": [
    "##### Visualizing distributions of predictions on train and test (Calibration):"
   ]
  },
  {
   "cell_type": "code",
   "execution_count": 224,
   "metadata": {},
   "outputs": [],
   "source": [
    "prob_y_train = clf.predict_proba(X_train)\n",
    "prob_y_test = clf.predict_proba(X_test)\n",
    "df_train_preds = pd.concat([pd.DataFrame(y_train).reset_index(drop=True), pd.DataFrame(prob_y_train)], axis=1).rename(columns={1:'y_hat'})\n",
    "df_test_preds = pd.concat([pd.DataFrame(y_test).reset_index(drop=True), pd.DataFrame(prob_y_test)], axis=1).rename(columns={1:'y_hat'})"
   ]
  },
  {
   "cell_type": "code",
   "execution_count": 225,
   "metadata": {},
   "outputs": [
    {
     "data": {
      "image/png": "[encoded data removed]",
      "text/plain": [
       "<Figure size 432x288 with 1 Axes>"
      ]
     },
     "metadata": {
      "needs_background": "light"
     },
     "output_type": "display_data"
    }
   ],
   "source": [
    "sns.kdeplot(data=df_train_preds, x='y_hat', hue='Churn')\n",
    "sns.kdeplot(data=df_test_preds, x='y_hat', hue='Churn')\n",
    "plt.show()"
   ]
  },
  {
   "cell_type": "code",
   "execution_count": 234,
   "metadata": {},
   "outputs": [],
   "source": [
    "below = norm.cdf(x = 0, loc = df_train_preds['y_hat'], scale = 0.10)\n",
    "above = 1- norm.cdf(x = 1, loc = df_train_preds['y_hat'], scale = 0.10)\n",
    "df_train_preds['edgeweight'] = 1 / (1 - below - above)\n",
    "below = norm.cdf(x = 0, loc = df_test_preds['y_hat'], scale = 0.10)\n",
    "above = 1- norm.cdf(x = 1, loc = df_test_preds['y_hat'], scale = 0.10)\n",
    "df_test_preds['edgeweight'] = 1 / (1 - below - above)"
   ]
  },
  {
   "cell_type": "code",
   "execution_count": 236,
   "metadata": {},
   "outputs": [
    {
     "data": {
      "image/png": "[encoded data removed]",
      "text/plain": [
       "<Figure size 432x288 with 1 Axes>"
      ]
     },
     "metadata": {
      "needs_background": "light"
     },
     "output_type": "display_data"
    }
   ],
   "source": [
    "sns.kdeplot(data=df_train_preds, x = \"y_hat\", hue = \"Churn\", \n",
    "            common_norm = False, bw_method = 0.2,\n",
    "            clip = (0,1), weights = 'edgeweight')\n",
    "sns.kdeplot(data=df_test_preds, x=\"y_hat\", hue = \"Churn\", \n",
    "            common_norm = False, bw_method = 0.2,\n",
    "            clip = (0,1), weights = 'edgeweight')\n",
    "plt.show()"
   ]
  },
  {
   "cell_type": "code",
   "execution_count": 237,
   "metadata": {},
   "outputs": [
    {
     "data": {
      "image/png": "[encoded data removed]",
      "text/plain": [
       "<Figure size 432x288 with 1 Axes>"
      ]
     },
     "metadata": {
      "needs_background": "light"
     },
     "output_type": "display_data"
    }
   ],
   "source": [
    "cum_plot = sns.kdeplot(data = df_train_preds, x = \"y_hat\", hue = \"Churn\", \n",
    "                common_norm = False, bw_method = 0.2,\n",
    "                clip = (0,1), weights = 'edgeweight', \n",
    "                multiple = \"fill\", legend = True)\n",
    "cum_plot.legend_._set_loc(4)\n",
    "plt.show()"
   ]
  },
  {
   "cell_type": "code",
   "execution_count": 238,
   "metadata": {},
   "outputs": [
    {
     "data": {
      "image/png": "[encoded data removed]",
      "text/plain": [
       "<Figure size 432x288 with 1 Axes>"
      ]
     },
     "metadata": {
      "needs_background": "light"
     },
     "output_type": "display_data"
    }
   ],
   "source": [
    "cum_plot = sns.kdeplot(data = df_test_preds, x = \"y_hat\", hue = \"Churn\", \n",
    "                common_norm = False, bw_method = 0.2,\n",
    "                clip = (0,1), weights = 'edgeweight', \n",
    "                multiple = \"fill\", legend = True)\n",
    "cum_plot.legend_._set_loc(4)\n",
    "plt.show()"
   ]
  },
  {
   "cell_type": "code",
   "execution_count": null,
   "metadata": {},
   "outputs": [],
   "source": []
  }
 ],
 "metadata": {
  "interpreter": {
   "hash": "916dbcbb3f70747c44a77c7bcd40155683ae19c65e1c03b4aa3499c5328201f1"
  },
  "kernelspec": {
   "display_name": "Python 3.8.10 64-bit",
   "language": "python",
   "name": "python3"
  },
  "language_info": {
   "codemirror_mode": {
    "name": "ipython",
    "version": 3
   },
   "file_extension": ".py",
   "mimetype": "text/x-python",
   "name": "python",
   "nbconvert_exporter": "python",
   "pygments_lexer": "ipython3",
   "version": "3.8.10"
  },
  "orig_nbformat": 4
 },
 "nbformat": 4,
 "nbformat_minor": 2
}
