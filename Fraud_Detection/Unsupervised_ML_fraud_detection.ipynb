{
 "cells": [
  {
   "cell_type": "markdown",
   "metadata": {},
   "source": [
    "### Libraries:"
   ]
  },
  {
   "cell_type": "code",
   "execution_count": 48,
   "metadata": {},
   "outputs": [],
   "source": [
    "#Core:\n",
    "\n",
    "import pandas as pd\n",
    "import numpy as np\n",
    "import matplotlib.pyplot as plt\n",
    "import seaborn as sns\n",
    "from io import BytesIO\n",
    "from zipfile import ZipFile\n",
    "import requests\n",
    "\n",
    "#Procesado datos:\n",
    "\n",
    "from sklearn.preprocessing import PolynomialFeatures\n",
    "from sklearn.ensemble import ExtraTreesClassifier\n",
    "from imblearn.over_sampling import SMOTE\n",
    "from imblearn.under_sampling import RandomUnderSampler\n",
    "from imblearn.pipeline import Pipeline\n",
    "from sklearn.preprocessing import StandardScaler\n",
    "from sklearn.decomposition import PCA\n",
    "\n",
    "#Models:\n",
    "\n",
    "from sklearn.cluster import DBSCAN\n",
    "from sklearn.neighbors import NearestNeighbors\n",
    "from sklearn.model_selection import train_test_split\n",
    "from sklearn import metrics\n",
    "from sklearn.metrics import accuracy_score\n",
    "from sklearn.metrics import precision_score\n",
    "from sklearn.metrics import recall_score\n",
    "from sklearn.metrics import f1_score\n",
    "\n",
    "import warnings\n",
    "warnings.filterwarnings(\"ignore\")"
   ]
  },
  {
   "cell_type": "markdown",
   "metadata": {},
   "source": [
    "### Loading data:"
   ]
  },
  {
   "cell_type": "code",
   "execution_count": 2,
   "metadata": {},
   "outputs": [],
   "source": [
    "# Loading Clients data:\n",
    "\n",
    "url_cli_train = 'https://raw.githubusercontent.com/manugaco/ML_User_Cases/master/Datasets/Fraud_detection/client_train.csv'\n",
    "cli_train = pd.read_csv(url_cli_train, low_memory=False)\n",
    "\n",
    "url_cli_test = 'https://raw.githubusercontent.com/manugaco/ML_User_Cases/master/Datasets/Fraud_detection/client_test.csv'\n",
    "cli_test = pd.read_csv(url_cli_test, low_memory=False)\n",
    "\n",
    "# Loading Invoices data:\n",
    "\n",
    "url_inv_train = 'https://github.com/manugaco/ML_User_Cases/raw/master/Datasets/Fraud_detection/invoice_train.csv.zip?raw=true'\n",
    "zip_inv_train = ZipFile(BytesIO(requests.get(url_inv_train).content), 'r')\n",
    "inv_train = pd.read_csv(zip_inv_train.open(zip_inv_train.namelist()[0]), low_memory=False)\n",
    "\n",
    "url_inv_test = 'https://github.com/manugaco/ML_User_Cases/blob/master/Datasets/Fraud_detection/invoice_test.csv.zip?raw=true'\n",
    "url_inv_test = ZipFile(BytesIO(requests.get(url_inv_test).content), 'r')\n",
    "inv_test = pd.read_csv(url_inv_test.open(url_inv_test.namelist()[0]), low_memory=False)"
   ]
  },
  {
   "cell_type": "markdown",
   "metadata": {},
   "source": [
    "### Data preview:"
   ]
  },
  {
   "cell_type": "code",
   "execution_count": 3,
   "metadata": {},
   "outputs": [
    {
     "name": "stdout",
     "output_type": "stream",
     "text": [
      "Clients train dataset dimensions:  (135493, 6)\n",
      "Clients test dataset dimensions:  (58069, 5)\n",
      "Invoices train dataset dimensions:  (4476749, 16)\n",
      "Invoices test dataset dimensions:  (1939730, 16)\n"
     ]
    }
   ],
   "source": [
    "print('Clients train dataset dimensions: ', cli_train.shape)\n",
    "print('Clients test dataset dimensions: ', cli_test.shape)\n",
    "print('Invoices train dataset dimensions: ', inv_train.shape)\n",
    "print('Invoices test dataset dimensions: ', inv_test.shape)"
   ]
  },
  {
   "cell_type": "code",
   "execution_count": 4,
   "metadata": {},
   "outputs": [
    {
     "data": {
      "text/html": [
       "<div>\n",
       "<style scoped>\n",
       "    .dataframe tbody tr th:only-of-type {\n",
       "        vertical-align: middle;\n",
       "    }\n",
       "\n",
       "    .dataframe tbody tr th {\n",
       "        vertical-align: top;\n",
       "    }\n",
       "\n",
       "    .dataframe thead th {\n",
       "        text-align: right;\n",
       "    }\n",
       "</style>\n",
       "<table border=\"1\" class=\"dataframe\">\n",
       "  <thead>\n",
       "    <tr style=\"text-align: right;\">\n",
       "      <th></th>\n",
       "      <th>disrict</th>\n",
       "      <th>client_id</th>\n",
       "      <th>client_catg</th>\n",
       "      <th>region</th>\n",
       "      <th>creation_date</th>\n",
       "      <th>target</th>\n",
       "    </tr>\n",
       "  </thead>\n",
       "  <tbody>\n",
       "    <tr>\n",
       "      <th>0</th>\n",
       "      <td>60</td>\n",
       "      <td>train_Client_0</td>\n",
       "      <td>11</td>\n",
       "      <td>101</td>\n",
       "      <td>31/12/1994</td>\n",
       "      <td>0.0</td>\n",
       "    </tr>\n",
       "    <tr>\n",
       "      <th>1</th>\n",
       "      <td>69</td>\n",
       "      <td>train_Client_1</td>\n",
       "      <td>11</td>\n",
       "      <td>107</td>\n",
       "      <td>29/05/2002</td>\n",
       "      <td>0.0</td>\n",
       "    </tr>\n",
       "    <tr>\n",
       "      <th>2</th>\n",
       "      <td>62</td>\n",
       "      <td>train_Client_10</td>\n",
       "      <td>11</td>\n",
       "      <td>301</td>\n",
       "      <td>13/03/1986</td>\n",
       "      <td>0.0</td>\n",
       "    </tr>\n",
       "    <tr>\n",
       "      <th>3</th>\n",
       "      <td>69</td>\n",
       "      <td>train_Client_100</td>\n",
       "      <td>11</td>\n",
       "      <td>105</td>\n",
       "      <td>11/07/1996</td>\n",
       "      <td>0.0</td>\n",
       "    </tr>\n",
       "    <tr>\n",
       "      <th>4</th>\n",
       "      <td>62</td>\n",
       "      <td>train_Client_1000</td>\n",
       "      <td>11</td>\n",
       "      <td>303</td>\n",
       "      <td>14/10/2014</td>\n",
       "      <td>0.0</td>\n",
       "    </tr>\n",
       "  </tbody>\n",
       "</table>\n",
       "</div>"
      ],
      "text/plain": [
       "   disrict          client_id  client_catg  region creation_date  target\n",
       "0       60     train_Client_0           11     101    31/12/1994     0.0\n",
       "1       69     train_Client_1           11     107    29/05/2002     0.0\n",
       "2       62    train_Client_10           11     301    13/03/1986     0.0\n",
       "3       69   train_Client_100           11     105    11/07/1996     0.0\n",
       "4       62  train_Client_1000           11     303    14/10/2014     0.0"
      ]
     },
     "execution_count": 4,
     "metadata": {},
     "output_type": "execute_result"
    }
   ],
   "source": [
    "cli_train.head()"
   ]
  },
  {
   "cell_type": "code",
   "execution_count": 5,
   "metadata": {},
   "outputs": [
    {
     "data": {
      "text/html": [
       "<div>\n",
       "<style scoped>\n",
       "    .dataframe tbody tr th:only-of-type {\n",
       "        vertical-align: middle;\n",
       "    }\n",
       "\n",
       "    .dataframe tbody tr th {\n",
       "        vertical-align: top;\n",
       "    }\n",
       "\n",
       "    .dataframe thead th {\n",
       "        text-align: right;\n",
       "    }\n",
       "</style>\n",
       "<table border=\"1\" class=\"dataframe\">\n",
       "  <thead>\n",
       "    <tr style=\"text-align: right;\">\n",
       "      <th></th>\n",
       "      <th>client_id</th>\n",
       "      <th>invoice_date</th>\n",
       "      <th>tarif_type</th>\n",
       "      <th>counter_number</th>\n",
       "      <th>counter_statue</th>\n",
       "      <th>counter_code</th>\n",
       "      <th>reading_remarque</th>\n",
       "      <th>counter_coefficient</th>\n",
       "      <th>consommation_level_1</th>\n",
       "      <th>consommation_level_2</th>\n",
       "      <th>consommation_level_3</th>\n",
       "      <th>consommation_level_4</th>\n",
       "      <th>old_index</th>\n",
       "      <th>new_index</th>\n",
       "      <th>months_number</th>\n",
       "      <th>counter_type</th>\n",
       "    </tr>\n",
       "  </thead>\n",
       "  <tbody>\n",
       "    <tr>\n",
       "      <th>0</th>\n",
       "      <td>train_Client_0</td>\n",
       "      <td>2014-03-24</td>\n",
       "      <td>11</td>\n",
       "      <td>1335667</td>\n",
       "      <td>0</td>\n",
       "      <td>203</td>\n",
       "      <td>8</td>\n",
       "      <td>1</td>\n",
       "      <td>82</td>\n",
       "      <td>0</td>\n",
       "      <td>0</td>\n",
       "      <td>0</td>\n",
       "      <td>14302</td>\n",
       "      <td>14384</td>\n",
       "      <td>4</td>\n",
       "      <td>ELEC</td>\n",
       "    </tr>\n",
       "    <tr>\n",
       "      <th>1</th>\n",
       "      <td>train_Client_0</td>\n",
       "      <td>2013-03-29</td>\n",
       "      <td>11</td>\n",
       "      <td>1335667</td>\n",
       "      <td>0</td>\n",
       "      <td>203</td>\n",
       "      <td>6</td>\n",
       "      <td>1</td>\n",
       "      <td>1200</td>\n",
       "      <td>184</td>\n",
       "      <td>0</td>\n",
       "      <td>0</td>\n",
       "      <td>12294</td>\n",
       "      <td>13678</td>\n",
       "      <td>4</td>\n",
       "      <td>ELEC</td>\n",
       "    </tr>\n",
       "    <tr>\n",
       "      <th>2</th>\n",
       "      <td>train_Client_0</td>\n",
       "      <td>2015-03-23</td>\n",
       "      <td>11</td>\n",
       "      <td>1335667</td>\n",
       "      <td>0</td>\n",
       "      <td>203</td>\n",
       "      <td>8</td>\n",
       "      <td>1</td>\n",
       "      <td>123</td>\n",
       "      <td>0</td>\n",
       "      <td>0</td>\n",
       "      <td>0</td>\n",
       "      <td>14624</td>\n",
       "      <td>14747</td>\n",
       "      <td>4</td>\n",
       "      <td>ELEC</td>\n",
       "    </tr>\n",
       "    <tr>\n",
       "      <th>3</th>\n",
       "      <td>train_Client_0</td>\n",
       "      <td>2015-07-13</td>\n",
       "      <td>11</td>\n",
       "      <td>1335667</td>\n",
       "      <td>0</td>\n",
       "      <td>207</td>\n",
       "      <td>8</td>\n",
       "      <td>1</td>\n",
       "      <td>102</td>\n",
       "      <td>0</td>\n",
       "      <td>0</td>\n",
       "      <td>0</td>\n",
       "      <td>14747</td>\n",
       "      <td>14849</td>\n",
       "      <td>4</td>\n",
       "      <td>ELEC</td>\n",
       "    </tr>\n",
       "    <tr>\n",
       "      <th>4</th>\n",
       "      <td>train_Client_0</td>\n",
       "      <td>2016-11-17</td>\n",
       "      <td>11</td>\n",
       "      <td>1335667</td>\n",
       "      <td>0</td>\n",
       "      <td>207</td>\n",
       "      <td>9</td>\n",
       "      <td>1</td>\n",
       "      <td>572</td>\n",
       "      <td>0</td>\n",
       "      <td>0</td>\n",
       "      <td>0</td>\n",
       "      <td>15066</td>\n",
       "      <td>15638</td>\n",
       "      <td>12</td>\n",
       "      <td>ELEC</td>\n",
       "    </tr>\n",
       "  </tbody>\n",
       "</table>\n",
       "</div>"
      ],
      "text/plain": [
       "        client_id invoice_date  tarif_type  counter_number counter_statue  \\\n",
       "0  train_Client_0   2014-03-24          11         1335667              0   \n",
       "1  train_Client_0   2013-03-29          11         1335667              0   \n",
       "2  train_Client_0   2015-03-23          11         1335667              0   \n",
       "3  train_Client_0   2015-07-13          11         1335667              0   \n",
       "4  train_Client_0   2016-11-17          11         1335667              0   \n",
       "\n",
       "   counter_code  reading_remarque  counter_coefficient  consommation_level_1  \\\n",
       "0           203                 8                    1                    82   \n",
       "1           203                 6                    1                  1200   \n",
       "2           203                 8                    1                   123   \n",
       "3           207                 8                    1                   102   \n",
       "4           207                 9                    1                   572   \n",
       "\n",
       "   consommation_level_2  consommation_level_3  consommation_level_4  \\\n",
       "0                     0                     0                     0   \n",
       "1                   184                     0                     0   \n",
       "2                     0                     0                     0   \n",
       "3                     0                     0                     0   \n",
       "4                     0                     0                     0   \n",
       "\n",
       "   old_index  new_index  months_number counter_type  \n",
       "0      14302      14384              4         ELEC  \n",
       "1      12294      13678              4         ELEC  \n",
       "2      14624      14747              4         ELEC  \n",
       "3      14747      14849              4         ELEC  \n",
       "4      15066      15638             12         ELEC  "
      ]
     },
     "execution_count": 5,
     "metadata": {},
     "output_type": "execute_result"
    }
   ],
   "source": [
    "inv_train.head()"
   ]
  },
  {
   "cell_type": "markdown",
   "metadata": {},
   "source": [
    "### Data wrangling:"
   ]
  },
  {
   "cell_type": "markdown",
   "metadata": {},
   "source": [
    "#### Missing values:"
   ]
  },
  {
   "cell_type": "code",
   "execution_count": 6,
   "metadata": {},
   "outputs": [],
   "source": [
    "# Check missing values on each column function:\n",
    "\n",
    "def missing(tabla):\n",
    "    return [pd.isna(tabla[column]).sum() for column in tabla.columns]"
   ]
  },
  {
   "cell_type": "code",
   "execution_count": 7,
   "metadata": {},
   "outputs": [
    {
     "data": {
      "text/html": [
       "<div>\n",
       "<style scoped>\n",
       "    .dataframe tbody tr th:only-of-type {\n",
       "        vertical-align: middle;\n",
       "    }\n",
       "\n",
       "    .dataframe tbody tr th {\n",
       "        vertical-align: top;\n",
       "    }\n",
       "\n",
       "    .dataframe thead th {\n",
       "        text-align: right;\n",
       "    }\n",
       "</style>\n",
       "<table border=\"1\" class=\"dataframe\">\n",
       "  <thead>\n",
       "    <tr style=\"text-align: right;\">\n",
       "      <th></th>\n",
       "      <th>disrict</th>\n",
       "      <th>client_id</th>\n",
       "      <th>client_catg</th>\n",
       "      <th>region</th>\n",
       "      <th>creation_date</th>\n",
       "      <th>target</th>\n",
       "    </tr>\n",
       "  </thead>\n",
       "  <tbody>\n",
       "    <tr>\n",
       "      <th>Clients train dataset</th>\n",
       "      <td>0</td>\n",
       "      <td>0</td>\n",
       "      <td>0</td>\n",
       "      <td>0</td>\n",
       "      <td>0</td>\n",
       "      <td>0</td>\n",
       "    </tr>\n",
       "  </tbody>\n",
       "</table>\n",
       "</div>"
      ],
      "text/plain": [
       "                       disrict  client_id  client_catg  region  creation_date  \\\n",
       "Clients train dataset        0          0            0       0              0   \n",
       "\n",
       "                       target  \n",
       "Clients train dataset       0  "
      ]
     },
     "execution_count": 7,
     "metadata": {},
     "output_type": "execute_result"
    }
   ],
   "source": [
    "miss = pd.DataFrame(missing(cli_train), index = cli_train.columns).transpose()\n",
    "miss.index = ['Clients train dataset']\n",
    "miss"
   ]
  },
  {
   "cell_type": "code",
   "execution_count": 8,
   "metadata": {},
   "outputs": [
    {
     "data": {
      "text/html": [
       "<div>\n",
       "<style scoped>\n",
       "    .dataframe tbody tr th:only-of-type {\n",
       "        vertical-align: middle;\n",
       "    }\n",
       "\n",
       "    .dataframe tbody tr th {\n",
       "        vertical-align: top;\n",
       "    }\n",
       "\n",
       "    .dataframe thead th {\n",
       "        text-align: right;\n",
       "    }\n",
       "</style>\n",
       "<table border=\"1\" class=\"dataframe\">\n",
       "  <thead>\n",
       "    <tr style=\"text-align: right;\">\n",
       "      <th></th>\n",
       "      <th>disrict</th>\n",
       "      <th>client_id</th>\n",
       "      <th>client_catg</th>\n",
       "      <th>region</th>\n",
       "      <th>creation_date</th>\n",
       "    </tr>\n",
       "  </thead>\n",
       "  <tbody>\n",
       "    <tr>\n",
       "      <th>Clients test dataset</th>\n",
       "      <td>0</td>\n",
       "      <td>0</td>\n",
       "      <td>0</td>\n",
       "      <td>0</td>\n",
       "      <td>0</td>\n",
       "    </tr>\n",
       "  </tbody>\n",
       "</table>\n",
       "</div>"
      ],
      "text/plain": [
       "                      disrict  client_id  client_catg  region  creation_date\n",
       "Clients test dataset        0          0            0       0              0"
      ]
     },
     "execution_count": 8,
     "metadata": {},
     "output_type": "execute_result"
    }
   ],
   "source": [
    "miss = pd.DataFrame(missing(cli_test), index = cli_test.columns).transpose()\n",
    "miss.index = ['Clients test dataset']\n",
    "miss"
   ]
  },
  {
   "cell_type": "code",
   "execution_count": 9,
   "metadata": {},
   "outputs": [
    {
     "data": {
      "text/html": [
       "<div>\n",
       "<style scoped>\n",
       "    .dataframe tbody tr th:only-of-type {\n",
       "        vertical-align: middle;\n",
       "    }\n",
       "\n",
       "    .dataframe tbody tr th {\n",
       "        vertical-align: top;\n",
       "    }\n",
       "\n",
       "    .dataframe thead th {\n",
       "        text-align: right;\n",
       "    }\n",
       "</style>\n",
       "<table border=\"1\" class=\"dataframe\">\n",
       "  <thead>\n",
       "    <tr style=\"text-align: right;\">\n",
       "      <th></th>\n",
       "      <th>client_id</th>\n",
       "      <th>invoice_date</th>\n",
       "      <th>tarif_type</th>\n",
       "      <th>counter_number</th>\n",
       "      <th>counter_statue</th>\n",
       "      <th>counter_code</th>\n",
       "      <th>reading_remarque</th>\n",
       "      <th>counter_coefficient</th>\n",
       "      <th>consommation_level_1</th>\n",
       "      <th>consommation_level_2</th>\n",
       "      <th>consommation_level_3</th>\n",
       "      <th>consommation_level_4</th>\n",
       "      <th>old_index</th>\n",
       "      <th>new_index</th>\n",
       "      <th>months_number</th>\n",
       "      <th>counter_type</th>\n",
       "    </tr>\n",
       "  </thead>\n",
       "  <tbody>\n",
       "    <tr>\n",
       "      <th>Invoices train dataset</th>\n",
       "      <td>0</td>\n",
       "      <td>0</td>\n",
       "      <td>0</td>\n",
       "      <td>0</td>\n",
       "      <td>0</td>\n",
       "      <td>0</td>\n",
       "      <td>0</td>\n",
       "      <td>0</td>\n",
       "      <td>0</td>\n",
       "      <td>0</td>\n",
       "      <td>0</td>\n",
       "      <td>0</td>\n",
       "      <td>0</td>\n",
       "      <td>0</td>\n",
       "      <td>0</td>\n",
       "      <td>0</td>\n",
       "    </tr>\n",
       "  </tbody>\n",
       "</table>\n",
       "</div>"
      ],
      "text/plain": [
       "                        client_id  invoice_date  tarif_type  counter_number  \\\n",
       "Invoices train dataset          0             0           0               0   \n",
       "\n",
       "                        counter_statue  counter_code  reading_remarque  \\\n",
       "Invoices train dataset               0             0                 0   \n",
       "\n",
       "                        counter_coefficient  consommation_level_1  \\\n",
       "Invoices train dataset                    0                     0   \n",
       "\n",
       "                        consommation_level_2  consommation_level_3  \\\n",
       "Invoices train dataset                     0                     0   \n",
       "\n",
       "                        consommation_level_4  old_index  new_index  \\\n",
       "Invoices train dataset                     0          0          0   \n",
       "\n",
       "                        months_number  counter_type  \n",
       "Invoices train dataset              0             0  "
      ]
     },
     "execution_count": 9,
     "metadata": {},
     "output_type": "execute_result"
    }
   ],
   "source": [
    "miss = pd.DataFrame(missing(inv_train), index = inv_train.columns).transpose()\n",
    "miss.index = ['Invoices train dataset']\n",
    "miss"
   ]
  },
  {
   "cell_type": "code",
   "execution_count": 10,
   "metadata": {},
   "outputs": [
    {
     "data": {
      "text/html": [
       "<div>\n",
       "<style scoped>\n",
       "    .dataframe tbody tr th:only-of-type {\n",
       "        vertical-align: middle;\n",
       "    }\n",
       "\n",
       "    .dataframe tbody tr th {\n",
       "        vertical-align: top;\n",
       "    }\n",
       "\n",
       "    .dataframe thead th {\n",
       "        text-align: right;\n",
       "    }\n",
       "</style>\n",
       "<table border=\"1\" class=\"dataframe\">\n",
       "  <thead>\n",
       "    <tr style=\"text-align: right;\">\n",
       "      <th></th>\n",
       "      <th>client_id</th>\n",
       "      <th>invoice_date</th>\n",
       "      <th>tarif_type</th>\n",
       "      <th>counter_number</th>\n",
       "      <th>counter_statue</th>\n",
       "      <th>counter_code</th>\n",
       "      <th>reading_remarque</th>\n",
       "      <th>counter_coefficient</th>\n",
       "      <th>consommation_level_1</th>\n",
       "      <th>consommation_level_2</th>\n",
       "      <th>consommation_level_3</th>\n",
       "      <th>consommation_level_4</th>\n",
       "      <th>old_index</th>\n",
       "      <th>new_index</th>\n",
       "      <th>months_number</th>\n",
       "      <th>counter_type</th>\n",
       "    </tr>\n",
       "  </thead>\n",
       "  <tbody>\n",
       "    <tr>\n",
       "      <th>Invoices test dataset</th>\n",
       "      <td>0</td>\n",
       "      <td>0</td>\n",
       "      <td>0</td>\n",
       "      <td>0</td>\n",
       "      <td>0</td>\n",
       "      <td>0</td>\n",
       "      <td>0</td>\n",
       "      <td>0</td>\n",
       "      <td>0</td>\n",
       "      <td>0</td>\n",
       "      <td>0</td>\n",
       "      <td>0</td>\n",
       "      <td>0</td>\n",
       "      <td>0</td>\n",
       "      <td>0</td>\n",
       "      <td>0</td>\n",
       "    </tr>\n",
       "  </tbody>\n",
       "</table>\n",
       "</div>"
      ],
      "text/plain": [
       "                       client_id  invoice_date  tarif_type  counter_number  \\\n",
       "Invoices test dataset          0             0           0               0   \n",
       "\n",
       "                       counter_statue  counter_code  reading_remarque  \\\n",
       "Invoices test dataset               0             0                 0   \n",
       "\n",
       "                       counter_coefficient  consommation_level_1  \\\n",
       "Invoices test dataset                    0                     0   \n",
       "\n",
       "                       consommation_level_2  consommation_level_3  \\\n",
       "Invoices test dataset                     0                     0   \n",
       "\n",
       "                       consommation_level_4  old_index  new_index  \\\n",
       "Invoices test dataset                     0          0          0   \n",
       "\n",
       "                       months_number  counter_type  \n",
       "Invoices test dataset              0             0  "
      ]
     },
     "execution_count": 10,
     "metadata": {},
     "output_type": "execute_result"
    }
   ],
   "source": [
    "miss = pd.DataFrame(missing(inv_test), index = inv_test.columns).transpose()\n",
    "miss.index = ['Invoices test dataset']\n",
    "miss"
   ]
  },
  {
   "cell_type": "markdown",
   "metadata": {},
   "source": [
    "#### Duplicated entries:"
   ]
  },
  {
   "cell_type": "code",
   "execution_count": 11,
   "metadata": {},
   "outputs": [
    {
     "name": "stdout",
     "output_type": "stream",
     "text": [
      "Number of duplicated entries in clients train dataset:  0\n",
      "Number of duplicated entries in clients test dataset:  0\n",
      "Number of duplicated entries in invoices train dataset:  7263\n",
      "Number of duplicated entries in invoices test dataset:  3004\n"
     ]
    }
   ],
   "source": [
    "print('Number of duplicated entries in clients train dataset: ', cli_train.duplicated(subset=['client_id']).sum())\n",
    "print('Number of duplicated entries in clients test dataset: ',cli_test.duplicated(subset=['client_id']).sum())\n",
    "print('Number of duplicated entries in invoices train dataset: ', inv_train.duplicated(subset=['client_id','invoice_date','new_index']).sum())\n",
    "print('Number of duplicated entries in invoices test dataset: ', inv_test.duplicated(subset=['client_id','invoice_date','new_index']).sum())"
   ]
  },
  {
   "cell_type": "code",
   "execution_count": 12,
   "metadata": {},
   "outputs": [],
   "source": [
    "inv_train = inv_train.drop_duplicates(subset=['client_id','invoice_date','new_index'])\n",
    "inv_test = inv_test.drop_duplicates(subset=['client_id','invoice_date','new_index'])"
   ]
  },
  {
   "cell_type": "markdown",
   "metadata": {},
   "source": [
    "#### Train and test Id's validation:"
   ]
  },
  {
   "cell_type": "code",
   "execution_count": 13,
   "metadata": {},
   "outputs": [],
   "source": [
    "val_dis = [(var, len(inv_train[var].value_counts())) for var in inv_train.columns]\n",
    "inv_train_gp = inv_train.groupby('client_id').count().reset_index()\n",
    "merged = cli_train.merge(inv_train_gp, on = 'client_id', how = 'inner')"
   ]
  },
  {
   "cell_type": "code",
   "execution_count": 14,
   "metadata": {},
   "outputs": [
    {
     "name": "stdout",
     "output_type": "stream",
     "text": [
      "135493\n",
      "True\n",
      "True\n",
      "True\n"
     ]
    }
   ],
   "source": [
    "print(len(cli_train['client_id'].value_counts()))\n",
    "print(len(cli_train['client_id'].value_counts()) == val_dis[0][1])\n",
    "print(len(cli_train['client_id'].value_counts()) == merged.shape[0])\n",
    "print(val_dis[0][1] == merged.shape[0])"
   ]
  },
  {
   "cell_type": "code",
   "execution_count": 15,
   "metadata": {},
   "outputs": [
    {
     "data": {
      "text/html": [
       "<div>\n",
       "<style scoped>\n",
       "    .dataframe tbody tr th:only-of-type {\n",
       "        vertical-align: middle;\n",
       "    }\n",
       "\n",
       "    .dataframe tbody tr th {\n",
       "        vertical-align: top;\n",
       "    }\n",
       "\n",
       "    .dataframe thead th {\n",
       "        text-align: right;\n",
       "    }\n",
       "</style>\n",
       "<table border=\"1\" class=\"dataframe\">\n",
       "  <thead>\n",
       "    <tr style=\"text-align: right;\">\n",
       "      <th></th>\n",
       "      <th>client_id</th>\n",
       "      <th>invoice_date</th>\n",
       "      <th>tarif_type</th>\n",
       "      <th>counter_number</th>\n",
       "      <th>counter_statue</th>\n",
       "      <th>counter_code</th>\n",
       "      <th>reading_remarque</th>\n",
       "      <th>counter_coefficient</th>\n",
       "      <th>consommation_level_1</th>\n",
       "      <th>consommation_level_2</th>\n",
       "      <th>consommation_level_3</th>\n",
       "      <th>consommation_level_4</th>\n",
       "      <th>old_index</th>\n",
       "      <th>new_index</th>\n",
       "      <th>months_number</th>\n",
       "      <th>counter_type</th>\n",
       "    </tr>\n",
       "  </thead>\n",
       "  <tbody>\n",
       "    <tr>\n",
       "      <th>0</th>\n",
       "      <td>train_Client_0</td>\n",
       "      <td>35</td>\n",
       "      <td>35</td>\n",
       "      <td>35</td>\n",
       "      <td>35</td>\n",
       "      <td>35</td>\n",
       "      <td>35</td>\n",
       "      <td>35</td>\n",
       "      <td>35</td>\n",
       "      <td>35</td>\n",
       "      <td>35</td>\n",
       "      <td>35</td>\n",
       "      <td>35</td>\n",
       "      <td>35</td>\n",
       "      <td>35</td>\n",
       "      <td>35</td>\n",
       "    </tr>\n",
       "    <tr>\n",
       "      <th>1</th>\n",
       "      <td>train_Client_1</td>\n",
       "      <td>37</td>\n",
       "      <td>37</td>\n",
       "      <td>37</td>\n",
       "      <td>37</td>\n",
       "      <td>37</td>\n",
       "      <td>37</td>\n",
       "      <td>37</td>\n",
       "      <td>37</td>\n",
       "      <td>37</td>\n",
       "      <td>37</td>\n",
       "      <td>37</td>\n",
       "      <td>37</td>\n",
       "      <td>37</td>\n",
       "      <td>37</td>\n",
       "      <td>37</td>\n",
       "    </tr>\n",
       "    <tr>\n",
       "      <th>2</th>\n",
       "      <td>train_Client_10</td>\n",
       "      <td>18</td>\n",
       "      <td>18</td>\n",
       "      <td>18</td>\n",
       "      <td>18</td>\n",
       "      <td>18</td>\n",
       "      <td>18</td>\n",
       "      <td>18</td>\n",
       "      <td>18</td>\n",
       "      <td>18</td>\n",
       "      <td>18</td>\n",
       "      <td>18</td>\n",
       "      <td>18</td>\n",
       "      <td>18</td>\n",
       "      <td>18</td>\n",
       "      <td>18</td>\n",
       "    </tr>\n",
       "    <tr>\n",
       "      <th>3</th>\n",
       "      <td>train_Client_100</td>\n",
       "      <td>20</td>\n",
       "      <td>20</td>\n",
       "      <td>20</td>\n",
       "      <td>20</td>\n",
       "      <td>20</td>\n",
       "      <td>20</td>\n",
       "      <td>20</td>\n",
       "      <td>20</td>\n",
       "      <td>20</td>\n",
       "      <td>20</td>\n",
       "      <td>20</td>\n",
       "      <td>20</td>\n",
       "      <td>20</td>\n",
       "      <td>20</td>\n",
       "      <td>20</td>\n",
       "    </tr>\n",
       "    <tr>\n",
       "      <th>4</th>\n",
       "      <td>train_Client_1000</td>\n",
       "      <td>14</td>\n",
       "      <td>14</td>\n",
       "      <td>14</td>\n",
       "      <td>14</td>\n",
       "      <td>14</td>\n",
       "      <td>14</td>\n",
       "      <td>14</td>\n",
       "      <td>14</td>\n",
       "      <td>14</td>\n",
       "      <td>14</td>\n",
       "      <td>14</td>\n",
       "      <td>14</td>\n",
       "      <td>14</td>\n",
       "      <td>14</td>\n",
       "      <td>14</td>\n",
       "    </tr>\n",
       "  </tbody>\n",
       "</table>\n",
       "</div>"
      ],
      "text/plain": [
       "           client_id  invoice_date  tarif_type  counter_number  \\\n",
       "0     train_Client_0            35          35              35   \n",
       "1     train_Client_1            37          37              37   \n",
       "2    train_Client_10            18          18              18   \n",
       "3   train_Client_100            20          20              20   \n",
       "4  train_Client_1000            14          14              14   \n",
       "\n",
       "   counter_statue  counter_code  reading_remarque  counter_coefficient  \\\n",
       "0              35            35                35                   35   \n",
       "1              37            37                37                   37   \n",
       "2              18            18                18                   18   \n",
       "3              20            20                20                   20   \n",
       "4              14            14                14                   14   \n",
       "\n",
       "   consommation_level_1  consommation_level_2  consommation_level_3  \\\n",
       "0                    35                    35                    35   \n",
       "1                    37                    37                    37   \n",
       "2                    18                    18                    18   \n",
       "3                    20                    20                    20   \n",
       "4                    14                    14                    14   \n",
       "\n",
       "   consommation_level_4  old_index  new_index  months_number  counter_type  \n",
       "0                    35         35         35             35            35  \n",
       "1                    37         37         37             37            37  \n",
       "2                    18         18         18             18            18  \n",
       "3                    20         20         20             20            20  \n",
       "4                    14         14         14             14            14  "
      ]
     },
     "execution_count": 15,
     "metadata": {},
     "output_type": "execute_result"
    }
   ],
   "source": [
    "inv_train_gp.head()"
   ]
  },
  {
   "cell_type": "code",
   "execution_count": 16,
   "metadata": {},
   "outputs": [
    {
     "data": {
      "text/plain": [
       "Index(['disrict', 'client_id', 'client_catg', 'region', 'creation_date',\n",
       "       'target', 'invoice_date', 'tarif_type', 'counter_number',\n",
       "       'counter_statue', 'counter_code', 'reading_remarque',\n",
       "       'counter_coefficient', 'consommation_level_1', 'consommation_level_2',\n",
       "       'consommation_level_3', 'consommation_level_4', 'old_index',\n",
       "       'new_index', 'months_number', 'counter_type'],\n",
       "      dtype='object')"
      ]
     },
     "execution_count": 16,
     "metadata": {},
     "output_type": "execute_result"
    }
   ],
   "source": [
    "merged.columns"
   ]
  },
  {
   "cell_type": "code",
   "execution_count": 17,
   "metadata": {},
   "outputs": [
    {
     "data": {
      "text/plain": [
       "[('client_id', 135493),\n",
       " ('invoice_date', 8275),\n",
       " ('tarif_type', 16),\n",
       " ('counter_number', 201712),\n",
       " ('counter_statue', 11),\n",
       " ('counter_code', 41),\n",
       " ('reading_remarque', 7),\n",
       " ('counter_coefficient', 16),\n",
       " ('consommation_level_1', 8292),\n",
       " ('consommation_level_2', 12576),\n",
       " ('consommation_level_3', 2253),\n",
       " ('consommation_level_4', 12075),\n",
       " ('old_index', 155648),\n",
       " ('new_index', 157980),\n",
       " ('months_number', 1370),\n",
       " ('counter_type', 2)]"
      ]
     },
     "execution_count": 17,
     "metadata": {},
     "output_type": "execute_result"
    }
   ],
   "source": [
    "val_dis"
   ]
  },
  {
   "cell_type": "markdown",
   "metadata": {},
   "source": [
    "### Feature Engineering:"
   ]
  },
  {
   "cell_type": "code",
   "execution_count": 18,
   "metadata": {},
   "outputs": [],
   "source": [
    "def feat_eng(clientes, facturas):\n",
    "    \n",
    "    # This function creates new variables from the original information:\n",
    "    \n",
    "    # Drop unnecesary columns:\n",
    "\n",
    "    clientes = clientes.copy()\n",
    "    facturas = facturas.drop(['counter_code', 'old_index', 'new_index'], axis=1)\n",
    "\n",
    "    # Invoice date:\n",
    "\n",
    "    df_fechas = clientes[['client_id', 'creation_date']].merge(facturas[['client_id', 'invoice_date']], on='client_id', how='left')\n",
    "    df_fechas['creation_date'] =  pd.to_datetime(df_fechas['creation_date'], format='%d/%m/%Y')\n",
    "    df_fechas['invoice_date'] =  pd.to_datetime(df_fechas['invoice_date'], format='%Y-%m-%d')\n",
    "    df_fechas['dif_fecha'] = df_fechas['invoice_date'] - df_fechas['creation_date']\n",
    "    df_fechas['dif_fecha'] = df_fechas['dif_fecha'].dt.days\n",
    "    df_min_ffact = df_fechas.groupby('client_id').min('dif_fecha').reset_index().rename(columns = {'dif_fecha':'min_fecha_fact'})\n",
    "    df_max_ffact = df_fechas.groupby('client_id').max('dif_fecha').reset_index().rename(columns = {'dif_fecha':'max_fecha_fact'})\n",
    "    df_mean_ffact = df_fechas.groupby('client_id').mean('dif_fecha').reset_index().rename(columns = {'dif_fecha':'mean_fecha_fact'})\n",
    "    df_fechas_gp = pd.concat([df_min_ffact, df_max_ffact['max_fecha_fact'], df_mean_ffact['mean_fecha_fact']], axis=1)\n",
    "\n",
    "    # Counter_statue:\n",
    "\n",
    "    df_counter = clientes[['client_id']].merge(facturas[['client_id', 'counter_statue']], on='client_id', how='left')\n",
    "    df_counter['counter_statue'] = np.where(df_counter['counter_statue']=='A', 4, df_counter['counter_statue'])\n",
    "    df_counter['counter_statue'] = np.where(df_counter['counter_statue']=='0', 0, df_counter['counter_statue'])\n",
    "    df_counter['counter_statue'] = df_counter['counter_statue'].astype(int)\n",
    "    df_counter['counter_statue'] = np.where(df_counter['counter_statue']>0, 1, df_counter['counter_statue'])\n",
    "\n",
    "    df_counter_min = df_counter.groupby('client_id').min('counter_statue').reset_index().rename(columns = {'counter_statue':'min_counter_fact'})\n",
    "    df_counter_max = df_counter.groupby('client_id').max('counter_statue').reset_index().rename(columns = {'counter_statue':'max_counter_fact'})\n",
    "    df_counter_mean = df_counter.groupby('client_id').mean('counter_statue').reset_index().rename(columns = {'counter_statue':'mean_counter_fact'})\n",
    "    df_counter_gp = pd.concat([df_counter_min, df_counter_max['max_counter_fact'], df_counter_mean['mean_counter_fact']], axis=1)\n",
    "    df_merged = df_fechas_gp.merge(df_counter_gp, on='client_id', how='inner')\n",
    "\n",
    "    # Reading_remarque:\n",
    "\n",
    "    df_remarque = facturas[['client_id', 'reading_remarque']]\n",
    "    df_remarque_max = df_remarque.groupby('client_id')['reading_remarque'].max().reset_index().rename(columns = {'reading_remarque':'max_remarque'})\n",
    "    df_remarque_min = df_remarque.groupby('client_id')['reading_remarque'].min().reset_index().rename(columns = {'reading_remarque':'min_remarque'})\n",
    "    df_remarque_range = df_remarque_max['max_remarque'] - df_remarque_min['min_remarque']\n",
    "    df_remarque_range = df_remarque_range.reset_index().rename(columns = {0:'range_remarque'}).drop('index', axis=1)\n",
    "    df_remarque_mean = df_remarque.groupby('client_id').mean('reading_remarque').reset_index().rename(columns = {'reading_remarque':'mean_remarque_fact'})\n",
    "    df_remarque_gp = pd.concat([df_remarque_min, df_remarque_max['max_remarque'], df_remarque_range, df_remarque_mean['mean_remarque_fact']], axis=1)\n",
    "    df_merged = df_merged.merge(df_remarque_gp, on='client_id', how='inner')\n",
    "\n",
    "\n",
    "    # Counter_coefficient:\n",
    "\n",
    "    df_coeff = facturas[['client_id', 'counter_coefficient']]\n",
    "    df_coeff_max = df_coeff.groupby('client_id')['counter_coefficient'].max().reset_index().rename(columns = {'counter_coefficient':'max_coeff'})\n",
    "    df_coeff_min = df_coeff.groupby('client_id')['counter_coefficient'].min().reset_index().rename(columns = {'counter_coefficient':'min_coeff'})\n",
    "    df_coeff_range = df_coeff_max['max_coeff'] - df_coeff_min['min_coeff']\n",
    "    df_coeff_range = df_coeff_range.reset_index().rename(columns = {0:'range_coef'}).drop('index', axis=1)\n",
    "    df_coeff_mean = df_coeff.groupby('client_id').mean('counter_coefficient').reset_index().rename(columns = {'counter_coefficient':'mean_coeff'})\n",
    "    df_coeff_gp = pd.concat([df_coeff_max, df_coeff_min['min_coeff'], df_coeff_range, df_coeff_mean['mean_coeff']], axis=1)\n",
    "    df_merged = df_merged.merge(df_coeff_gp, on='client_id', how='inner')\n",
    "\n",
    "    # Conso1:\n",
    "\n",
    "    df_conso1 = facturas[['client_id', 'consommation_level_1']]\n",
    "    df_conso1_sum = df_conso1.groupby('client_id')['consommation_level_1'].sum().reset_index().rename(columns = {'consommation_level_1':'sum_con1'})\n",
    "    df_conso1_mean = df_conso1.groupby('client_id')['consommation_level_1'].mean().reset_index().rename(columns = {'consommation_level_1':'mean_con1'})\n",
    "    df_conso1_min = df_conso1.groupby('client_id')['consommation_level_1'].min().reset_index().rename(columns = {'consommation_level_1':'min_con1'})\n",
    "    df_conso1_max = df_conso1.groupby('client_id')['consommation_level_1'].max().reset_index().rename(columns = {'consommation_level_1':'max_con1'})\n",
    "    df_conso1_range = df_conso1_max['max_con1'] - df_conso1_min['min_con1']\n",
    "    df_conso1_range = df_conso1_range.reset_index().rename(columns = {0:'range_con1'}).drop('index', axis=1)\n",
    "    df_conso1_gp = pd.concat([df_conso1_sum, df_conso1_mean['mean_con1'], df_conso1_min['min_con1'], df_conso1_max['max_con1'], df_conso1_range], axis=1)\n",
    "    df_merged = df_merged.merge(df_conso1_gp, on='client_id', how='inner')\n",
    "\n",
    "    # Conso2:\n",
    "\n",
    "    df_conso2 = facturas[['client_id', 'consommation_level_2']]\n",
    "    df_conso2_sum = df_conso2.groupby('client_id')['consommation_level_2'].sum().reset_index().rename(columns = {'consommation_level_2':'sum_con2'})\n",
    "    df_conso2_mean = df_conso2.groupby('client_id')['consommation_level_2'].mean().reset_index().rename(columns = {'consommation_level_2':'mean_con2'})\n",
    "    df_conso2_min = df_conso2.groupby('client_id')['consommation_level_2'].min().reset_index().rename(columns = {'consommation_level_2':'min_con2'})\n",
    "    df_conso2_max = df_conso2.groupby('client_id')['consommation_level_2'].max().reset_index().rename(columns = {'consommation_level_2':'max_con2'})\n",
    "    df_conso2_range = df_conso2_max['max_con2'] - df_conso2_min['min_con2']\n",
    "    df_conso2_range = df_conso2_range.reset_index().rename(columns = {0:'range_con2'}).drop('index', axis=1)\n",
    "    df_conso2_gp = pd.concat([df_conso2_sum, df_conso2_mean['mean_con2'], df_conso2_min['min_con2'], df_conso2_max['max_con2'], df_conso2_range], axis=1)\n",
    "    df_merged = df_merged.merge(df_conso2_gp, on='client_id', how='inner')\n",
    "\n",
    "    # Conso3:\n",
    "\n",
    "    df_conso3 = facturas[['client_id', 'consommation_level_3']]\n",
    "    df_conso3_sum = df_conso3.groupby('client_id')['consommation_level_3'].sum().reset_index().rename(columns = {'consommation_level_3':'sum_con3'})\n",
    "    df_conso3_mean = df_conso3.groupby('client_id')['consommation_level_3'].mean().reset_index().rename(columns = {'consommation_level_3':'mean_con3'})\n",
    "    df_conso3_min = df_conso3.groupby('client_id')['consommation_level_3'].min().reset_index().rename(columns = {'consommation_level_3':'min_con3'})\n",
    "    df_conso3_max = df_conso3.groupby('client_id')['consommation_level_3'].max().reset_index().rename(columns = {'consommation_level_3':'max_con3'})\n",
    "    df_conso3_range = df_conso3_max['max_con3'] - df_conso3_min['min_con3']\n",
    "    df_conso3_range = df_conso3_range.reset_index().rename(columns = {0:'range_con3'}).drop('index', axis=1)\n",
    "    df_conso3_gp = pd.concat([df_conso3_sum, df_conso3_mean['mean_con3'], df_conso3_min['min_con3'], df_conso3_max['max_con3'], df_conso3_range], axis=1)\n",
    "    df_merged = df_merged.merge(df_conso3_gp, on='client_id', how='inner')\n",
    "\n",
    "    # Conso4:\n",
    "\n",
    "    df_conso4 = facturas[['client_id', 'consommation_level_4']]\n",
    "    df_conso4_sum = df_conso4.groupby('client_id')['consommation_level_4'].sum().reset_index().rename(columns = {'consommation_level_4':'sum_con4'})\n",
    "    df_conso4_mean = df_conso4.groupby('client_id')['consommation_level_4'].mean().reset_index().rename(columns = {'consommation_level_4':'mean_con4'})\n",
    "    df_conso4_min = df_conso4.groupby('client_id')['consommation_level_4'].min().reset_index().rename(columns = {'consommation_level_4':'min_con4'})\n",
    "    df_conso4_max = df_conso4.groupby('client_id')['consommation_level_4'].max().reset_index().rename(columns = {'consommation_level_4':'max_con4'})\n",
    "    df_conso4_range = df_conso4_max['max_con4'] - df_conso4_min['min_con4']\n",
    "    df_conso4_range = df_conso4_range.reset_index().rename(columns = {0:'range_con4'}).drop('index', axis=1)\n",
    "    df_conso4_gp = pd.concat([df_conso4_sum, df_conso4_mean['mean_con4'], df_conso4_min['min_con4'], df_conso4_max['max_con4'], df_conso4_range], axis=1)\n",
    "    df_merged = df_merged.merge(df_conso4_gp, on='client_id', how='inner')\n",
    "\n",
    "    # Counter_type:\n",
    "\n",
    "    df_counter = pd.concat([facturas['client_id'], pd.get_dummies(facturas['counter_type'], prefix='counter_type')], axis=1)\n",
    "    df_counter_ele = df_counter.groupby('client_id')['counter_type_ELEC'].max().reset_index()\n",
    "    df_counter_gas = df_counter.groupby('client_id')['counter_type_GAZ'].max().reset_index()\n",
    "    df_counter_gp = pd.concat([df_counter_ele, df_counter_gas['counter_type_GAZ']], axis=1)\n",
    "    df_merged = df_merged.merge(df_counter_gp, on='client_id', how='inner')\n",
    "    \n",
    "    # Features generation:\n",
    "    \n",
    "    df_merged_drop = df_merged.drop('client_id', axis=1)\n",
    "    poly = PolynomialFeatures(2)\n",
    "    ls_features = poly.fit_transform(df_merged_drop)\n",
    "    df_features_trans = pd.DataFrame(ls_features)\n",
    "    df_features_trans.columns = poly.get_feature_names(input_features=df_merged_drop.columns)\n",
    "    output_inv = pd.concat([df_merged['client_id'], df_features_trans.iloc[:,1:]], axis=1)\n",
    "    \n",
    "    # Client variables (one hot encoding):\n",
    "    \n",
    "    output_cli = clientes.drop('creation_date', axis = 1)[['client_id', 'target', 'client_catg', 'disrict', 'region']]\n",
    "    output_cli = pd.concat([output_cli, \n",
    "                        pd.get_dummies(output_cli['client_catg'], prefix = 'category'), \n",
    "                        pd.get_dummies(output_cli['disrict'], prefix = 'district'),\n",
    "                        pd.get_dummies(output_cli['region'], prefix = 'region')], axis=1).drop(['client_catg', \n",
    "                                                                                                'disrict', \n",
    "                                                                                                'region'], axis=1)\n",
    "    \n",
    "    df_features = output_cli.merge(output_inv, on='client_id', how = 'inner')\n",
    "    \n",
    "    return(df_features)"
   ]
  },
  {
   "cell_type": "code",
   "execution_count": 19,
   "metadata": {},
   "outputs": [],
   "source": [
    "df_features_train = feat_eng(cli_train, inv_train)"
   ]
  },
  {
   "cell_type": "code",
   "execution_count": 20,
   "metadata": {},
   "outputs": [
    {
     "data": {
      "text/plain": [
       "(135493, 736)"
      ]
     },
     "execution_count": 20,
     "metadata": {},
     "output_type": "execute_result"
    }
   ],
   "source": [
    "df_features_train.shape"
   ]
  },
  {
   "cell_type": "markdown",
   "metadata": {},
   "source": [
    "### Feature selection:"
   ]
  },
  {
   "cell_type": "markdown",
   "metadata": {},
   "source": [
    "#### Feature importance (Tree model based):"
   ]
  },
  {
   "cell_type": "code",
   "execution_count": 21,
   "metadata": {},
   "outputs": [],
   "source": [
    "def feat_sel(df_features):\n",
    "    \n",
    "    dataframe = df_features.drop('client_id', axis=1)\n",
    "    X = dataframe.values\n",
    "    Y = df_features['target'].values\n",
    "    \n",
    "    # feature extraction\n",
    "    model = ExtraTreesClassifier(n_estimators=50)\n",
    "    model.fit(X, Y)\n",
    "    importances = model.feature_importances_\n",
    "    imp_bool = importances > importances.mean()\n",
    "    imp_cols = [dataframe.columns[i] for i in range(len(imp_bool)) if imp_bool[i] == True]\n",
    "    output = pd.concat([df_features['client_id'], dataframe[imp_cols]], axis = 1)\n",
    "    \n",
    "    return(output)"
   ]
  },
  {
   "cell_type": "code",
   "execution_count": 22,
   "metadata": {},
   "outputs": [],
   "source": [
    "np.random.seed(111)\n",
    "\n",
    "df_feat_train_red = feat_sel(df_features_train)"
   ]
  },
  {
   "cell_type": "code",
   "execution_count": 23,
   "metadata": {},
   "outputs": [
    {
     "data": {
      "text/plain": [
       "(135493, 85)"
      ]
     },
     "execution_count": 23,
     "metadata": {},
     "output_type": "execute_result"
    }
   ],
   "source": [
    "df_feat_train_red.shape"
   ]
  },
  {
   "cell_type": "markdown",
   "metadata": {},
   "source": [
    "#### Remove correlated features:"
   ]
  },
  {
   "cell_type": "code",
   "execution_count": 24,
   "metadata": {},
   "outputs": [],
   "source": [
    "def drop_cor(tabla, umbral):\n",
    "    tabla = tabla.drop(['client_id', 'target'], axis=1)\n",
    "    cor_mat = tabla.corr().abs()\n",
    "    up = cor_mat.where(np.triu(np.ones(cor_mat.shape), k=1).astype(np.bool))\n",
    "    to_drop = [column for column in up.columns if any(up[column] > umbral)]\n",
    "    output = tabla.drop(to_drop, axis=1, inplace=True)\n",
    "    return(output)"
   ]
  },
  {
   "cell_type": "code",
   "execution_count": 77,
   "metadata": {},
   "outputs": [],
   "source": [
    "df_feat_train_red_2 = df_feat_train_red.drop(['client_id', 'target'], axis=1)\n",
    "cor_mat = df_feat_train_red_2.corr().abs()\n",
    "up = cor_mat.where(np.triu(np.ones(cor_mat.shape), k=1).astype(bool))\n",
    "to_drop = [column for column in up.columns if any(up[column] > 0.90)]\n",
    "df_feat_train_red_2.drop(to_drop, axis=1, inplace=True)\n",
    "df_feat_final = pd.concat([df_feat_train_red[['client_id', 'target']], df_feat_train_red_2], axis=1)"
   ]
  },
  {
   "cell_type": "code",
   "execution_count": 78,
   "metadata": {},
   "outputs": [
    {
     "data": {
      "text/plain": [
       "0"
      ]
     },
     "execution_count": 78,
     "metadata": {},
     "output_type": "execute_result"
    }
   ],
   "source": [
    "missing_features = missing(df_feat_final)\n",
    "sum(missing_features)"
   ]
  },
  {
   "cell_type": "code",
   "execution_count": 79,
   "metadata": {},
   "outputs": [
    {
     "data": {
      "text/plain": [
       "(135493, 24)"
      ]
     },
     "execution_count": 79,
     "metadata": {},
     "output_type": "execute_result"
    }
   ],
   "source": [
    "df_feat_final.shape"
   ]
  },
  {
   "cell_type": "markdown",
   "metadata": {},
   "source": [
    "#### Balancing target variable:"
   ]
  },
  {
   "cell_type": "code",
   "execution_count": 80,
   "metadata": {},
   "outputs": [
    {
     "data": {
      "text/html": [
       "<div>\n",
       "<style scoped>\n",
       "    .dataframe tbody tr th:only-of-type {\n",
       "        vertical-align: middle;\n",
       "    }\n",
       "\n",
       "    .dataframe tbody tr th {\n",
       "        vertical-align: top;\n",
       "    }\n",
       "\n",
       "    .dataframe thead th {\n",
       "        text-align: right;\n",
       "    }\n",
       "</style>\n",
       "<table border=\"1\" class=\"dataframe\">\n",
       "  <thead>\n",
       "    <tr style=\"text-align: right;\">\n",
       "      <th></th>\n",
       "      <th>index</th>\n",
       "      <th>target</th>\n",
       "    </tr>\n",
       "  </thead>\n",
       "  <tbody>\n",
       "    <tr>\n",
       "      <th>0</th>\n",
       "      <td>0.0</td>\n",
       "      <td>0.944159</td>\n",
       "    </tr>\n",
       "    <tr>\n",
       "      <th>1</th>\n",
       "      <td>1.0</td>\n",
       "      <td>0.055841</td>\n",
       "    </tr>\n",
       "  </tbody>\n",
       "</table>\n",
       "</div>"
      ],
      "text/plain": [
       "   index    target\n",
       "0    0.0  0.944159\n",
       "1    1.0  0.055841"
      ]
     },
     "execution_count": 80,
     "metadata": {},
     "output_type": "execute_result"
    }
   ],
   "source": [
    "df_feat_final['target'].value_counts().reset_index().apply(lambda x: x/x.sum())"
   ]
  },
  {
   "cell_type": "code",
   "execution_count": 81,
   "metadata": {},
   "outputs": [],
   "source": [
    "def balance_data(tabla, under_s, over_s, balan = True):\n",
    "    \n",
    "    y = tabla['target']\n",
    "    X = tabla.drop(['target', 'client_id'], axis=1)\n",
    "    if(balan == True):\n",
    "        if((under_s[0] == True) and (over_s[0] == True)):\n",
    "            under = RandomUnderSampler(sampling_strategy=under_s[1])\n",
    "            over = SMOTE(sampling_strategy=over_s[1])\n",
    "            steps = [('u', under), ('o', over)]\n",
    "        elif((under_s[0] == True) and (over_s[0] == False)):\n",
    "            under = RandomUnderSampler(sampling_strategy=under_s[1])\n",
    "            steps = [('u', under)]\n",
    "        elif((under_s[0] == False) and (over_s[0] == True)):\n",
    "            over = SMOTE(sampling_strategy=over_s[1])\n",
    "            steps = [('o', over)]\n",
    "        pipeline = Pipeline(steps=steps)\n",
    "        X, y = pipeline.fit_resample(X, y)\n",
    "    \n",
    "    return(y, X)"
   ]
  },
  {
   "cell_type": "code",
   "execution_count": 82,
   "metadata": {},
   "outputs": [],
   "source": [
    "y, X = balance_data(df_feat_final, (True, 0.4), (True, 0.8), balan = True)"
   ]
  },
  {
   "cell_type": "markdown",
   "metadata": {},
   "source": [
    "### Modelling:"
   ]
  },
  {
   "cell_type": "markdown",
   "metadata": {},
   "source": [
    "#### DBScan model:"
   ]
  },
  {
   "cell_type": "code",
   "execution_count": 83,
   "metadata": {},
   "outputs": [],
   "source": [
    "# Determining minimum number of samples:\n",
    "minsamps = 2*(X.shape[1]+1)"
   ]
  },
  {
   "cell_type": "code",
   "execution_count": 84,
   "metadata": {},
   "outputs": [
    {
     "data": {
      "image/png": "[encoded data removed]",
      "text/plain": [
       "<Figure size 432x288 with 1 Axes>"
      ]
     },
     "metadata": {
      "needs_background": "light"
     },
     "output_type": "display_data"
    }
   ],
   "source": [
    "# Determining the value of epsilon parameter:\n",
    "neigh = NearestNeighbors(n_neighbors=minsamps)\n",
    "nbrs = neigh.fit(X)\n",
    "distances, indices = nbrs.kneighbors(X)\n",
    "distances = np.sort(distances, axis=0)\n",
    "dist = distances[:,1]\n",
    "plt.plot(dist)\n",
    "plt.show()"
   ]
  },
  {
   "cell_type": "code",
   "execution_count": 85,
   "metadata": {},
   "outputs": [],
   "source": [
    "rate = [dist[i] / dist[i-1] for i in range(len(distances)) if i > 0]\n",
    "rate = np.nan_to_num(rate)\n",
    "epsilon = np.argmax(rate)"
   ]
  },
  {
   "cell_type": "code",
   "execution_count": 86,
   "metadata": {},
   "outputs": [],
   "source": [
    "preds = DBSCAN(metric = 'l2', eps=epsilon, min_samples=minsamps, algorithm='auto').fit(X)\n",
    "y_pred = np.where(pd.DataFrame(preds.labels_).rename(columns={0:'preds'})['preds'] == -1, 1, 0)"
   ]
  },
  {
   "cell_type": "code",
   "execution_count": 87,
   "metadata": {},
   "outputs": [
    {
     "data": {
      "text/html": [
       "<div>\n",
       "<style scoped>\n",
       "    .dataframe tbody tr th:only-of-type {\n",
       "        vertical-align: middle;\n",
       "    }\n",
       "\n",
       "    .dataframe tbody tr th {\n",
       "        vertical-align: top;\n",
       "    }\n",
       "\n",
       "    .dataframe thead th {\n",
       "        text-align: right;\n",
       "    }\n",
       "</style>\n",
       "<table border=\"1\" class=\"dataframe\">\n",
       "  <thead>\n",
       "    <tr style=\"text-align: right;\">\n",
       "      <th>Predicted</th>\n",
       "      <th>0</th>\n",
       "      <th>1</th>\n",
       "    </tr>\n",
       "    <tr>\n",
       "      <th>Actual</th>\n",
       "      <th></th>\n",
       "      <th></th>\n",
       "    </tr>\n",
       "  </thead>\n",
       "  <tbody>\n",
       "    <tr>\n",
       "      <th>0.0</th>\n",
       "      <td>415</td>\n",
       "      <td>18500</td>\n",
       "    </tr>\n",
       "    <tr>\n",
       "      <th>1.0</th>\n",
       "      <td>37</td>\n",
       "      <td>15095</td>\n",
       "    </tr>\n",
       "  </tbody>\n",
       "</table>\n",
       "</div>"
      ],
      "text/plain": [
       "Predicted    0      1\n",
       "Actual               \n",
       "0.0        415  18500\n",
       "1.0         37  15095"
      ]
     },
     "execution_count": 87,
     "metadata": {},
     "output_type": "execute_result"
    }
   ],
   "source": [
    "y = pd.Series(y, name='Actual')\n",
    "y_pred = pd.Series(y_pred, name='Predicted')\n",
    "c_mat = pd.crosstab(y, y_pred)\n",
    "c_mat"
   ]
  },
  {
   "cell_type": "code",
   "execution_count": 88,
   "metadata": {},
   "outputs": [
    {
     "name": "stdout",
     "output_type": "stream",
     "text": [
      "ROC AUC: 50.97%\n",
      "Accuracy: 45.55%\n",
      "Precision: 44.93%\n",
      "Recall: 99.76%\n",
      "F1: 61.96%\n"
     ]
    }
   ],
   "source": [
    "fpr, tpr, thresholds = metrics.roc_curve(y, y_pred, pos_label=1)\n",
    "print(\"ROC AUC: %.2f%%\" % (round(metrics.auc(fpr, tpr)*100, 2)))\n",
    "accuracy = accuracy_score(y, y_pred)\n",
    "print(\"Accuracy: %.2f%%\" % (accuracy * 100.0))\n",
    "precision = precision_score(y, y_pred)\n",
    "print(\"Precision: %.2f%%\" % (precision * 100.0))\n",
    "recall = recall_score(y, y_pred)\n",
    "print(\"Recall: %.2f%%\" % (recall * 100.0))\n",
    "f1 = f1_score(y, y_pred)\n",
    "print(\"F1: %.2f%%\" % (f1 * 100.0))"
   ]
  }
 ],
 "metadata": {
  "interpreter": {
   "hash": "916dbcbb3f70747c44a77c7bcd40155683ae19c65e1c03b4aa3499c5328201f1"
  },
  "kernelspec": {
   "display_name": "Python 3.8.10 64-bit",
   "language": "python",
   "name": "python3"
  },
  "language_info": {
   "codemirror_mode": {
    "name": "ipython",
    "version": 3
   },
   "file_extension": ".py",
   "mimetype": "text/x-python",
   "name": "python",
   "nbconvert_exporter": "python",
   "pygments_lexer": "ipython3",
   "version": "3.8.10"
  },
  "orig_nbformat": 4
 },
 "nbformat": 4,
 "nbformat_minor": 2
}
